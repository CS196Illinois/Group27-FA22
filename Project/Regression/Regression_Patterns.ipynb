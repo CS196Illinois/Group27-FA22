{
 "cells": [
  {
   "cell_type": "code",
   "execution_count": 1,
   "metadata": {},
   "outputs": [],
   "source": [
    "import pandas as pd\n",
    "import numpy as np\n",
    "import torch\n",
    "from torch import nn\n",
    "import matplotlib.pyplot as plt"
   ]
  },
  {
   "cell_type": "code",
   "execution_count": 2,
   "metadata": {},
   "outputs": [],
   "source": [
    "df = pd.read_pickle('/Users/brian/School/School.Compsci/CS124H Project/Group27-FA22/Project/Regression/big_ten_stats_df_2022')"
   ]
  },
  {
   "cell_type": "code",
   "execution_count": 3,
   "metadata": {},
   "outputs": [],
   "source": [
    "y = np.array(df.pop('win_percentage'))"
   ]
  },
  {
   "cell_type": "code",
   "execution_count": 4,
   "metadata": {},
   "outputs": [],
   "source": [
    "\n",
    "\n",
    "\n",
    "y = (torch.from_numpy(y)).type(torch.float)"
   ]
  },
  {
   "cell_type": "code",
   "execution_count": 5,
   "metadata": {},
   "outputs": [
    {
     "name": "stdout",
     "output_type": "stream",
     "text": [
      "<class 'pandas.core.frame.DataFrame'>\n",
      "RangeIndex: 112 entries, 0 to 111\n",
      "Data columns (total 84 columns):\n",
      " #   Column                                  Non-Null Count  Dtype  \n",
      "---  ------                                  --------------  -----  \n",
      " 0   abbreviation                            112 non-null    object \n",
      " 1   Year                                    112 non-null    object \n",
      " 2   assist_percentage                       112 non-null    float64\n",
      " 3   assists                                 112 non-null    int64  \n",
      " 4   away_losses                             112 non-null    int64  \n",
      " 5   away_wins                               112 non-null    int64  \n",
      " 6   block_percentage                        112 non-null    float64\n",
      " 7   blocks                                  112 non-null    int64  \n",
      " 8   conference                              112 non-null    object \n",
      " 9   conference_losses                       112 non-null    int64  \n",
      " 10  conference_wins                         112 non-null    int64  \n",
      " 11  defensive_rebounds                      112 non-null    int64  \n",
      " 12  effective_field_goal_percentage         112 non-null    float64\n",
      " 13  field_goal_attempts                     112 non-null    int64  \n",
      " 14  field_goal_percentage                   112 non-null    float64\n",
      " 15  field_goals                             112 non-null    int64  \n",
      " 16  free_throw_attempt_rate                 112 non-null    float64\n",
      " 17  free_throw_attempts                     112 non-null    int64  \n",
      " 18  free_throw_percentage                   112 non-null    float64\n",
      " 19  free_throws                             112 non-null    int64  \n",
      " 20  free_throws_per_field_goal_attempt      112 non-null    float64\n",
      " 21  games_played                            112 non-null    int64  \n",
      " 22  home_losses                             112 non-null    int64  \n",
      " 23  home_wins                               112 non-null    int64  \n",
      " 24  losses                                  112 non-null    int64  \n",
      " 25  minutes_played                          112 non-null    int64  \n",
      " 26  name                                    112 non-null    object \n",
      " 27  net_rating                              0 non-null      object \n",
      " 28  offensive_rating                        112 non-null    float64\n",
      " 29  offensive_rebound_percentage            112 non-null    float64\n",
      " 30  offensive_rebounds                      112 non-null    int64  \n",
      " 31  opp_assist_percentage                   112 non-null    float64\n",
      " 32  opp_assists                             112 non-null    int64  \n",
      " 33  opp_block_percentage                    112 non-null    float64\n",
      " 34  opp_blocks                              112 non-null    int64  \n",
      " 35  opp_defensive_rebounds                  112 non-null    int64  \n",
      " 36  opp_effective_field_goal_percentage     112 non-null    float64\n",
      " 37  opp_field_goal_attempts                 112 non-null    int64  \n",
      " 38  opp_field_goal_percentage               112 non-null    float64\n",
      " 39  opp_field_goals                         112 non-null    int64  \n",
      " 40  opp_free_throw_attempt_rate             112 non-null    float64\n",
      " 41  opp_free_throw_attempts                 112 non-null    int64  \n",
      " 42  opp_free_throw_percentage               112 non-null    float64\n",
      " 43  opp_free_throws                         112 non-null    int64  \n",
      " 44  opp_free_throws_per_field_goal_attempt  112 non-null    float64\n",
      " 45  opp_offensive_rating                    0 non-null      object \n",
      " 46  opp_offensive_rebound_percentage        112 non-null    float64\n",
      " 47  opp_offensive_rebounds                  112 non-null    int64  \n",
      " 48  opp_personal_fouls                      112 non-null    int64  \n",
      " 49  opp_points                              112 non-null    int64  \n",
      " 50  opp_steal_percentage                    112 non-null    float64\n",
      " 51  opp_steals                              112 non-null    int64  \n",
      " 52  opp_three_point_attempt_rate            112 non-null    float64\n",
      " 53  opp_three_point_field_goal_attempts     112 non-null    int64  \n",
      " 54  opp_three_point_field_goal_percentage   112 non-null    float64\n",
      " 55  opp_three_point_field_goals             112 non-null    int64  \n",
      " 56  opp_two_point_field_goal_attempts       112 non-null    int64  \n",
      " 57  opp_two_point_field_goal_percentage     112 non-null    float64\n",
      " 58  opp_two_point_field_goals               112 non-null    int64  \n",
      " 59  opp_total_rebound_percentage            112 non-null    float64\n",
      " 60  opp_total_rebounds                      112 non-null    int64  \n",
      " 61  opp_true_shooting_percentage            112 non-null    float64\n",
      " 62  opp_turnover_percentage                 112 non-null    float64\n",
      " 63  opp_turnovers                           112 non-null    int64  \n",
      " 64  pace                                    112 non-null    float64\n",
      " 65  personal_fouls                          112 non-null    int64  \n",
      " 66  points                                  112 non-null    int64  \n",
      " 67  simple_rating_system                    112 non-null    float64\n",
      " 68  steal_percentage                        112 non-null    float64\n",
      " 69  steals                                  112 non-null    int64  \n",
      " 70  strength_of_schedule                    112 non-null    float64\n",
      " 71  three_point_attempt_rate                112 non-null    float64\n",
      " 72  three_point_field_goal_attempts         112 non-null    int64  \n",
      " 73  three_point_field_goal_percentage       112 non-null    float64\n",
      " 74  three_point_field_goals                 112 non-null    int64  \n",
      " 75  two_point_field_goal_attempts           112 non-null    int64  \n",
      " 76  two_point_field_goal_percentage         112 non-null    float64\n",
      " 77  two_point_field_goals                   112 non-null    int64  \n",
      " 78  total_rebound_percentage                112 non-null    float64\n",
      " 79  total_rebounds                          112 non-null    int64  \n",
      " 80  true_shooting_percentage                112 non-null    float64\n",
      " 81  turnover_percentage                     112 non-null    float64\n",
      " 82  turnovers                               112 non-null    int64  \n",
      " 83  wins                                    112 non-null    int64  \n",
      "dtypes: float64(34), int64(44), object(6)\n",
      "memory usage: 73.6+ KB\n"
     ]
    }
   ],
   "source": [
    "df.info()"
   ]
  },
  {
   "cell_type": "code",
   "execution_count": 6,
   "metadata": {},
   "outputs": [],
   "source": [
    "X = np.array(df[['free_throw_attempt_rate']])\n",
    "X = torch.from_numpy(X).type(torch.float)\n"
   ]
  },
  {
   "cell_type": "code",
   "execution_count": 7,
   "metadata": {},
   "outputs": [],
   "source": [
    "means = X.mean(1, keepdim=True)\n",
    "deviations = X.std(1, keepdim=True)"
   ]
  },
  {
   "cell_type": "code",
   "execution_count": 8,
   "metadata": {},
   "outputs": [
    {
     "data": {
      "text/plain": [
       "(89, 89, 23, 23)"
      ]
     },
     "execution_count": 8,
     "metadata": {},
     "output_type": "execute_result"
    }
   ],
   "source": [
    "train_split = int(0.8 * len(X))\n",
    "X_train, y_train = X[:train_split], y[:train_split]\n",
    "X_test, y_test = X[train_split:], y[train_split:]\n",
    "len(X_train), len(y_train), len(X_test), len(y_test)\n",
    "\n"
   ]
  },
  {
   "cell_type": "code",
   "execution_count": 9,
   "metadata": {},
   "outputs": [],
   "source": [
    "def plot_predictions(train_data=X_train, \n",
    "                     train_labels=y_train, \n",
    "                     test_data=X_test, \n",
    "                     test_labels=y_test, \n",
    "                     predictions=None):\n",
    "  \"\"\"\n",
    "  Plots training data, test data and compares predictions.\n",
    "  \"\"\"\n",
    "  plt.figure(figsize=(10, 7))\n",
    "\n",
    "  # Plot training data in blue\n",
    "  plt.scatter(train_data, train_labels, c=\"b\", s=4, label=\"Training data\")\n",
    "  \n",
    "  # Plot test data in green\n",
    "  plt.scatter(test_data, test_labels, c=\"g\", s=4, label=\"Testing data\")\n",
    "\n",
    "  if predictions is not None:\n",
    "    # Plot the predictions in red (predictions were made on the test data)\n",
    "    plt.scatter(test_data, predictions, c=\"r\", s=4, label=\"Predictions\")\n",
    "\n",
    "  # Show the legend\n",
    "  plt.legend(prop={\"size\": 14});"
   ]
  },
  {
   "cell_type": "code",
   "execution_count": 10,
   "metadata": {},
   "outputs": [
    {
     "data": {
      "image/png": "[encoded data removed]",
      "text/plain": [
       "<Figure size 1000x700 with 1 Axes>"
      ]
     },
     "metadata": {},
     "output_type": "display_data"
    }
   ],
   "source": [
    "plot_predictions(X_train, y_train, X_test, y_test)"
   ]
  },
  {
   "cell_type": "code",
   "execution_count": 11,
   "metadata": {},
   "outputs": [
    {
     "data": {
      "text/plain": [
       "(LinearRegressionModel(\n",
       "   (linear_layer): Linear(in_features=1, out_features=1, bias=True)\n",
       " ),\n",
       " OrderedDict([('linear_layer.weight', tensor([[0.7645]])),\n",
       "              ('linear_layer.bias', tensor([0.8300]))]))"
      ]
     },
     "execution_count": 11,
     "metadata": {},
     "output_type": "execute_result"
    }
   ],
   "source": [
    "class LinearRegressionModel(nn.Module):\n",
    "    def __init__(self):\n",
    "        super().__init__()\n",
    "\n",
    "        self.linear_layer = nn.Linear(in_features=1, out_features=1)\n",
    "\n",
    "\n",
    "    def forward(self, x: torch.Tensor) -> torch.Tensor:\n",
    "        return self.linear_layer(x)\n",
    "torch.manual_seed(42)\n",
    "model = LinearRegressionModel()\n",
    "model, model.state_dict()"
   ]
  },
  {
   "cell_type": "code",
   "execution_count": 12,
   "metadata": {},
   "outputs": [],
   "source": [
    "loss_fn = nn.L1Loss()\n",
    "\n",
    "optimizer = torch.optim.SGD(params = model.parameters(), lr=0.01)"
   ]
  },
  {
   "cell_type": "code",
   "execution_count": 13,
   "metadata": {},
   "outputs": [
    {
     "name": "stdout",
     "output_type": "stream",
     "text": [
      "Epoch: 0 | Loss: 0.48906195163726807 | Test Loss: 0.5079540610313416\n",
      "Epoch: 10 | Loss: 0.37800225615501404 | Test Loss: 0.3977010250091553\n",
      "Epoch: 20 | Loss: 0.26894477009773254 | Test Loss: 0.2893563508987427\n",
      "Epoch: 30 | Loss: 0.18308068811893463 | Test Loss: 0.20718243718147278\n",
      "Epoch: 40 | Loss: 0.13857044279575348 | Test Loss: 0.1634169965982437\n",
      "Epoch: 50 | Loss: 0.12493304163217545 | Test Loss: 0.1443941295146942\n",
      "Epoch: 60 | Loss: 0.12180616706609726 | Test Loss: 0.13644534349441528\n",
      "Epoch: 70 | Loss: 0.12095696479082108 | Test Loss: 0.13278916478157043\n",
      "Epoch: 80 | Loss: 0.1206887811422348 | Test Loss: 0.13084904849529266\n",
      "Epoch: 90 | Loss: 0.1205969825387001 | Test Loss: 0.12978112697601318\n",
      "Epoch: 100 | Loss: 0.12056028097867966 | Test Loss: 0.12914593517780304\n",
      "Epoch: 110 | Loss: 0.12054871022701263 | Test Loss: 0.12882229685783386\n",
      "Epoch: 120 | Loss: 0.12054428458213806 | Test Loss: 0.12866325676441193\n",
      "Epoch: 130 | Loss: 0.12054193019866943 | Test Loss: 0.12860165536403656\n",
      "Epoch: 140 | Loss: 0.12053995579481125 | Test Loss: 0.12859347462654114\n",
      "Epoch: 150 | Loss: 0.12053804099559784 | Test Loss: 0.12859100103378296\n",
      "Epoch: 160 | Loss: 0.12053612619638443 | Test Loss: 0.12859345972537994\n",
      "Epoch: 170 | Loss: 0.12053422629833221 | Test Loss: 0.12859497964382172\n",
      "Epoch: 180 | Loss: 0.1205323114991188 | Test Loss: 0.1285964548587799\n",
      "Epoch: 190 | Loss: 0.12053041160106659 | Test Loss: 0.12859795987606049\n"
     ]
    },
    {
     "name": "stderr",
     "output_type": "stream",
     "text": [
      "/Users/brian/opt/anaconda3/envs/CS124H/lib/python3.9/site-packages/torch/nn/modules/loss.py:96: UserWarning: Using a target size (torch.Size([89])) that is different to the input size (torch.Size([89, 1])). This will likely lead to incorrect results due to broadcasting. Please ensure they have the same size.\n",
      "  return F.l1_loss(input, target, reduction=self.reduction)\n",
      "/Users/brian/opt/anaconda3/envs/CS124H/lib/python3.9/site-packages/torch/nn/modules/loss.py:96: UserWarning: Using a target size (torch.Size([23])) that is different to the input size (torch.Size([23, 1])). This will likely lead to incorrect results due to broadcasting. Please ensure they have the same size.\n",
      "  return F.l1_loss(input, target, reduction=self.reduction)\n"
     ]
    }
   ],
   "source": [
    "torch.manual_seed(42)\n",
    "\n",
    "epochs = 200\n",
    "\n",
    "for epoch in range(epochs):\n",
    "\n",
    "    model.train()\n",
    "\n",
    "    y_pred = model(X_train)\n",
    "\n",
    "    loss = loss_fn(y_pred, y_train)\n",
    "\n",
    "    optimizer.zero_grad()\n",
    "\n",
    "    loss.backward()\n",
    "\n",
    "    optimizer.step()\n",
    "\n",
    "\n",
    "    model.eval()\n",
    "    with torch.inference_mode():\n",
    "        test_pred = model(X_test)\n",
    "\n",
    "        test_loss = loss_fn(test_pred, y_test)\n",
    "\n",
    "    if epoch % 10 == 0:\n",
    "        print(f\"Epoch: {epoch} | Loss: {loss} | Test Loss: {test_loss}\")"
   ]
  },
  {
   "cell_type": "code",
   "execution_count": 14,
   "metadata": {},
   "outputs": [
    {
     "data": {
      "text/plain": [
       "OrderedDict([('linear_layer.weight', tensor([[0.6164]])),\n",
       "             ('linear_layer.bias', tensor([0.4102]))])"
      ]
     },
     "execution_count": 14,
     "metadata": {},
     "output_type": "execute_result"
    }
   ],
   "source": [
    "model.state_dict()"
   ]
  },
  {
   "cell_type": "code",
   "execution_count": 15,
   "metadata": {},
   "outputs": [
    {
     "data": {
      "text/plain": [
       "(tensor([[0.5772],\n",
       "         [0.6031],\n",
       "         [0.5976],\n",
       "         [0.6660],\n",
       "         [0.5772],\n",
       "         [0.6130],\n",
       "         [0.5815],\n",
       "         [0.6364],\n",
       "         [0.6019],\n",
       "         [0.6099],\n",
       "         [0.6074],\n",
       "         [0.6457],\n",
       "         [0.5951],\n",
       "         [0.6161],\n",
       "         [0.5717],\n",
       "         [0.5945],\n",
       "         [0.5914],\n",
       "         [0.6167],\n",
       "         [0.5680],\n",
       "         [0.6191],\n",
       "         [0.5446],\n",
       "         [0.5557],\n",
       "         [0.6154]]),\n",
       " tensor([0.5710, 0.5360, 0.8210, 0.4440, 0.3750, 0.5480, 0.4400, 0.4830, 0.2590,\n",
       "         0.7580, 0.6970, 0.7840, 0.7220, 0.6250, 0.5630, 0.6390, 0.5590, 0.6000,\n",
       "         0.4840, 0.4690, 0.4520, 0.4330, 0.3130]))"
      ]
     },
     "execution_count": 15,
     "metadata": {},
     "output_type": "execute_result"
    }
   ],
   "source": [
    "model.eval()\n",
    "with torch.inference_mode():\n",
    "    y_preds = model(X_test)\n",
    "y_preds, y_test"
   ]
  },
  {
   "cell_type": "code",
   "execution_count": 16,
   "metadata": {},
   "outputs": [
    {
     "data": {
      "image/png": "[encoded data removed]",
      "text/plain": [
       "<Figure size 1000x700 with 1 Axes>"
      ]
     },
     "metadata": {},
     "output_type": "display_data"
    }
   ],
   "source": [
    "plot_predictions(predictions = y_preds)"
   ]
  },
  {
   "cell_type": "code",
   "execution_count": 17,
   "metadata": {},
   "outputs": [],
   "source": [
    "mse = nn.MSELoss()"
   ]
  },
  {
   "cell_type": "code",
   "execution_count": 18,
   "metadata": {},
   "outputs": [
    {
     "name": "stderr",
     "output_type": "stream",
     "text": [
      "/Users/brian/opt/anaconda3/envs/CS124H/lib/python3.9/site-packages/torch/nn/modules/loss.py:530: UserWarning: Using a target size (torch.Size([23])) that is different to the input size (torch.Size([23, 1])). This will likely lead to incorrect results due to broadcasting. Please ensure they have the same size.\n",
      "  return F.mse_loss(input, target, reduction=self.reduction)\n"
     ]
    },
    {
     "data": {
      "text/plain": [
       "tensor(0.0242)"
      ]
     },
     "execution_count": 18,
     "metadata": {},
     "output_type": "execute_result"
    }
   ],
   "source": [
    "mse(y_preds, y_test)"
   ]
  },
  {
   "cell_type": "code",
   "execution_count": null,
   "metadata": {},
   "outputs": [],
   "source": []
  }
 ],
 "metadata": {
  "kernelspec": {
   "display_name": "Python 3.9.13 ('CS124H')",
   "language": "python",
   "name": "python3"
  },
  "language_info": {
   "codemirror_mode": {
    "name": "ipython",
    "version": 3
   },
   "file_extension": ".py",
   "mimetype": "text/x-python",
   "name": "python",
   "nbconvert_exporter": "python",
   "pygments_lexer": "ipython3",
   "version": "3.9.13"
  },
  "orig_nbformat": 4,
  "vscode": {
   "interpreter": {
    "hash": "26b6e482f160c39ead6be88959c60c9ec88a73e904e51ddabec4917e6c2aa810"
   }
  }
 },
 "nbformat": 4,
 "nbformat_minor": 2
}
