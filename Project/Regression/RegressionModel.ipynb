{
 "cells": [
  {
   "cell_type": "code",
   "execution_count": 1,
   "metadata": {},
   "outputs": [],
   "source": [
    "import pandas as pd\n",
    "import numpy as np\n",
    "import torch\n",
    "from torch import nn\n",
    "import matplotlib\n",
    "import matplotlib.pyplot as plt\n",
    "import seaborn as sns\n",
    "from __future__ import print_function\n",
    "import torch.nn.functional as F\n",
    "from torch.autograd import Variable\n",
    "import torch.utils.data as data_utils"
   ]
  },
  {
   "cell_type": "code",
   "execution_count": 3,
   "metadata": {},
   "outputs": [],
   "source": [
    "df= pd.read_pickle('big_ten_stats_df_2022')"
   ]
  },
  {
   "cell_type": "code",
   "execution_count": 11,
   "metadata": {},
   "outputs": [],
   "source": [
    "def training(model, loss_fn, optimizer, X_train, y_train, X_test, y_test, epochs=1000, RANDOM_SEED=42): \n",
    "        \n",
    "    torch.manual_seed(RANDOM_SEED)\n",
    "\n",
    "\n",
    "\n",
    "    for epoch in range(epochs):\n",
    "    \n",
    "        model.train()\n",
    "\n",
    "     \n",
    "        y_preds = model(X_train)\n",
    "\n",
    "        \n",
    "        loss = loss_fn(y_preds, y_train)\n",
    "\n",
    "        \n",
    "        optimizer.zero_grad()\n",
    "\n",
    "        \n",
    "        loss.backward()\n",
    "\n",
    "        \n",
    "        optimizer.step()\n",
    "\n",
    "        \n",
    "        if epoch % 100 == 0:\n",
    "\n",
    "            \n",
    "            model.eval()\n",
    "            with torch.inference_mode():\n",
    "            \n",
    "                test_pred = model(X_test)\n",
    "            \n",
    "                test_loss = loss_fn(test_pred, y_test)\n",
    "\n",
    "            # Print out what's happening\n",
    "            print(f\"Epoch: {epoch} | Train loss: {loss:.3f} | Test loss: {test_loss:.3f}\")"
   ]
  },
  {
   "cell_type": "code",
   "execution_count": null,
   "metadata": {},
   "outputs": [],
   "source": [
    "class MultipleLinearRegressionModelV0(nn.Module):\n",
    "  def __init__(self, in_features, out_features, hidden_units):\n",
    "      super().__init__()\n",
    "        \n",
    "      self.layer1 = nn.Linear(in_features=in_features, \n",
    "                                 out_features=hidden_units)\n",
    "      self.layer2 = nn.Linear(in_features=hidden_units, \n",
    "                                 out_features=hidden_units)\n",
    "      self.layer3 = nn.Linear(in_features=hidden_units,\n",
    "                                out_features=out_features)\n",
    "      self.relu = nn.ReLU()\n",
    "\n",
    "  def forward(self, x):\n",
    "      return self.layer3(self.relu(self.layer2(self.relu(self.layer1(x)))))"
   ]
  }
 ],
 "metadata": {
  "kernelspec": {
   "display_name": "Python 3.9.13 ('CS124H')",
   "language": "python",
   "name": "python3"
  },
  "language_info": {
   "codemirror_mode": {
    "name": "ipython",
    "version": 3
   },
   "file_extension": ".py",
   "mimetype": "text/x-python",
   "name": "python",
   "nbconvert_exporter": "python",
   "pygments_lexer": "ipython3",
   "version": "3.9.13"
  },
  "orig_nbformat": 4,
  "vscode": {
   "interpreter": {
    "hash": "26b6e482f160c39ead6be88959c60c9ec88a73e904e51ddabec4917e6c2aa810"
   }
  }
 },
 "nbformat": 4,
 "nbformat_minor": 2
}
