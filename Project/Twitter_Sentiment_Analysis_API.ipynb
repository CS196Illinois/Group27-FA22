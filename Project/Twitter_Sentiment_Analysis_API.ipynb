{
  "nbformat": 4,
  "nbformat_minor": 0,
  "metadata": {
    "colab": {
      "provenance": []
    },
    "kernelspec": {
      "name": "python3",
      "display_name": "Python 3"
    },
    "language_info": {
      "name": "python"
    },
    "widgets": {
      "application/vnd.jupyter.widget-state+json": {
        "66ca6ca5e9c74d1993beb5a5c56f455c": {
          "model_module": "@jupyter-widgets/controls",
          "model_name": "HBoxModel",
          "model_module_version": "1.5.0",
          "state": {
            "_dom_classes": [],
            "_model_module": "@jupyter-widgets/controls",
            "_model_module_version": "1.5.0",
            "_model_name": "HBoxModel",
            "_view_count": null,
            "_view_module": "@jupyter-widgets/controls",
            "_view_module_version": "1.5.0",
            "_view_name": "HBoxView",
            "box_style": "",
            "children": [
              "IPY_MODEL_9719acbf0c654e5b894de8577c4693a6",
              "IPY_MODEL_aa43ad3a81a348ab84b4a87b1bd2a2e3",
              "IPY_MODEL_281b794038074dd6b5c8149bd3b0105f"
            ],
            "layout": "IPY_MODEL_82e8bb997a6d469aa7230a5ef600be64"
          }
        },
        "9719acbf0c654e5b894de8577c4693a6": {
          "model_module": "@jupyter-widgets/controls",
          "model_name": "HTMLModel",
          "model_module_version": "1.5.0",
          "state": {
            "_dom_classes": [],
            "_model_module": "@jupyter-widgets/controls",
            "_model_module_version": "1.5.0",
            "_model_name": "HTMLModel",
            "_view_count": null,
            "_view_module": "@jupyter-widgets/controls",
            "_view_module_version": "1.5.0",
            "_view_name": "HTMLView",
            "description": "",
            "description_tooltip": null,
            "layout": "IPY_MODEL_f1f4c7446f5a4869a66cb647bd71dc31",
            "placeholder": "​",
            "style": "IPY_MODEL_a91828a8872a45238c36086e53bd80d4",
            "value": "Downloading: 100%"
          }
        },
        "aa43ad3a81a348ab84b4a87b1bd2a2e3": {
          "model_module": "@jupyter-widgets/controls",
          "model_name": "FloatProgressModel",
          "model_module_version": "1.5.0",
          "state": {
            "_dom_classes": [],
            "_model_module": "@jupyter-widgets/controls",
            "_model_module_version": "1.5.0",
            "_model_name": "FloatProgressModel",
            "_view_count": null,
            "_view_module": "@jupyter-widgets/controls",
            "_view_module_version": "1.5.0",
            "_view_name": "ProgressView",
            "bar_style": "success",
            "description": "",
            "description_tooltip": null,
            "layout": "IPY_MODEL_5b458ba528c047148a7bb30b52209036",
            "max": 629,
            "min": 0,
            "orientation": "horizontal",
            "style": "IPY_MODEL_25dc8c258a8a4a50a976d7f047783fb1",
            "value": 629
          }
        },
        "281b794038074dd6b5c8149bd3b0105f": {
          "model_module": "@jupyter-widgets/controls",
          "model_name": "HTMLModel",
          "model_module_version": "1.5.0",
          "state": {
            "_dom_classes": [],
            "_model_module": "@jupyter-widgets/controls",
            "_model_module_version": "1.5.0",
            "_model_name": "HTMLModel",
            "_view_count": null,
            "_view_module": "@jupyter-widgets/controls",
            "_view_module_version": "1.5.0",
            "_view_name": "HTMLView",
            "description": "",
            "description_tooltip": null,
            "layout": "IPY_MODEL_6ca1dc5af40d497aa28b61f3f8dd393e",
            "placeholder": "​",
            "style": "IPY_MODEL_30bf47c3709043ab83458451ca21614d",
            "value": " 629/629 [00:00&lt;00:00, 11.1kB/s]"
          }
        },
        "82e8bb997a6d469aa7230a5ef600be64": {
          "model_module": "@jupyter-widgets/base",
          "model_name": "LayoutModel",
          "model_module_version": "1.2.0",
          "state": {
            "_model_module": "@jupyter-widgets/base",
            "_model_module_version": "1.2.0",
            "_model_name": "LayoutModel",
            "_view_count": null,
            "_view_module": "@jupyter-widgets/base",
            "_view_module_version": "1.2.0",
            "_view_name": "LayoutView",
            "align_content": null,
            "align_items": null,
            "align_self": null,
            "border": null,
            "bottom": null,
            "display": null,
            "flex": null,
            "flex_flow": null,
            "grid_area": null,
            "grid_auto_columns": null,
            "grid_auto_flow": null,
            "grid_auto_rows": null,
            "grid_column": null,
            "grid_gap": null,
            "grid_row": null,
            "grid_template_areas": null,
            "grid_template_columns": null,
            "grid_template_rows": null,
            "height": null,
            "justify_content": null,
            "justify_items": null,
            "left": null,
            "margin": null,
            "max_height": null,
            "max_width": null,
            "min_height": null,
            "min_width": null,
            "object_fit": null,
            "object_position": null,
            "order": null,
            "overflow": null,
            "overflow_x": null,
            "overflow_y": null,
            "padding": null,
            "right": null,
            "top": null,
            "visibility": null,
            "width": null
          }
        },
        "f1f4c7446f5a4869a66cb647bd71dc31": {
          "model_module": "@jupyter-widgets/base",
          "model_name": "LayoutModel",
          "model_module_version": "1.2.0",
          "state": {
            "_model_module": "@jupyter-widgets/base",
            "_model_module_version": "1.2.0",
            "_model_name": "LayoutModel",
            "_view_count": null,
            "_view_module": "@jupyter-widgets/base",
            "_view_module_version": "1.2.0",
            "_view_name": "LayoutView",
            "align_content": null,
            "align_items": null,
            "align_self": null,
            "border": null,
            "bottom": null,
            "display": null,
            "flex": null,
            "flex_flow": null,
            "grid_area": null,
            "grid_auto_columns": null,
            "grid_auto_flow": null,
            "grid_auto_rows": null,
            "grid_column": null,
            "grid_gap": null,
            "grid_row": null,
            "grid_template_areas": null,
            "grid_template_columns": null,
            "grid_template_rows": null,
            "height": null,
            "justify_content": null,
            "justify_items": null,
            "left": null,
            "margin": null,
            "max_height": null,
            "max_width": null,
            "min_height": null,
            "min_width": null,
            "object_fit": null,
            "object_position": null,
            "order": null,
            "overflow": null,
            "overflow_x": null,
            "overflow_y": null,
            "padding": null,
            "right": null,
            "top": null,
            "visibility": null,
            "width": null
          }
        },
        "a91828a8872a45238c36086e53bd80d4": {
          "model_module": "@jupyter-widgets/controls",
          "model_name": "DescriptionStyleModel",
          "model_module_version": "1.5.0",
          "state": {
            "_model_module": "@jupyter-widgets/controls",
            "_model_module_version": "1.5.0",
            "_model_name": "DescriptionStyleModel",
            "_view_count": null,
            "_view_module": "@jupyter-widgets/base",
            "_view_module_version": "1.2.0",
            "_view_name": "StyleView",
            "description_width": ""
          }
        },
        "5b458ba528c047148a7bb30b52209036": {
          "model_module": "@jupyter-widgets/base",
          "model_name": "LayoutModel",
          "model_module_version": "1.2.0",
          "state": {
            "_model_module": "@jupyter-widgets/base",
            "_model_module_version": "1.2.0",
            "_model_name": "LayoutModel",
            "_view_count": null,
            "_view_module": "@jupyter-widgets/base",
            "_view_module_version": "1.2.0",
            "_view_name": "LayoutView",
            "align_content": null,
            "align_items": null,
            "align_self": null,
            "border": null,
            "bottom": null,
            "display": null,
            "flex": null,
            "flex_flow": null,
            "grid_area": null,
            "grid_auto_columns": null,
            "grid_auto_flow": null,
            "grid_auto_rows": null,
            "grid_column": null,
            "grid_gap": null,
            "grid_row": null,
            "grid_template_areas": null,
            "grid_template_columns": null,
            "grid_template_rows": null,
            "height": null,
            "justify_content": null,
            "justify_items": null,
            "left": null,
            "margin": null,
            "max_height": null,
            "max_width": null,
            "min_height": null,
            "min_width": null,
            "object_fit": null,
            "object_position": null,
            "order": null,
            "overflow": null,
            "overflow_x": null,
            "overflow_y": null,
            "padding": null,
            "right": null,
            "top": null,
            "visibility": null,
            "width": null
          }
        },
        "25dc8c258a8a4a50a976d7f047783fb1": {
          "model_module": "@jupyter-widgets/controls",
          "model_name": "ProgressStyleModel",
          "model_module_version": "1.5.0",
          "state": {
            "_model_module": "@jupyter-widgets/controls",
            "_model_module_version": "1.5.0",
            "_model_name": "ProgressStyleModel",
            "_view_count": null,
            "_view_module": "@jupyter-widgets/base",
            "_view_module_version": "1.2.0",
            "_view_name": "StyleView",
            "bar_color": null,
            "description_width": ""
          }
        },
        "6ca1dc5af40d497aa28b61f3f8dd393e": {
          "model_module": "@jupyter-widgets/base",
          "model_name": "LayoutModel",
          "model_module_version": "1.2.0",
          "state": {
            "_model_module": "@jupyter-widgets/base",
            "_model_module_version": "1.2.0",
            "_model_name": "LayoutModel",
            "_view_count": null,
            "_view_module": "@jupyter-widgets/base",
            "_view_module_version": "1.2.0",
            "_view_name": "LayoutView",
            "align_content": null,
            "align_items": null,
            "align_self": null,
            "border": null,
            "bottom": null,
            "display": null,
            "flex": null,
            "flex_flow": null,
            "grid_area": null,
            "grid_auto_columns": null,
            "grid_auto_flow": null,
            "grid_auto_rows": null,
            "grid_column": null,
            "grid_gap": null,
            "grid_row": null,
            "grid_template_areas": null,
            "grid_template_columns": null,
            "grid_template_rows": null,
            "height": null,
            "justify_content": null,
            "justify_items": null,
            "left": null,
            "margin": null,
            "max_height": null,
            "max_width": null,
            "min_height": null,
            "min_width": null,
            "object_fit": null,
            "object_position": null,
            "order": null,
            "overflow": null,
            "overflow_x": null,
            "overflow_y": null,
            "padding": null,
            "right": null,
            "top": null,
            "visibility": null,
            "width": null
          }
        },
        "30bf47c3709043ab83458451ca21614d": {
          "model_module": "@jupyter-widgets/controls",
          "model_name": "DescriptionStyleModel",
          "model_module_version": "1.5.0",
          "state": {
            "_model_module": "@jupyter-widgets/controls",
            "_model_module_version": "1.5.0",
            "_model_name": "DescriptionStyleModel",
            "_view_count": null,
            "_view_module": "@jupyter-widgets/base",
            "_view_module_version": "1.2.0",
            "_view_name": "StyleView",
            "description_width": ""
          }
        },
        "812d1fc9e4d34d8a9365b976c0e0e66a": {
          "model_module": "@jupyter-widgets/controls",
          "model_name": "HBoxModel",
          "model_module_version": "1.5.0",
          "state": {
            "_dom_classes": [],
            "_model_module": "@jupyter-widgets/controls",
            "_model_module_version": "1.5.0",
            "_model_name": "HBoxModel",
            "_view_count": null,
            "_view_module": "@jupyter-widgets/controls",
            "_view_module_version": "1.5.0",
            "_view_name": "HBoxView",
            "box_style": "",
            "children": [
              "IPY_MODEL_04eeaee3bed34df0b95abf1d51e69141",
              "IPY_MODEL_e43e9d90d2854b4182c033219345e4f9",
              "IPY_MODEL_00b2298916294995bdc19be269034941"
            ],
            "layout": "IPY_MODEL_007fa6d917de4e37bc9ebbdd4dbdb953"
          }
        },
        "04eeaee3bed34df0b95abf1d51e69141": {
          "model_module": "@jupyter-widgets/controls",
          "model_name": "HTMLModel",
          "model_module_version": "1.5.0",
          "state": {
            "_dom_classes": [],
            "_model_module": "@jupyter-widgets/controls",
            "_model_module_version": "1.5.0",
            "_model_name": "HTMLModel",
            "_view_count": null,
            "_view_module": "@jupyter-widgets/controls",
            "_view_module_version": "1.5.0",
            "_view_name": "HTMLView",
            "description": "",
            "description_tooltip": null,
            "layout": "IPY_MODEL_c37abb3d7dee44f2b2060a5242646046",
            "placeholder": "​",
            "style": "IPY_MODEL_c4af19311c3f40609100ce8124d1ffa0",
            "value": "Downloading: 100%"
          }
        },
        "e43e9d90d2854b4182c033219345e4f9": {
          "model_module": "@jupyter-widgets/controls",
          "model_name": "FloatProgressModel",
          "model_module_version": "1.5.0",
          "state": {
            "_dom_classes": [],
            "_model_module": "@jupyter-widgets/controls",
            "_model_module_version": "1.5.0",
            "_model_name": "FloatProgressModel",
            "_view_count": null,
            "_view_module": "@jupyter-widgets/controls",
            "_view_module_version": "1.5.0",
            "_view_name": "ProgressView",
            "bar_style": "success",
            "description": "",
            "description_tooltip": null,
            "layout": "IPY_MODEL_1e32b379383c4778921dd52e7f4dada0",
            "max": 267844284,
            "min": 0,
            "orientation": "horizontal",
            "style": "IPY_MODEL_962f8e9ebc3b4708a37e66c0e570806a",
            "value": 267844284
          }
        },
        "00b2298916294995bdc19be269034941": {
          "model_module": "@jupyter-widgets/controls",
          "model_name": "HTMLModel",
          "model_module_version": "1.5.0",
          "state": {
            "_dom_classes": [],
            "_model_module": "@jupyter-widgets/controls",
            "_model_module_version": "1.5.0",
            "_model_name": "HTMLModel",
            "_view_count": null,
            "_view_module": "@jupyter-widgets/controls",
            "_view_module_version": "1.5.0",
            "_view_name": "HTMLView",
            "description": "",
            "description_tooltip": null,
            "layout": "IPY_MODEL_8285a707fab946d48bf29f9d65b58a5e",
            "placeholder": "​",
            "style": "IPY_MODEL_d108e807b26b464c834a55f0f8945577",
            "value": " 268M/268M [00:06&lt;00:00, 34.3MB/s]"
          }
        },
        "007fa6d917de4e37bc9ebbdd4dbdb953": {
          "model_module": "@jupyter-widgets/base",
          "model_name": "LayoutModel",
          "model_module_version": "1.2.0",
          "state": {
            "_model_module": "@jupyter-widgets/base",
            "_model_module_version": "1.2.0",
            "_model_name": "LayoutModel",
            "_view_count": null,
            "_view_module": "@jupyter-widgets/base",
            "_view_module_version": "1.2.0",
            "_view_name": "LayoutView",
            "align_content": null,
            "align_items": null,
            "align_self": null,
            "border": null,
            "bottom": null,
            "display": null,
            "flex": null,
            "flex_flow": null,
            "grid_area": null,
            "grid_auto_columns": null,
            "grid_auto_flow": null,
            "grid_auto_rows": null,
            "grid_column": null,
            "grid_gap": null,
            "grid_row": null,
            "grid_template_areas": null,
            "grid_template_columns": null,
            "grid_template_rows": null,
            "height": null,
            "justify_content": null,
            "justify_items": null,
            "left": null,
            "margin": null,
            "max_height": null,
            "max_width": null,
            "min_height": null,
            "min_width": null,
            "object_fit": null,
            "object_position": null,
            "order": null,
            "overflow": null,
            "overflow_x": null,
            "overflow_y": null,
            "padding": null,
            "right": null,
            "top": null,
            "visibility": null,
            "width": null
          }
        },
        "c37abb3d7dee44f2b2060a5242646046": {
          "model_module": "@jupyter-widgets/base",
          "model_name": "LayoutModel",
          "model_module_version": "1.2.0",
          "state": {
            "_model_module": "@jupyter-widgets/base",
            "_model_module_version": "1.2.0",
            "_model_name": "LayoutModel",
            "_view_count": null,
            "_view_module": "@jupyter-widgets/base",
            "_view_module_version": "1.2.0",
            "_view_name": "LayoutView",
            "align_content": null,
            "align_items": null,
            "align_self": null,
            "border": null,
            "bottom": null,
            "display": null,
            "flex": null,
            "flex_flow": null,
            "grid_area": null,
            "grid_auto_columns": null,
            "grid_auto_flow": null,
            "grid_auto_rows": null,
            "grid_column": null,
            "grid_gap": null,
            "grid_row": null,
            "grid_template_areas": null,
            "grid_template_columns": null,
            "grid_template_rows": null,
            "height": null,
            "justify_content": null,
            "justify_items": null,
            "left": null,
            "margin": null,
            "max_height": null,
            "max_width": null,
            "min_height": null,
            "min_width": null,
            "object_fit": null,
            "object_position": null,
            "order": null,
            "overflow": null,
            "overflow_x": null,
            "overflow_y": null,
            "padding": null,
            "right": null,
            "top": null,
            "visibility": null,
            "width": null
          }
        },
        "c4af19311c3f40609100ce8124d1ffa0": {
          "model_module": "@jupyter-widgets/controls",
          "model_name": "DescriptionStyleModel",
          "model_module_version": "1.5.0",
          "state": {
            "_model_module": "@jupyter-widgets/controls",
            "_model_module_version": "1.5.0",
            "_model_name": "DescriptionStyleModel",
            "_view_count": null,
            "_view_module": "@jupyter-widgets/base",
            "_view_module_version": "1.2.0",
            "_view_name": "StyleView",
            "description_width": ""
          }
        },
        "1e32b379383c4778921dd52e7f4dada0": {
          "model_module": "@jupyter-widgets/base",
          "model_name": "LayoutModel",
          "model_module_version": "1.2.0",
          "state": {
            "_model_module": "@jupyter-widgets/base",
            "_model_module_version": "1.2.0",
            "_model_name": "LayoutModel",
            "_view_count": null,
            "_view_module": "@jupyter-widgets/base",
            "_view_module_version": "1.2.0",
            "_view_name": "LayoutView",
            "align_content": null,
            "align_items": null,
            "align_self": null,
            "border": null,
            "bottom": null,
            "display": null,
            "flex": null,
            "flex_flow": null,
            "grid_area": null,
            "grid_auto_columns": null,
            "grid_auto_flow": null,
            "grid_auto_rows": null,
            "grid_column": null,
            "grid_gap": null,
            "grid_row": null,
            "grid_template_areas": null,
            "grid_template_columns": null,
            "grid_template_rows": null,
            "height": null,
            "justify_content": null,
            "justify_items": null,
            "left": null,
            "margin": null,
            "max_height": null,
            "max_width": null,
            "min_height": null,
            "min_width": null,
            "object_fit": null,
            "object_position": null,
            "order": null,
            "overflow": null,
            "overflow_x": null,
            "overflow_y": null,
            "padding": null,
            "right": null,
            "top": null,
            "visibility": null,
            "width": null
          }
        },
        "962f8e9ebc3b4708a37e66c0e570806a": {
          "model_module": "@jupyter-widgets/controls",
          "model_name": "ProgressStyleModel",
          "model_module_version": "1.5.0",
          "state": {
            "_model_module": "@jupyter-widgets/controls",
            "_model_module_version": "1.5.0",
            "_model_name": "ProgressStyleModel",
            "_view_count": null,
            "_view_module": "@jupyter-widgets/base",
            "_view_module_version": "1.2.0",
            "_view_name": "StyleView",
            "bar_color": null,
            "description_width": ""
          }
        },
        "8285a707fab946d48bf29f9d65b58a5e": {
          "model_module": "@jupyter-widgets/base",
          "model_name": "LayoutModel",
          "model_module_version": "1.2.0",
          "state": {
            "_model_module": "@jupyter-widgets/base",
            "_model_module_version": "1.2.0",
            "_model_name": "LayoutModel",
            "_view_count": null,
            "_view_module": "@jupyter-widgets/base",
            "_view_module_version": "1.2.0",
            "_view_name": "LayoutView",
            "align_content": null,
            "align_items": null,
            "align_self": null,
            "border": null,
            "bottom": null,
            "display": null,
            "flex": null,
            "flex_flow": null,
            "grid_area": null,
            "grid_auto_columns": null,
            "grid_auto_flow": null,
            "grid_auto_rows": null,
            "grid_column": null,
            "grid_gap": null,
            "grid_row": null,
            "grid_template_areas": null,
            "grid_template_columns": null,
            "grid_template_rows": null,
            "height": null,
            "justify_content": null,
            "justify_items": null,
            "left": null,
            "margin": null,
            "max_height": null,
            "max_width": null,
            "min_height": null,
            "min_width": null,
            "object_fit": null,
            "object_position": null,
            "order": null,
            "overflow": null,
            "overflow_x": null,
            "overflow_y": null,
            "padding": null,
            "right": null,
            "top": null,
            "visibility": null,
            "width": null
          }
        },
        "d108e807b26b464c834a55f0f8945577": {
          "model_module": "@jupyter-widgets/controls",
          "model_name": "DescriptionStyleModel",
          "model_module_version": "1.5.0",
          "state": {
            "_model_module": "@jupyter-widgets/controls",
            "_model_module_version": "1.5.0",
            "_model_name": "DescriptionStyleModel",
            "_view_count": null,
            "_view_module": "@jupyter-widgets/base",
            "_view_module_version": "1.2.0",
            "_view_name": "StyleView",
            "description_width": ""
          }
        },
        "4c83d49da7294f13b48d208e0b5b06ef": {
          "model_module": "@jupyter-widgets/controls",
          "model_name": "HBoxModel",
          "model_module_version": "1.5.0",
          "state": {
            "_dom_classes": [],
            "_model_module": "@jupyter-widgets/controls",
            "_model_module_version": "1.5.0",
            "_model_name": "HBoxModel",
            "_view_count": null,
            "_view_module": "@jupyter-widgets/controls",
            "_view_module_version": "1.5.0",
            "_view_name": "HBoxView",
            "box_style": "",
            "children": [
              "IPY_MODEL_4d02a7faab2e4573b3fb9e846498f390",
              "IPY_MODEL_fe80288db90541bba732a22752925be6",
              "IPY_MODEL_59edfe6eb79c4e02a7bdde3849faa2b8"
            ],
            "layout": "IPY_MODEL_a6bd868598614459a8e81656bc9af993"
          }
        },
        "4d02a7faab2e4573b3fb9e846498f390": {
          "model_module": "@jupyter-widgets/controls",
          "model_name": "HTMLModel",
          "model_module_version": "1.5.0",
          "state": {
            "_dom_classes": [],
            "_model_module": "@jupyter-widgets/controls",
            "_model_module_version": "1.5.0",
            "_model_name": "HTMLModel",
            "_view_count": null,
            "_view_module": "@jupyter-widgets/controls",
            "_view_module_version": "1.5.0",
            "_view_name": "HTMLView",
            "description": "",
            "description_tooltip": null,
            "layout": "IPY_MODEL_3489569cf97a4715bee93a563435a4b2",
            "placeholder": "​",
            "style": "IPY_MODEL_20a11809ebdc426fad4354c7f8aa8ef6",
            "value": "Downloading: 100%"
          }
        },
        "fe80288db90541bba732a22752925be6": {
          "model_module": "@jupyter-widgets/controls",
          "model_name": "FloatProgressModel",
          "model_module_version": "1.5.0",
          "state": {
            "_dom_classes": [],
            "_model_module": "@jupyter-widgets/controls",
            "_model_module_version": "1.5.0",
            "_model_name": "FloatProgressModel",
            "_view_count": null,
            "_view_module": "@jupyter-widgets/controls",
            "_view_module_version": "1.5.0",
            "_view_name": "ProgressView",
            "bar_style": "success",
            "description": "",
            "description_tooltip": null,
            "layout": "IPY_MODEL_cafce3d604424700a6e267364012a92c",
            "max": 48,
            "min": 0,
            "orientation": "horizontal",
            "style": "IPY_MODEL_50d3e5d4f4e147de9ea39cb6e048ec0c",
            "value": 48
          }
        },
        "59edfe6eb79c4e02a7bdde3849faa2b8": {
          "model_module": "@jupyter-widgets/controls",
          "model_name": "HTMLModel",
          "model_module_version": "1.5.0",
          "state": {
            "_dom_classes": [],
            "_model_module": "@jupyter-widgets/controls",
            "_model_module_version": "1.5.0",
            "_model_name": "HTMLModel",
            "_view_count": null,
            "_view_module": "@jupyter-widgets/controls",
            "_view_module_version": "1.5.0",
            "_view_name": "HTMLView",
            "description": "",
            "description_tooltip": null,
            "layout": "IPY_MODEL_73e1294b0b5d4cee9827b612a397063b",
            "placeholder": "​",
            "style": "IPY_MODEL_32a6c70418594e51882420e1efe6a3e7",
            "value": " 48.0/48.0 [00:00&lt;00:00, 718B/s]"
          }
        },
        "a6bd868598614459a8e81656bc9af993": {
          "model_module": "@jupyter-widgets/base",
          "model_name": "LayoutModel",
          "model_module_version": "1.2.0",
          "state": {
            "_model_module": "@jupyter-widgets/base",
            "_model_module_version": "1.2.0",
            "_model_name": "LayoutModel",
            "_view_count": null,
            "_view_module": "@jupyter-widgets/base",
            "_view_module_version": "1.2.0",
            "_view_name": "LayoutView",
            "align_content": null,
            "align_items": null,
            "align_self": null,
            "border": null,
            "bottom": null,
            "display": null,
            "flex": null,
            "flex_flow": null,
            "grid_area": null,
            "grid_auto_columns": null,
            "grid_auto_flow": null,
            "grid_auto_rows": null,
            "grid_column": null,
            "grid_gap": null,
            "grid_row": null,
            "grid_template_areas": null,
            "grid_template_columns": null,
            "grid_template_rows": null,
            "height": null,
            "justify_content": null,
            "justify_items": null,
            "left": null,
            "margin": null,
            "max_height": null,
            "max_width": null,
            "min_height": null,
            "min_width": null,
            "object_fit": null,
            "object_position": null,
            "order": null,
            "overflow": null,
            "overflow_x": null,
            "overflow_y": null,
            "padding": null,
            "right": null,
            "top": null,
            "visibility": null,
            "width": null
          }
        },
        "3489569cf97a4715bee93a563435a4b2": {
          "model_module": "@jupyter-widgets/base",
          "model_name": "LayoutModel",
          "model_module_version": "1.2.0",
          "state": {
            "_model_module": "@jupyter-widgets/base",
            "_model_module_version": "1.2.0",
            "_model_name": "LayoutModel",
            "_view_count": null,
            "_view_module": "@jupyter-widgets/base",
            "_view_module_version": "1.2.0",
            "_view_name": "LayoutView",
            "align_content": null,
            "align_items": null,
            "align_self": null,
            "border": null,
            "bottom": null,
            "display": null,
            "flex": null,
            "flex_flow": null,
            "grid_area": null,
            "grid_auto_columns": null,
            "grid_auto_flow": null,
            "grid_auto_rows": null,
            "grid_column": null,
            "grid_gap": null,
            "grid_row": null,
            "grid_template_areas": null,
            "grid_template_columns": null,
            "grid_template_rows": null,
            "height": null,
            "justify_content": null,
            "justify_items": null,
            "left": null,
            "margin": null,
            "max_height": null,
            "max_width": null,
            "min_height": null,
            "min_width": null,
            "object_fit": null,
            "object_position": null,
            "order": null,
            "overflow": null,
            "overflow_x": null,
            "overflow_y": null,
            "padding": null,
            "right": null,
            "top": null,
            "visibility": null,
            "width": null
          }
        },
        "20a11809ebdc426fad4354c7f8aa8ef6": {
          "model_module": "@jupyter-widgets/controls",
          "model_name": "DescriptionStyleModel",
          "model_module_version": "1.5.0",
          "state": {
            "_model_module": "@jupyter-widgets/controls",
            "_model_module_version": "1.5.0",
            "_model_name": "DescriptionStyleModel",
            "_view_count": null,
            "_view_module": "@jupyter-widgets/base",
            "_view_module_version": "1.2.0",
            "_view_name": "StyleView",
            "description_width": ""
          }
        },
        "cafce3d604424700a6e267364012a92c": {
          "model_module": "@jupyter-widgets/base",
          "model_name": "LayoutModel",
          "model_module_version": "1.2.0",
          "state": {
            "_model_module": "@jupyter-widgets/base",
            "_model_module_version": "1.2.0",
            "_model_name": "LayoutModel",
            "_view_count": null,
            "_view_module": "@jupyter-widgets/base",
            "_view_module_version": "1.2.0",
            "_view_name": "LayoutView",
            "align_content": null,
            "align_items": null,
            "align_self": null,
            "border": null,
            "bottom": null,
            "display": null,
            "flex": null,
            "flex_flow": null,
            "grid_area": null,
            "grid_auto_columns": null,
            "grid_auto_flow": null,
            "grid_auto_rows": null,
            "grid_column": null,
            "grid_gap": null,
            "grid_row": null,
            "grid_template_areas": null,
            "grid_template_columns": null,
            "grid_template_rows": null,
            "height": null,
            "justify_content": null,
            "justify_items": null,
            "left": null,
            "margin": null,
            "max_height": null,
            "max_width": null,
            "min_height": null,
            "min_width": null,
            "object_fit": null,
            "object_position": null,
            "order": null,
            "overflow": null,
            "overflow_x": null,
            "overflow_y": null,
            "padding": null,
            "right": null,
            "top": null,
            "visibility": null,
            "width": null
          }
        },
        "50d3e5d4f4e147de9ea39cb6e048ec0c": {
          "model_module": "@jupyter-widgets/controls",
          "model_name": "ProgressStyleModel",
          "model_module_version": "1.5.0",
          "state": {
            "_model_module": "@jupyter-widgets/controls",
            "_model_module_version": "1.5.0",
            "_model_name": "ProgressStyleModel",
            "_view_count": null,
            "_view_module": "@jupyter-widgets/base",
            "_view_module_version": "1.2.0",
            "_view_name": "StyleView",
            "bar_color": null,
            "description_width": ""
          }
        },
        "73e1294b0b5d4cee9827b612a397063b": {
          "model_module": "@jupyter-widgets/base",
          "model_name": "LayoutModel",
          "model_module_version": "1.2.0",
          "state": {
            "_model_module": "@jupyter-widgets/base",
            "_model_module_version": "1.2.0",
            "_model_name": "LayoutModel",
            "_view_count": null,
            "_view_module": "@jupyter-widgets/base",
            "_view_module_version": "1.2.0",
            "_view_name": "LayoutView",
            "align_content": null,
            "align_items": null,
            "align_self": null,
            "border": null,
            "bottom": null,
            "display": null,
            "flex": null,
            "flex_flow": null,
            "grid_area": null,
            "grid_auto_columns": null,
            "grid_auto_flow": null,
            "grid_auto_rows": null,
            "grid_column": null,
            "grid_gap": null,
            "grid_row": null,
            "grid_template_areas": null,
            "grid_template_columns": null,
            "grid_template_rows": null,
            "height": null,
            "justify_content": null,
            "justify_items": null,
            "left": null,
            "margin": null,
            "max_height": null,
            "max_width": null,
            "min_height": null,
            "min_width": null,
            "object_fit": null,
            "object_position": null,
            "order": null,
            "overflow": null,
            "overflow_x": null,
            "overflow_y": null,
            "padding": null,
            "right": null,
            "top": null,
            "visibility": null,
            "width": null
          }
        },
        "32a6c70418594e51882420e1efe6a3e7": {
          "model_module": "@jupyter-widgets/controls",
          "model_name": "DescriptionStyleModel",
          "model_module_version": "1.5.0",
          "state": {
            "_model_module": "@jupyter-widgets/controls",
            "_model_module_version": "1.5.0",
            "_model_name": "DescriptionStyleModel",
            "_view_count": null,
            "_view_module": "@jupyter-widgets/base",
            "_view_module_version": "1.2.0",
            "_view_name": "StyleView",
            "description_width": ""
          }
        },
        "77d9beec7a1a456a870f5bc9ae6f9e14": {
          "model_module": "@jupyter-widgets/controls",
          "model_name": "HBoxModel",
          "model_module_version": "1.5.0",
          "state": {
            "_dom_classes": [],
            "_model_module": "@jupyter-widgets/controls",
            "_model_module_version": "1.5.0",
            "_model_name": "HBoxModel",
            "_view_count": null,
            "_view_module": "@jupyter-widgets/controls",
            "_view_module_version": "1.5.0",
            "_view_name": "HBoxView",
            "box_style": "",
            "children": [
              "IPY_MODEL_30386c2fcb424273882de36fdd92b3e0",
              "IPY_MODEL_581723fe8a6e4c3da99afe9c912a2b7f",
              "IPY_MODEL_8376be37e2e74031a55535566b075cb5"
            ],
            "layout": "IPY_MODEL_17f6d5c319c7403a8e4f6abd10e10927"
          }
        },
        "30386c2fcb424273882de36fdd92b3e0": {
          "model_module": "@jupyter-widgets/controls",
          "model_name": "HTMLModel",
          "model_module_version": "1.5.0",
          "state": {
            "_dom_classes": [],
            "_model_module": "@jupyter-widgets/controls",
            "_model_module_version": "1.5.0",
            "_model_name": "HTMLModel",
            "_view_count": null,
            "_view_module": "@jupyter-widgets/controls",
            "_view_module_version": "1.5.0",
            "_view_name": "HTMLView",
            "description": "",
            "description_tooltip": null,
            "layout": "IPY_MODEL_85dafff137424ecf936b9d553815735a",
            "placeholder": "​",
            "style": "IPY_MODEL_c1cd6c8b611a48099daf68e6169dde14",
            "value": "Downloading: 100%"
          }
        },
        "581723fe8a6e4c3da99afe9c912a2b7f": {
          "model_module": "@jupyter-widgets/controls",
          "model_name": "FloatProgressModel",
          "model_module_version": "1.5.0",
          "state": {
            "_dom_classes": [],
            "_model_module": "@jupyter-widgets/controls",
            "_model_module_version": "1.5.0",
            "_model_name": "FloatProgressModel",
            "_view_count": null,
            "_view_module": "@jupyter-widgets/controls",
            "_view_module_version": "1.5.0",
            "_view_name": "ProgressView",
            "bar_style": "success",
            "description": "",
            "description_tooltip": null,
            "layout": "IPY_MODEL_989e89f9ceb14c119c3689a2a09d9121",
            "max": 231508,
            "min": 0,
            "orientation": "horizontal",
            "style": "IPY_MODEL_edb6afe81a6d4c2280b8edcf080e3036",
            "value": 231508
          }
        },
        "8376be37e2e74031a55535566b075cb5": {
          "model_module": "@jupyter-widgets/controls",
          "model_name": "HTMLModel",
          "model_module_version": "1.5.0",
          "state": {
            "_dom_classes": [],
            "_model_module": "@jupyter-widgets/controls",
            "_model_module_version": "1.5.0",
            "_model_name": "HTMLModel",
            "_view_count": null,
            "_view_module": "@jupyter-widgets/controls",
            "_view_module_version": "1.5.0",
            "_view_name": "HTMLView",
            "description": "",
            "description_tooltip": null,
            "layout": "IPY_MODEL_f9cfdb2bfc74420c94d5a0ac227192b3",
            "placeholder": "​",
            "style": "IPY_MODEL_951330204db94f87a329ec53bddc29ce",
            "value": " 232k/232k [00:00&lt;00:00, 1.30MB/s]"
          }
        },
        "17f6d5c319c7403a8e4f6abd10e10927": {
          "model_module": "@jupyter-widgets/base",
          "model_name": "LayoutModel",
          "model_module_version": "1.2.0",
          "state": {
            "_model_module": "@jupyter-widgets/base",
            "_model_module_version": "1.2.0",
            "_model_name": "LayoutModel",
            "_view_count": null,
            "_view_module": "@jupyter-widgets/base",
            "_view_module_version": "1.2.0",
            "_view_name": "LayoutView",
            "align_content": null,
            "align_items": null,
            "align_self": null,
            "border": null,
            "bottom": null,
            "display": null,
            "flex": null,
            "flex_flow": null,
            "grid_area": null,
            "grid_auto_columns": null,
            "grid_auto_flow": null,
            "grid_auto_rows": null,
            "grid_column": null,
            "grid_gap": null,
            "grid_row": null,
            "grid_template_areas": null,
            "grid_template_columns": null,
            "grid_template_rows": null,
            "height": null,
            "justify_content": null,
            "justify_items": null,
            "left": null,
            "margin": null,
            "max_height": null,
            "max_width": null,
            "min_height": null,
            "min_width": null,
            "object_fit": null,
            "object_position": null,
            "order": null,
            "overflow": null,
            "overflow_x": null,
            "overflow_y": null,
            "padding": null,
            "right": null,
            "top": null,
            "visibility": null,
            "width": null
          }
        },
        "85dafff137424ecf936b9d553815735a": {
          "model_module": "@jupyter-widgets/base",
          "model_name": "LayoutModel",
          "model_module_version": "1.2.0",
          "state": {
            "_model_module": "@jupyter-widgets/base",
            "_model_module_version": "1.2.0",
            "_model_name": "LayoutModel",
            "_view_count": null,
            "_view_module": "@jupyter-widgets/base",
            "_view_module_version": "1.2.0",
            "_view_name": "LayoutView",
            "align_content": null,
            "align_items": null,
            "align_self": null,
            "border": null,
            "bottom": null,
            "display": null,
            "flex": null,
            "flex_flow": null,
            "grid_area": null,
            "grid_auto_columns": null,
            "grid_auto_flow": null,
            "grid_auto_rows": null,
            "grid_column": null,
            "grid_gap": null,
            "grid_row": null,
            "grid_template_areas": null,
            "grid_template_columns": null,
            "grid_template_rows": null,
            "height": null,
            "justify_content": null,
            "justify_items": null,
            "left": null,
            "margin": null,
            "max_height": null,
            "max_width": null,
            "min_height": null,
            "min_width": null,
            "object_fit": null,
            "object_position": null,
            "order": null,
            "overflow": null,
            "overflow_x": null,
            "overflow_y": null,
            "padding": null,
            "right": null,
            "top": null,
            "visibility": null,
            "width": null
          }
        },
        "c1cd6c8b611a48099daf68e6169dde14": {
          "model_module": "@jupyter-widgets/controls",
          "model_name": "DescriptionStyleModel",
          "model_module_version": "1.5.0",
          "state": {
            "_model_module": "@jupyter-widgets/controls",
            "_model_module_version": "1.5.0",
            "_model_name": "DescriptionStyleModel",
            "_view_count": null,
            "_view_module": "@jupyter-widgets/base",
            "_view_module_version": "1.2.0",
            "_view_name": "StyleView",
            "description_width": ""
          }
        },
        "989e89f9ceb14c119c3689a2a09d9121": {
          "model_module": "@jupyter-widgets/base",
          "model_name": "LayoutModel",
          "model_module_version": "1.2.0",
          "state": {
            "_model_module": "@jupyter-widgets/base",
            "_model_module_version": "1.2.0",
            "_model_name": "LayoutModel",
            "_view_count": null,
            "_view_module": "@jupyter-widgets/base",
            "_view_module_version": "1.2.0",
            "_view_name": "LayoutView",
            "align_content": null,
            "align_items": null,
            "align_self": null,
            "border": null,
            "bottom": null,
            "display": null,
            "flex": null,
            "flex_flow": null,
            "grid_area": null,
            "grid_auto_columns": null,
            "grid_auto_flow": null,
            "grid_auto_rows": null,
            "grid_column": null,
            "grid_gap": null,
            "grid_row": null,
            "grid_template_areas": null,
            "grid_template_columns": null,
            "grid_template_rows": null,
            "height": null,
            "justify_content": null,
            "justify_items": null,
            "left": null,
            "margin": null,
            "max_height": null,
            "max_width": null,
            "min_height": null,
            "min_width": null,
            "object_fit": null,
            "object_position": null,
            "order": null,
            "overflow": null,
            "overflow_x": null,
            "overflow_y": null,
            "padding": null,
            "right": null,
            "top": null,
            "visibility": null,
            "width": null
          }
        },
        "edb6afe81a6d4c2280b8edcf080e3036": {
          "model_module": "@jupyter-widgets/controls",
          "model_name": "ProgressStyleModel",
          "model_module_version": "1.5.0",
          "state": {
            "_model_module": "@jupyter-widgets/controls",
            "_model_module_version": "1.5.0",
            "_model_name": "ProgressStyleModel",
            "_view_count": null,
            "_view_module": "@jupyter-widgets/base",
            "_view_module_version": "1.2.0",
            "_view_name": "StyleView",
            "bar_color": null,
            "description_width": ""
          }
        },
        "f9cfdb2bfc74420c94d5a0ac227192b3": {
          "model_module": "@jupyter-widgets/base",
          "model_name": "LayoutModel",
          "model_module_version": "1.2.0",
          "state": {
            "_model_module": "@jupyter-widgets/base",
            "_model_module_version": "1.2.0",
            "_model_name": "LayoutModel",
            "_view_count": null,
            "_view_module": "@jupyter-widgets/base",
            "_view_module_version": "1.2.0",
            "_view_name": "LayoutView",
            "align_content": null,
            "align_items": null,
            "align_self": null,
            "border": null,
            "bottom": null,
            "display": null,
            "flex": null,
            "flex_flow": null,
            "grid_area": null,
            "grid_auto_columns": null,
            "grid_auto_flow": null,
            "grid_auto_rows": null,
            "grid_column": null,
            "grid_gap": null,
            "grid_row": null,
            "grid_template_areas": null,
            "grid_template_columns": null,
            "grid_template_rows": null,
            "height": null,
            "justify_content": null,
            "justify_items": null,
            "left": null,
            "margin": null,
            "max_height": null,
            "max_width": null,
            "min_height": null,
            "min_width": null,
            "object_fit": null,
            "object_position": null,
            "order": null,
            "overflow": null,
            "overflow_x": null,
            "overflow_y": null,
            "padding": null,
            "right": null,
            "top": null,
            "visibility": null,
            "width": null
          }
        },
        "951330204db94f87a329ec53bddc29ce": {
          "model_module": "@jupyter-widgets/controls",
          "model_name": "DescriptionStyleModel",
          "model_module_version": "1.5.0",
          "state": {
            "_model_module": "@jupyter-widgets/controls",
            "_model_module_version": "1.5.0",
            "_model_name": "DescriptionStyleModel",
            "_view_count": null,
            "_view_module": "@jupyter-widgets/base",
            "_view_module_version": "1.2.0",
            "_view_name": "StyleView",
            "description_width": ""
          }
        }
      }
    }
  },
  "cells": [
    {
      "cell_type": "markdown",
      "source": [
        "Temporary Workaround for "
      ],
      "metadata": {
        "id": "2aX2c2iapy0R"
      }
    },
    {
      "cell_type": "code",
      "source": [
        "!pip install -q snscrape\n",
        "!pip install -q vaderSentiment\n",
        "!pip install -q transformers"
      ],
      "metadata": {
        "id": "hYtHGNQdT6mM",
        "colab": {
          "base_uri": "https://localhost:8080/"
        },
        "outputId": "3f740aaa-619b-42d1-e473-96e2d95ede2e"
      },
      "execution_count": null,
      "outputs": [
        {
          "output_type": "stream",
          "name": "stdout",
          "text": [
            "\u001b[K     |████████████████████████████████| 125 kB 5.2 MB/s \n",
            "\u001b[K     |████████████████████████████████| 5.5 MB 5.0 MB/s \n",
            "\u001b[K     |████████████████████████████████| 182 kB 67.6 MB/s \n",
            "\u001b[K     |████████████████████████████████| 7.6 MB 43.7 MB/s \n",
            "\u001b[?25h"
          ]
        }
      ]
    },
    {
      "cell_type": "code",
      "execution_count": null,
      "metadata": {
        "id": "orxUuoVBFVCH"
      },
      "outputs": [],
      "source": [
        "import os\n",
        "import pandas as pd\n",
        "import numpy as np\n",
        "import matplotlib.pyplot as plt\n",
        "import re\n",
        "import tweepy\n",
        "from datetime import date\n",
        "import textblob\n",
        "import transformers"
      ]
    },
    {
      "cell_type": "code",
      "source": [
        "today = date.today()\n",
        "end_date = today\n",
        "print(end_date)\n",
        "search_term = 'IlliniMBB'\n",
        "from_date = '2022-01-01'"
      ],
      "metadata": {
        "colab": {
          "base_uri": "https://localhost:8080/"
        },
        "id": "wlvshItcUHt5",
        "outputId": "55310268-dbde-43db-ba8c-25fc77311fee"
      },
      "execution_count": null,
      "outputs": [
        {
          "output_type": "stream",
          "name": "stdout",
          "text": [
            "2022-11-29\n"
          ]
        }
      ]
    },
    {
      "cell_type": "code",
      "source": [
        "os.system(f\"snscrape --since {from_date} twitter-search '{search_term} until:{end_date}' > result-tweets.txt\")\n",
        "if os.stat(\"result-tweets.txt\").st_size == 0:\n",
        "  counter = 0\n",
        "else:\n",
        "  df = pd.read_csv('result-tweets.txt', names=['link'])\n",
        "  counter = df.size\n",
        "\n",
        "print('Number Of Tweets : '+ str(counter))"
      ],
      "metadata": {
        "id": "T9RelBBxUZZo",
        "colab": {
          "base_uri": "https://localhost:8080/"
        },
        "outputId": "0ea8b8e4-fc7a-4712-d46d-be4f39574895"
      },
      "execution_count": null,
      "outputs": [
        {
          "output_type": "stream",
          "name": "stdout",
          "text": [
            "Number Of Tweets : 45406\n"
          ]
        }
      ]
    },
    {
      "cell_type": "code",
      "source": [
        "max_results = 100\n",
        "extracted_tweets = \"snscrape --format '{content!r}'\"+ f\" --max-results {max_results} --since {from_date} twitter-search '{search_term} until:{end_date}' > extracted-tweets.txt\"\n",
        "os.system(extracted_tweets)\n",
        "if os.stat(\"extracted-tweets.txt\").st_size == 0:\n",
        "  print('No Tweets found')\n",
        "else:\n",
        "  df = pd.read_csv('extracted-tweets.txt', names=['content'])\n",
        "  for row in df['content'].iteritems():\n",
        "    print(row)"
      ],
      "metadata": {
        "id": "MHVQWlL6V1H-",
        "colab": {
          "base_uri": "https://localhost:8080/"
        },
        "outputId": "23638173-0aa8-4df2-d1d6-f7699c939d23"
      },
      "execution_count": null,
      "outputs": [
        {
          "output_type": "stream",
          "name": "stdout",
          "text": [
            "(0, \"One year ago this week - Nov. 29, 2021 - Brad Underwood's @IlliniMBB team juggled a flurry of injuries and illness, but got 28 points from @kxng_alpha to defeat visiting Notre Dame, 82-72. https://t.co/sYzmjZbEoD\")\n",
            "(1, \"'@JonSportsc @deebrown11 @DeronWilliams @Head2Lu @IlliniMBB @ArmchairIllini Great team. Only to lose to my heels 😏'\")\n",
            "(2, \"'@AtomSer7 @IlliniMBB @MelendezRamses They started the season at #5.'\")\n",
            "(3, \"We're excited to announce @TexasMBB will  play in the #JimmyVClassic on Dec. 6 supporting our game-changing cancer research at @DellMedSchool. \\\\n\\\\nTune in to @espn at 7 ET to watch the Longhorns battle @IlliniMBB at @TheGarden\\\\n\\\\nLearn more https://t.co/XRWlyvlx1I #VictoryOverCancer https://t.co/UjGRU8mAXZ\")\n",
            "(4, \"'These 3 were special. @deebrown11 @DeronWilliams @Head2Lu @IlliniMBB @ArmchairIllini https://t.co/6JbRUGpOTl'\")\n",
            "(5, \"'@Sam_Layendecker @skyyclark @Sam_Layendecker The Hail to the Orange Out is January 13th vs Michigan State!'\")\n",
            "(6, \"'@rossy_burner @UMvsEveryone @PDelatte25 @MSU_Basketball @CBSSportsCBB @IlliniMBB Haha yea I only the men’s teams. That would’ve been scary as shit indeed if that was the case lol'\")\n",
            "(7, \"ICYMI - Make sure you wear the correct color for your section to tomorrow night's @IlliniMBB game vs. @Cuse_MBB‼\\\\n\\\\nDon't be that guy or gal with the wrong shirt on... 😘 https://t.co/uvq9EqVPcF\")\n",
            "(8, \"'@CPL60631 @UMvsEveryone @PDelatte25 @MSU_Basketball @CBSSportsCBB @IlliniMBB Oh whoops my bad. Illinois women’s basketball lost to Delaware and I got tricked into thinking it was the men’s team'\")\n",
            "(9, \"'@ICE_CAV @IlliniMBB @MelendezRamses Yes ESPN just announced they are ending it after this week'\")\n",
            "(10, \"'@rossy_burner @UMvsEveryone @PDelatte25 @MSU_Basketball @CBSSportsCBB @IlliniMBB Nope'\")\n",
            "(11, \"'@CPL60631 @UMvsEveryone @PDelatte25 @MSU_Basketball @CBSSportsCBB @IlliniMBB So do you understand why I replied with the Delaware logo?'\")\n",
            "(12, \"'@ICE_CAV @IlliniMBB @MelendezRamses Wait this is the last BIG/ACC challenge?'\")\n",
            "(13, \"'@rossy_burner @UMvsEveryone @PDelatte25 @MSU_Basketball @CBSSportsCBB @IlliniMBB Yes'\")\n",
            "(14, \"'@CPL60631 @UMvsEveryone @PDelatte25 @MSU_Basketball @CBSSportsCBB @IlliniMBB You’re an Illinois fan correct?'\")\n",
            "(15, \"'@illinilegends @news_gazette @IlliniMBB @Cuse_MBB @IlliniHQ So much talent on the floor that day!!! Incredible game and Illini went to the Final four!!!! Great memories'\")\n",
            "(16, \"'@roselandR21967 @IllinoisOnBTN @DDainja @IlliniMBB 100% travel'\")\n",
            "(17, \"'As we prepare for Giving Tuesday tomorrow\")\n",
            "(18, \"'On this date in 1989\")\n",
            "(19, \"'✖️Weekly Schedule ✖️\\\\n\\\\n11/29\")\n",
            "(20, \"'@Sam_Layendecker @IlliniMBB @skyyclark Sure. But probably not against the orange.'\")\n",
            "(21, \"'@IlliniMBB @skyyclark I wanna see Paint the Farm orange again'\")\n",
            "(22, \"'FG% leaders entering today:\\\\n\\\\nJosh Roberts (@JaspersMBB): 80.4%\\\\nJulian Reese (@TerrapinHoops): 80.4%\\\\nDain Dainja (@IlliniMBB): 79.5%\\\\nKelton Talford (@Winthrop_MBB): 78.9%\\\\nOumar Ballo (@ArizonaMBB): 76.8%'\")\n",
            "(23, \"'@Deagles2012 @IlliniMBB @MelendezRamses Overrated bums'\")\n",
            "(24, \"'@IlliniMBB @MelendezRamses The last ACC / B1G challenge!\\\\n\\\\nLet’s send Boheim home angrier / whinier than before he comes to Champaign.\\\\n\\\\nGo ILLINI !'\")\n",
            "(25, \"'𝐍𝐞𝐱𝐭 𝐔𝐩\\\\n𝙎𝙩𝙧𝙞𝙥𝙚 𝙎𝙩𝙖𝙩𝙚 𝙁𝙖𝙧𝙢 𝘾𝙚𝙣𝙩𝙚𝙧\\\\n🔸Odd sections wear orange🔸\\\\n🔹Even sections wear blue🔹\\\\n\\\\n📅 November 29\\\\n🆚 Syracuse\\\\n📍 State Farm Center\\\\n⏰ 6:30 PM CT\\\\n📺 ESPN\\\\n🎟  https://t.co/eltRMSpykr\\\\n\\\\n#Illini | #HTTO | #EveryDayGuys https://t.co/9fK1pituwA'\")\n",
            "(26, \"'Skyy Clark will punch it on anyone 💥👀 Clark set a new season high 19 points on 8/9 FG in Illinois’ most recent win @skyyclark @MVABasketball \\\\n\\\\n(Via @IlliniMBB ) https://t.co/F7mqknhZOa'\")\n",
            "(27, \"'@IlliniMBB @MelendezRamses Who are those teams behind them? https://t.co/Ki6ybc5ktj'\")\n",
            "(28, \"'@IlliniMBB @MelendezRamses Going to need somebody to explain to me like I’m 5 years old how Baylor is 6 and we are 16….?'\")\n",
            "(29, \"'@rossy_burner @UMvsEveryone @PDelatte25 @MSU_Basketball @CBSSportsCBB @IlliniMBB ?'\")\n",
            "(30, \"'@DONOVANMlTCHELL @IlliniMBB @MelendezRamses Not according to ap poll'\")\n",
            "(31, \"'@IlliniMBB @MelendezRamses OHIO STATE IS BETTER 😂😂😂😂😂'\")\n",
            "(32, \"'Fighting for more\\\\n\\\\n#Illini | #HTTO | #EveryDayGuys https://t.co/LUwISd9qJA'\")\n",
            "(33, \"'@JakeDaDrumGod @rp_reiss @IlliniMBB LOLLLLLLLLLLLLLLLLLLLLLLLLLLLL'\")\n",
            "(34, \"On this date in 1975, thanks to Rich Adams' 25-point performance, Coach Lou Henson won his @IlliniMBB debut. https://t.co/vwz79r1Pmy\")\n",
            "(35, \"'@IllinoisOnBTN @DDainja @IlliniMBB Which foot is his pivot foot\")\n",
            "(36, \"'@illinilegends @news_gazette @IlliniMBB @Cuse_MBB @IlliniHQ I was at that game. It was freaking awesome'\")\n",
            "(37, \"'The @KendallG13 bloody jersey game\")\n",
            "(38, \"'It’s the first \\\\u2066@CoachUnderwood\\\\u2069 show of the season tonight 7pm at Papa Del’s on \\\\u2066@wdws1400\\\\u2069 \\\\u2066@whms975\\\\u2069 \\\\u2066@Learfield\\\\u2069 \\\\u2066@IlliniMBB\\\\u2069 https://t.co/SosgpPzWGz'\")\n",
            "(39, \"'@JakeDaDrumGod @rp_reiss @IlliniMBB LMAOOOOOOOOOOOOOO'\")\n",
            "(40, \"'@illinilegends @news_gazette @IlliniMBB @Cuse_MBB @IlliniHQ I was there.'\")\n",
            "(41, \"In Sunday's @news_gazette ILLINI LEGENDS, LISTS &amp; LORE, we remembered the unforgettable 1989 NCAA tournament clash between @IlliniMBB and @Cuse_MBB .  @IlliniHQ https://t.co/BJeXFCU3WX\")\n",
            "(42, \"'@DONOVANMlTCHELL @IlliniMBB @CoachUnderwood How did you like that Michigan beat down? Illini are better.'\")\n",
            "(43, \"'@IlliniMBB @CoachUnderwood Why is Coleman starting over Dain?'\")\n",
            "(44, \"'@IlliniMBB @CoachUnderwood Ohio state is better'\")\n",
            "(45, \"Join us tonight at Papa Del's live at 7 p.m. for The @CoachUnderwood Show presented by United Rentals.\\\\n\\\\nListen on the Busey Bank Illini Sports Network » https://t.co/yLL44ngiBH\\\\n\\\\n#Illini | #HTTO | #EveryDayGuys https://t.co/ISST3Cw7zb\")\n",
            "(46, \"'@skyyclark Good work\")\n",
            "(47, \"'@IlliniMBB @skyyclark What an appropriate name!'\")\n",
            "(48, \"'@TheWard70087121 @IlliniMBB it’s lindenwood'\")\n",
            "(49, \"'Our guy @skyyclark \\\\n\\\\n19 points\\\\n8-9 shooting\\\\n3-4 from three\\\\n4 assists\\\\n3 rebounds\\\\n1 block\\\\n1 steal\\\\n\\\\n#Illini | #HTTO | #EveryDayGuys https://t.co/W7CBcOZGCM'\")\n",
            "(50, \"'Where’s my #Illini athletes\")\n",
            "(51, \"'@IlliniMBB @BigTenNetwork\\\\n@IllinoisLoyalty \\\\nJust Some Bulletin Board Material! \\\\n\\\\nHappy Post Thanksgiving.\\\\n\\\\n Jim Boeheim calls out the Big Ten\")\n",
            "(52, \"'Good to get an updated live eval on ⭐️⭐️⭐️⭐️ 2024 @sritabasketball forwards James Brown and Morez Johnson (@IlliniMBB commit) this week at @WCHSTOC in Illinois. Two projected difference-makers at the next level. https://t.co/havMNvPrFa'\")\n",
            "(53, \"'Keep moving forward.\\\\n\\\\n#Illini | #HTTO | #EveryDayGuys https://t.co/mDLcHk542M'\")\n",
            "(54, \"'@IlliniMBB @IlliniAthletics @J_Mac1211'\")\n",
            "(55, \"'Tale of the 📼\")\n",
            "(56, \"'@CPL60631 @UMvsEveryone @PDelatte25 @MSU_Basketball @CBSSportsCBB @IlliniMBB Boo 👻 https://t.co/Mt2O4GBSZ3'\")\n",
            "(57, \"'@IlliniMBB Illinois winning the natty'\")\n",
            "(58, \"'@IlliniMBB 🐐'\")\n",
            "(59, \"'Making the most of it\\\\n\\\\n#Illini | #HTTO | #EveryDayGuys https://t.co/vkCgyna5Ss'\")\n",
            "(60, \"'@SloopyTexas @CPbloggerdad @BigTenNetwork @IlliniMBB U must. Still making excuses'\")\n",
            "(61, \"'Malcolm Hill (2017 PIT\")\n",
            "(62, \"'𝐒𝐭𝐫𝐢𝐩𝐞 𝐢𝐭.\\\\n\\\\n🔸Odd sections wear orange🔸\\\\n🔹Even sections wear blue🔹\\\\n\\\\n#Illini | #HTTO | #EveryDayGuys https://t.co/MyZGD829j3'\")\n",
            "(63, \"'@IlliniMBB @StateFarmCenter Ohio state is better'\")\n",
            "(64, \"Let's light up @StateFarmCenter \\\\n\\\\nDownload the Fighting Illini App and join the pregame light show at every home game this season 🔦\\\\n\\\\n#Illini | #HTTO | #EveryDayGuys https://t.co/8wF6VGx8yw\")\n",
            "(65, \"'@WCHSTOC @morezjohnsonJr @DavidDouglasJr3 @StRitaAthletics @CoachSovern40 @IlliniMBB I-L-L bound.'\")\n",
            "(66, \"'@IlliniMBB @MelendezRamses What a game by RJ ~ Definitely on point!! #ILLINIStrong'\")\n",
            "(67, \"'@CarlCastellabos @2024bidensback @wchs308panthers @WCHSTOC @IlliniMBB @wchs_308sports hey @DillyDuggerton1'\")\n",
            "(68, \"Vote &amp; up ranking 'Illinois Fighting Illini at Maryland Terrapins Basketball' at Xfinity Center - MD' on Dec 02, 2022 .\\\\nhttps://t.co/ShvP2ybgpE\\\\n #IlliniMBB #TerrapinHoops\")\n",
            "(69, \"'@M1TCHT1TT1ES10 @CarlCastellabos @wchs308panthers @WCHSTOC @IlliniMBB @wchs_308sports CURSED'\")\n",
            "(70, \"'So much to be thankful for this holiday season! Oskee Wow Wow! @IlliniMBB @IlliniFootball @IlliniAD @BretBielema @CoachUnderwood @IlliniIFUND @illiniguardians @ALionEye https://t.co/1KUPPtScKN'\")\n",
            "(71, \"'@BIEBERCOLOSUS11 @CPbloggerdad @BigTenNetwork @IlliniMBB https://t.co/k6zHWu0RIP'\")\n",
            "(72, \"'@SloopyTexas @CPbloggerdad @BigTenNetwork @IlliniMBB I know which team wins !!'\")\n",
            "(73, \"'@PeteZervakisTV @Sturdy32 @brandon_wildman @IlliniMBB It would be totally cool to see us in the @CitrusBowl being our color scheme is fitting &amp; our student sections/fanbase such as the @MarchingIllini @BarstoolILL\")\n",
            "(74, \"'@PeteZervakisTV @Sturdy32 @brandon_wildman This is where our fanbase comes in… our fans have proved they are loyal &amp; willing to travel like they did when they headed out to Vegas to watch @IlliniMBB beat UCLA 😊🧡💙 it was a whole takeover!'\")\n",
            "(75, \"'@IlliniMBB @MelendezRamses Let’s pump the brakes.'\")\n",
            "(76, \"'@illinilegends @IlliniHQ @news_gazette @IlliniMBB @Cuse_MBB Both teams loaded with talent.  Sherm Douglas\")\n",
            "(77, \"'Level up.\\\\n\\\\n#Illini | #HTTO | #EveryDayGuys https://t.co/jnwGuSFACV'\")\n",
            "(78, \"'@WCHSTOC @Recruit2Illini @morezjohnsonJr @DavidDouglasJr3 @StRitaAthletics @CoachSovern40 @IlliniMBB Congratulations @morezjohnsonjr!  You are playing at an elite level!!!  All @illiniMBB fans are looking forward to seeing you in the Orange and Blue!!! 🔶🔷🔶🔷🔶🔷'\")\n",
            "(79, \"IlliniGuys talk to #Illini Asst Basketball Coach Tim Anderson @IlliniMBB &amp; Illini Women's Basketball's Adalia McKenzie @AdaliaMckenzie &amp; Matt Stevens @matthewcstevens &amp; we hear from Illini coaches Bret Bielema @BretBielema &amp; Brad Underwood @CoachUnderwood.\\\\nhttps://t.co/gtNVuUEwL9\")\n",
            "(80, \"IlliniGuys talk to Illini Asst Basketball Coach Tim Anderson @IlliniMBB &amp; Illini Women's Basketball's Adalia McKenzie @AdaliaMckenzie &amp; Matt Stevens @matthewcstevens &amp; we hear from Illini coaches Bret Bielema @BretBielema &amp; Brad Underwood @CoachUnderwood.\\\\nhttps://t.co/uhrTmHEhCV\")\n",
            "(81, \"'@DONOVANMlTCHELL @IlliniMBB @skyyclark Ohio stateuhhhhh what happeneduhhh how do you blow the game 2 years in a rowuhhhhhhh'\")\n",
            "(82, \"'@illinilegends @news_gazette @IlliniMBB @Cuse_MBB @IlliniHQ Epic battle'\")\n",
            "(83, \"'@illinilegends @news_gazette @IlliniMBB @Cuse_MBB @IlliniHQ Overtime classic. My 12 year old self is still sore being a Syracuse fan. We beat national runner up Seton Hall 3 times thst season.'\")\n",
            "(84, \"'@BIEBERCOLOSUS11 @CPbloggerdad @BigTenNetwork @IlliniMBB Stop smoking crack. 😭'\")\n",
            "(85, \"'@illinilegends @news_gazette @IlliniMBB @Cuse_MBB @IlliniHQ I was there. Easter Sunday 1989.'\")\n",
            "(86, \"'@IlliniMBB @skyyclark https://t.co/TpaT0LTCHD'\")\n",
            "(87, \"'@IlliniMBB @skyyclark https://t.co/oN7ljNgPLk'\")\n",
            "(88, \"'@IlliniMBB @skyyclark Ohio state is better 🤣🤣'\")\n",
            "(89, \"'Nothing happened 🤫\\\\n\\\\n@skyyclark \\\\n\\\\n#Illini | #HTTO | #EveryDayGuys https://t.co/OAFuFPQtqF'\")\n",
            "(90, \"'@SloopyTexas @CPbloggerdad @BigTenNetwork @IlliniMBB ILLINOIS'\")\n",
            "(91, \"'#Mizzou mens 🏀 is giving me optimism but next 5 weeks vs:\\\\n@KUHoops @IlliniMBB @KentuckyMBB @RazorbackMBB 😱😳🙊🙉🙈'\")\n",
            "(92, \"'@illinilegends @news_gazette @IlliniMBB @Cuse_MBB @IlliniHQ Went to my Grandma’s house and got her.. we drove out to RT 45\")\n",
            "(93, \"'Congratulations to @morezjohnsonJr (21) and @DavidDouglasJr3 (14) on being named to the 2022 National Classic All Tournament Team\\\\n\\\\nJohnson Jr. averaged 14.5pts and 10.75reb per game\\\\n\\\\nDouglas Jr. averaged 21pts and 5.5reb per game\\\\n\\\\n@StRitaAthletics @CoachSovern40 @IlliniMBB https://t.co/elABvYtXA3'\")\n",
            "(94, \"'@illinilegends @CoachFrazierILL @IlliniMBB @Head2Lu @ManleyHS @Chicago_CP I see a little Luther in Sincere Harris.'\")\n",
            "(95, \"'@swishcultures_ @skyyclark @IlliniMBB knew it was coming….. on ur way'\")\n",
            "(96, \"'@BigTenNetwork @skyyclark @IlliniMBB https://t.co/1Wz3H01cio'\")\n",
            "(97, \"'@ill_luke_023 @Recruit2Illini @DravynGibbs @MVABasketball @indyheatgymrats @CoachUnderwood @IlliniMBB I look forward to him running point and leading this offense to big things!'\")\n",
            "(98, \"'@ill_luke_023 @Recruit2Illini @igb_Amani @MSJ_Basketball @teamdurant_AAU @CoachUnderwood @IlliniMBB I love his skills. He will be a weapon for us!'\")\n",
            "(99, \"'@IlliniMBB @DDainja Dain should start over Coleman!'\")\n"
          ]
        }
      ]
    },
    {
      "cell_type": "code",
      "source": [
        "from transformers import pipeline\n",
        "sentiment_pipeline = pipeline(\"sentiment-analysis\")\n",
        "data = df\n",
        "list = df['content'].astype(str).tolist()\n"
      ],
      "metadata": {
        "id": "Gv27OWdjV6DP",
        "colab": {
          "base_uri": "https://localhost:8080/",
          "height": 180,
          "referenced_widgets": [
            "66ca6ca5e9c74d1993beb5a5c56f455c",
            "9719acbf0c654e5b894de8577c4693a6",
            "aa43ad3a81a348ab84b4a87b1bd2a2e3",
            "281b794038074dd6b5c8149bd3b0105f",
            "82e8bb997a6d469aa7230a5ef600be64",
            "f1f4c7446f5a4869a66cb647bd71dc31",
            "a91828a8872a45238c36086e53bd80d4",
            "5b458ba528c047148a7bb30b52209036",
            "25dc8c258a8a4a50a976d7f047783fb1",
            "6ca1dc5af40d497aa28b61f3f8dd393e",
            "30bf47c3709043ab83458451ca21614d",
            "812d1fc9e4d34d8a9365b976c0e0e66a",
            "04eeaee3bed34df0b95abf1d51e69141",
            "e43e9d90d2854b4182c033219345e4f9",
            "00b2298916294995bdc19be269034941",
            "007fa6d917de4e37bc9ebbdd4dbdb953",
            "c37abb3d7dee44f2b2060a5242646046",
            "c4af19311c3f40609100ce8124d1ffa0",
            "1e32b379383c4778921dd52e7f4dada0",
            "962f8e9ebc3b4708a37e66c0e570806a",
            "8285a707fab946d48bf29f9d65b58a5e",
            "d108e807b26b464c834a55f0f8945577",
            "4c83d49da7294f13b48d208e0b5b06ef",
            "4d02a7faab2e4573b3fb9e846498f390",
            "fe80288db90541bba732a22752925be6",
            "59edfe6eb79c4e02a7bdde3849faa2b8",
            "a6bd868598614459a8e81656bc9af993",
            "3489569cf97a4715bee93a563435a4b2",
            "20a11809ebdc426fad4354c7f8aa8ef6",
            "cafce3d604424700a6e267364012a92c",
            "50d3e5d4f4e147de9ea39cb6e048ec0c",
            "73e1294b0b5d4cee9827b612a397063b",
            "32a6c70418594e51882420e1efe6a3e7",
            "77d9beec7a1a456a870f5bc9ae6f9e14",
            "30386c2fcb424273882de36fdd92b3e0",
            "581723fe8a6e4c3da99afe9c912a2b7f",
            "8376be37e2e74031a55535566b075cb5",
            "17f6d5c319c7403a8e4f6abd10e10927",
            "85dafff137424ecf936b9d553815735a",
            "c1cd6c8b611a48099daf68e6169dde14",
            "989e89f9ceb14c119c3689a2a09d9121",
            "edb6afe81a6d4c2280b8edcf080e3036",
            "f9cfdb2bfc74420c94d5a0ac227192b3",
            "951330204db94f87a329ec53bddc29ce"
          ]
        },
        "outputId": "58b90e54-8d9b-45e4-c132-ac88a1c1e5a0"
      },
      "execution_count": null,
      "outputs": [
        {
          "output_type": "stream",
          "name": "stderr",
          "text": [
            "No model was supplied, defaulted to distilbert-base-uncased-finetuned-sst-2-english and revision af0f99b (https://huggingface.co/distilbert-base-uncased-finetuned-sst-2-english).\n",
            "Using a pipeline without specifying a model name and revision in production is not recommended.\n"
          ]
        },
        {
          "output_type": "display_data",
          "data": {
            "text/plain": [
              "Downloading:   0%|          | 0.00/629 [00:00<?, ?B/s]"
            ],
            "application/vnd.jupyter.widget-view+json": {
              "version_major": 2,
              "version_minor": 0,
              "model_id": "66ca6ca5e9c74d1993beb5a5c56f455c"
            }
          },
          "metadata": {}
        },
        {
          "output_type": "display_data",
          "data": {
            "text/plain": [
              "Downloading:   0%|          | 0.00/268M [00:00<?, ?B/s]"
            ],
            "application/vnd.jupyter.widget-view+json": {
              "version_major": 2,
              "version_minor": 0,
              "model_id": "812d1fc9e4d34d8a9365b976c0e0e66a"
            }
          },
          "metadata": {}
        },
        {
          "output_type": "display_data",
          "data": {
            "text/plain": [
              "Downloading:   0%|          | 0.00/48.0 [00:00<?, ?B/s]"
            ],
            "application/vnd.jupyter.widget-view+json": {
              "version_major": 2,
              "version_minor": 0,
              "model_id": "4c83d49da7294f13b48d208e0b5b06ef"
            }
          },
          "metadata": {}
        },
        {
          "output_type": "display_data",
          "data": {
            "text/plain": [
              "Downloading:   0%|          | 0.00/232k [00:00<?, ?B/s]"
            ],
            "application/vnd.jupyter.widget-view+json": {
              "version_major": 2,
              "version_minor": 0,
              "model_id": "77d9beec7a1a456a870f5bc9ae6f9e14"
            }
          },
          "metadata": {}
        }
      ]
    },
    {
      "cell_type": "code",
      "source": [
        "score_set = sentiment_pipeline(list)\n",
        "average = 0\n",
        "count = 0\n",
        "\n",
        "for x in score_set:\n",
        "  if (x['label'] == 'NEGATIVE'):\n",
        "    average = average - (x['score'])\n",
        "  else:\n",
        "    average = average + (x['score'])\n",
        "  count += 1\n",
        "\n",
        "average = average / count\n",
        "print(\"Average sentiment: \" + str(average))"
      ],
      "metadata": {
        "colab": {
          "base_uri": "https://localhost:8080/"
        },
        "id": "J8bu6Kxo3soe",
        "outputId": "f06be93f-aa3e-4cd5-fd1f-f0c2b13f64a2"
      },
      "execution_count": null,
      "outputs": [
        {
          "output_type": "stream",
          "name": "stdout",
          "text": [
            "Average sentiment: -0.4420957750082016\n"
          ]
        }
      ]
    },
    {
      "cell_type": "markdown",
      "source": [
        "API Tweepy"
      ],
      "metadata": {
        "id": "Umkqi7rTpa_1"
      }
    },
    {
      "cell_type": "code",
      "source": [
        "api_key =  \"qoHykDTyFDIN0GdlnUHsI5dek\"\n",
        "api_key_secret = \"tt3Xe8Za0yuQTjqiXoVWWcmLqfejh41SljZf0uVlvE8JxdPzo5\"\n",
        "access_token = \"1587238601766719489-b6AZWjTRlpDi2gFe0spDBeXm8DYt3L\"\n",
        "access_token_secret =   \"89MwP7atYbn34psj2VRQh9sCfekLxLSl7pJjUHMbEBbwM\""
      ],
      "metadata": {
        "id": "rFYSqVvjJIkn"
      },
      "execution_count": null,
      "outputs": []
    },
    {
      "cell_type": "code",
      "source": [
        "authenticator = tweepy.OAuthHandler(api_key, api_key_secret)\n",
        "authenticator.set_access_token(access_token, access_token_secret)"
      ],
      "metadata": {
        "id": "jpRYujloJafC"
      },
      "execution_count": null,
      "outputs": []
    },
    {
      "cell_type": "code",
      "source": [
        "api = tweepy.API(authenticator, wait_on_rate_limit=True)\n",
        "\n",
        "# posts = api.user_timeline(screen_name=\"BillGates\", count = 100, lang=\"en\", tweet_mode=\"extended\")\n",
        "# print(\"Show 5 most recent tweets on timeline: /n\")\n",
        "# for tweet in posts[0:5]:\n",
        "#   print(tweet.full_text + '/n')"
      ],
      "metadata": {
        "id": "a8J48MzwJl9h"
      },
      "execution_count": null,
      "outputs": []
    },
    {
      "cell_type": "code",
      "source": [
        "team_dict = {\n",
        "    \"U Illinois\": \"@IlliniMBB\",\n",
        "    \"U Indiana\": \"@IndianaMBB\",\n",
        "    \"U Iowa\": \"@IowaHoops\",\n",
        "    \"U Maryland\": \"@TerrapinHoops\",\n",
        "    \"U Michigan\": \"@umichbball\",\n",
        "    \"U Minnesota\": \"@GopherMBB\",\n",
        "    \"U Nebraska\": \"@HuskerHoops\",\n",
        "    \"U Wisconsin\": \"@BadgerMBB\",\n",
        "    \"Michigan State\": \"@MSU_Basketball\",\n",
        "    \"Penn State\": \"@PennStateMBB\",\n",
        "    \"Ohio State\": \"@OhioStateHoops\",\n",
        "    \"Rutgers\": \"@RutgersMBB\",\n",
        "    \"Purdue\": \"@BoilerBall\",\n",
        "    \"Northwestern\": \"@NUMensBball\",\n",
        "}"
      ],
      "metadata": {
        "id": "5EQaoZsVAPan"
      },
      "execution_count": null,
      "outputs": []
    },
    {
      "cell_type": "code",
      "source": [
        "team = 'Illini'"
      ],
      "metadata": {
        "id": "-nFwdnoqJ1iO"
      },
      "execution_count": null,
      "outputs": []
    },
    {
      "cell_type": "code",
      "source": [],
      "metadata": {
        "id": "tgpujvbIyUDx"
      },
      "execution_count": null,
      "outputs": []
    },
    {
      "cell_type": "code",
      "source": [
        "search = f'#{team} -filter:retweets'\n",
        "tweet_cursor = tweepy.Cursor(api.search, q=search, lang='en', tweet_mode='extended').items(500)\n",
        "tweets = [tweet.full_text for tweet in tweet_cursor]\n",
        "tweets_df = pd.DataFrame(tweets, columns=['Tweets'])"
      ],
      "metadata": {
        "id": "R5pSIvDQJ6lh"
      },
      "execution_count": null,
      "outputs": []
    },
    {
      "cell_type": "code",
      "source": [
        "for _, row in tweets_df.iterrows():\n",
        "  row['Tweets'] = re.sub('http\\S+', '', row['Tweets'])\n",
        "  row['Tweets'] = re.sub('#\\S+', '', row['Tweets'])\n",
        "  row['Tweets'] = re.sub('@\\S+', '', row['Tweets'])\n",
        "  row['Tweets'] = re.sub('\\\\n', '', row['Tweets'])"
      ],
      "metadata": {
        "id": "SqIx8W7iP52Q"
      },
      "execution_count": null,
      "outputs": []
    },
    {
      "cell_type": "code",
      "source": [
        "tweets_df = df\n",
        "tweets_df['Polarity'] = tweets_df['Tweets'].map(lambda tweet: textblob.TextBlob(tweet).sentiment.Polarity)\n",
        "tweets_df['Result'] = tweets_df['Polarity'].map(lambda pol: '+' if pol > 0 else '-')"
      ],
      "metadata": {
        "id": "-_pArzcAQLua"
      },
      "execution_count": null,
      "outputs": []
    },
    {
      "cell_type": "code",
      "source": [
        "positive = tweets_df[tweets_df.Result == '+'].count()['Tweets']\n",
        "positive = tweets_df[tweets_df.Result == '-'].count()['Tweets']"
      ],
      "metadata": {
        "id": "kgWEfB4ZQqSy"
      },
      "execution_count": null,
      "outputs": []
    },
    {
      "cell_type": "code",
      "source": [
        "plt.bar([0,1], [positive, negative], label=['Positive', 'Negative'], color = ['orange', 'blue'])\n",
        "plt.show()"
      ],
      "metadata": {
        "id": "dfTfUQpJQ0kp"
      },
      "execution_count": null,
      "outputs": []
    }
  ]
}