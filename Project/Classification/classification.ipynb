{
 "cells": [
  {
   "cell_type": "code",
   "execution_count": null,
   "metadata": {},
   "outputs": [],
   "source": [
    "%pip install sportsreference"
   ]
  },
  {
   "cell_type": "code",
   "execution_count": 2,
   "metadata": {},
   "outputs": [],
   "source": [
    "from sportsreference.ncaab.teams import Teams\n",
    "from sportsreference.ncaab.schedule import Schedule"
   ]
  },
  {
   "cell_type": "code",
   "execution_count": 3,
   "metadata": {},
   "outputs": [],
   "source": [
    "teams = Teams(year='2022')"
   ]
  },
  {
   "cell_type": "code",
   "execution_count": 4,
   "metadata": {},
   "outputs": [
    {
     "name": "stdout",
     "output_type": "stream",
     "text": [
      "Big Ten conference teams: ['wisconsin', 'illinois', 'purdue', 'iowa', 'ohio-state', 'rutgers', 'michigan-state', 'michigan', 'indiana', 'northwestern', 'maryland', 'penn-state', 'minnesota', 'nebraska']\n"
     ]
    }
   ],
   "source": [
    "big_ten_teams = []\n",
    "for (team, conference) in teams._conferences_dict.items():\n",
    "    if conference == 'big-ten':\n",
    "        big_ten_teams.append(team)\n",
    "print(f\"Big Ten conference teams: {big_ten_teams}\")"
   ]
  },
  {
   "cell_type": "code",
   "execution_count": 5,
   "metadata": {},
   "outputs": [],
   "source": [
    "illinois_schedule = Schedule('illinois')"
   ]
  },
  {
   "cell_type": "code",
   "execution_count": 6,
   "metadata": {},
   "outputs": [
    {
     "data": {
      "text/html": [
       "<div>\n",
       "<style scoped>\n",
       "    .dataframe tbody tr th:only-of-type {\n",
       "        vertical-align: middle;\n",
       "    }\n",
       "\n",
       "    .dataframe tbody tr th {\n",
       "        vertical-align: top;\n",
       "    }\n",
       "\n",
       "    .dataframe thead th {\n",
       "        text-align: right;\n",
       "    }\n",
       "</style>\n",
       "<table border=\"1\" class=\"dataframe\">\n",
       "  <thead>\n",
       "    <tr style=\"text-align: right;\">\n",
       "      <th></th>\n",
       "      <th>arena</th>\n",
       "      <th>boxscore_index</th>\n",
       "      <th>date</th>\n",
       "      <th>datetime</th>\n",
       "      <th>game</th>\n",
       "      <th>location</th>\n",
       "      <th>opponent_abbr</th>\n",
       "      <th>opponent_conference</th>\n",
       "      <th>opponent_name</th>\n",
       "      <th>opponent_rank</th>\n",
       "      <th>overtimes</th>\n",
       "      <th>points_against</th>\n",
       "      <th>points_for</th>\n",
       "      <th>result</th>\n",
       "      <th>season_losses</th>\n",
       "      <th>season_wins</th>\n",
       "      <th>streak</th>\n",
       "      <th>time</th>\n",
       "      <th>type</th>\n",
       "    </tr>\n",
       "  </thead>\n",
       "  <tbody>\n",
       "    <tr>\n",
       "      <th>2021-11-09-20-illinois</th>\n",
       "      <td>State Farm Center</td>\n",
       "      <td>2021-11-09-20-illinois</td>\n",
       "      <td>Tue, Nov 9, 2021</td>\n",
       "      <td>2021-11-09 20:00:00</td>\n",
       "      <td>1</td>\n",
       "      <td>Home</td>\n",
       "      <td>jackson-state</td>\n",
       "      <td>SWAC</td>\n",
       "      <td>Jackson State</td>\n",
       "      <td>None</td>\n",
       "      <td>0</td>\n",
       "      <td>47</td>\n",
       "      <td>71</td>\n",
       "      <td>Win</td>\n",
       "      <td>0</td>\n",
       "      <td>1</td>\n",
       "      <td>W 1</td>\n",
       "      <td>8:00p</td>\n",
       "      <td>Reg</td>\n",
       "    </tr>\n",
       "    <tr>\n",
       "      <th>2021-11-12-21-illinois</th>\n",
       "      <td>State Farm Center</td>\n",
       "      <td>2021-11-12-21-illinois</td>\n",
       "      <td>Fri, Nov 12, 2021</td>\n",
       "      <td>2021-11-12 21:00:00</td>\n",
       "      <td>2</td>\n",
       "      <td>Home</td>\n",
       "      <td>arkansas-state</td>\n",
       "      <td>Sun Belt</td>\n",
       "      <td>Arkansas State</td>\n",
       "      <td>None</td>\n",
       "      <td>0</td>\n",
       "      <td>53</td>\n",
       "      <td>92</td>\n",
       "      <td>Win</td>\n",
       "      <td>0</td>\n",
       "      <td>2</td>\n",
       "      <td>W 2</td>\n",
       "      <td>9:00p</td>\n",
       "      <td>Reg</td>\n",
       "    </tr>\n",
       "    <tr>\n",
       "      <th>2021-11-15-19-marquette</th>\n",
       "      <td>Fiserv Forum</td>\n",
       "      <td>2021-11-15-19-marquette</td>\n",
       "      <td>Mon, Nov 15, 2021</td>\n",
       "      <td>2021-11-15 19:00:00</td>\n",
       "      <td>3</td>\n",
       "      <td>Away</td>\n",
       "      <td>marquette</td>\n",
       "      <td>Big East</td>\n",
       "      <td>Marquette</td>\n",
       "      <td>None</td>\n",
       "      <td>0</td>\n",
       "      <td>67</td>\n",
       "      <td>66</td>\n",
       "      <td>Loss</td>\n",
       "      <td>1</td>\n",
       "      <td>2</td>\n",
       "      <td>L 1</td>\n",
       "      <td>7:00p</td>\n",
       "      <td>Reg</td>\n",
       "    </tr>\n",
       "    <tr>\n",
       "      <th>2021-11-22-18-cincinnati</th>\n",
       "      <td>Sprint Center</td>\n",
       "      <td>2021-11-22-18-cincinnati</td>\n",
       "      <td>Mon, Nov 22, 2021</td>\n",
       "      <td>2021-11-22 18:30:00</td>\n",
       "      <td>4</td>\n",
       "      <td>Neutral</td>\n",
       "      <td>cincinnati</td>\n",
       "      <td>AAC</td>\n",
       "      <td>Cincinnati</td>\n",
       "      <td>None</td>\n",
       "      <td>0</td>\n",
       "      <td>71</td>\n",
       "      <td>51</td>\n",
       "      <td>Loss</td>\n",
       "      <td>2</td>\n",
       "      <td>2</td>\n",
       "      <td>L 2</td>\n",
       "      <td>6:30p</td>\n",
       "      <td>Reg</td>\n",
       "    </tr>\n",
       "    <tr>\n",
       "      <th>2021-11-23-19-kansas-state</th>\n",
       "      <td>Sprint Center</td>\n",
       "      <td>2021-11-23-19-kansas-state</td>\n",
       "      <td>Tue, Nov 23, 2021</td>\n",
       "      <td>2021-11-23 19:00:00</td>\n",
       "      <td>5</td>\n",
       "      <td>Neutral</td>\n",
       "      <td>kansas-state</td>\n",
       "      <td>Big 12</td>\n",
       "      <td>Kansas State</td>\n",
       "      <td>None</td>\n",
       "      <td>0</td>\n",
       "      <td>64</td>\n",
       "      <td>72</td>\n",
       "      <td>Win</td>\n",
       "      <td>2</td>\n",
       "      <td>3</td>\n",
       "      <td>W 1</td>\n",
       "      <td>7:00p</td>\n",
       "      <td>Reg</td>\n",
       "    </tr>\n",
       "  </tbody>\n",
       "</table>\n",
       "</div>"
      ],
      "text/plain": [
       "                                        arena              boxscore_index  \\\n",
       "2021-11-09-20-illinois      State Farm Center      2021-11-09-20-illinois   \n",
       "2021-11-12-21-illinois      State Farm Center      2021-11-12-21-illinois   \n",
       "2021-11-15-19-marquette          Fiserv Forum     2021-11-15-19-marquette   \n",
       "2021-11-22-18-cincinnati        Sprint Center    2021-11-22-18-cincinnati   \n",
       "2021-11-23-19-kansas-state      Sprint Center  2021-11-23-19-kansas-state   \n",
       "\n",
       "                                         date            datetime  game  \\\n",
       "2021-11-09-20-illinois       Tue, Nov 9, 2021 2021-11-09 20:00:00     1   \n",
       "2021-11-12-21-illinois      Fri, Nov 12, 2021 2021-11-12 21:00:00     2   \n",
       "2021-11-15-19-marquette     Mon, Nov 15, 2021 2021-11-15 19:00:00     3   \n",
       "2021-11-22-18-cincinnati    Mon, Nov 22, 2021 2021-11-22 18:30:00     4   \n",
       "2021-11-23-19-kansas-state  Tue, Nov 23, 2021 2021-11-23 19:00:00     5   \n",
       "\n",
       "                           location   opponent_abbr opponent_conference  \\\n",
       "2021-11-09-20-illinois         Home   jackson-state                SWAC   \n",
       "2021-11-12-21-illinois         Home  arkansas-state            Sun Belt   \n",
       "2021-11-15-19-marquette        Away       marquette            Big East   \n",
       "2021-11-22-18-cincinnati    Neutral      cincinnati                 AAC   \n",
       "2021-11-23-19-kansas-state  Neutral    kansas-state              Big 12   \n",
       "\n",
       "                             opponent_name opponent_rank  overtimes  \\\n",
       "2021-11-09-20-illinois       Jackson State          None          0   \n",
       "2021-11-12-21-illinois      Arkansas State          None          0   \n",
       "2021-11-15-19-marquette          Marquette          None          0   \n",
       "2021-11-22-18-cincinnati        Cincinnati          None          0   \n",
       "2021-11-23-19-kansas-state    Kansas State          None          0   \n",
       "\n",
       "                            points_against  points_for result  season_losses  \\\n",
       "2021-11-09-20-illinois                  47          71    Win              0   \n",
       "2021-11-12-21-illinois                  53          92    Win              0   \n",
       "2021-11-15-19-marquette                 67          66   Loss              1   \n",
       "2021-11-22-18-cincinnati                71          51   Loss              2   \n",
       "2021-11-23-19-kansas-state              64          72    Win              2   \n",
       "\n",
       "                            season_wins streak   time type  \n",
       "2021-11-09-20-illinois                1    W 1  8:00p  Reg  \n",
       "2021-11-12-21-illinois                2    W 2  9:00p  Reg  \n",
       "2021-11-15-19-marquette               2    L 1  7:00p  Reg  \n",
       "2021-11-22-18-cincinnati              2    L 2  6:30p  Reg  \n",
       "2021-11-23-19-kansas-state            3    W 1  7:00p  Reg  "
      ]
     },
     "execution_count": 6,
     "metadata": {},
     "output_type": "execute_result"
    }
   ],
   "source": [
    "df = illinois_schedule.dataframe\n",
    "df.head()"
   ]
  },
  {
   "cell_type": "code",
   "execution_count": 7,
   "metadata": {},
   "outputs": [
    {
     "name": "stdout",
     "output_type": "stream",
     "text": [
      "<class 'pandas.core.frame.DataFrame'>\n",
      "Index: 33 entries, 2021-11-09-20-illinois to 2022-03-20-12-illinois\n",
      "Data columns (total 19 columns):\n",
      " #   Column               Non-Null Count  Dtype         \n",
      "---  ------               --------------  -----         \n",
      " 0   arena                33 non-null     object        \n",
      " 1   boxscore_index       33 non-null     object        \n",
      " 2   date                 33 non-null     object        \n",
      " 3   datetime             33 non-null     datetime64[ns]\n",
      " 4   game                 33 non-null     int64         \n",
      " 5   location             33 non-null     object        \n",
      " 6   opponent_abbr        33 non-null     object        \n",
      " 7   opponent_conference  33 non-null     object        \n",
      " 8   opponent_name        33 non-null     object        \n",
      " 9   opponent_rank        9 non-null      object        \n",
      " 10  overtimes            33 non-null     int64         \n",
      " 11  points_against       33 non-null     int64         \n",
      " 12  points_for           33 non-null     int64         \n",
      " 13  result               33 non-null     object        \n",
      " 14  season_losses        33 non-null     int64         \n",
      " 15  season_wins          33 non-null     int64         \n",
      " 16  streak               33 non-null     object        \n",
      " 17  time                 33 non-null     object        \n",
      " 18  type                 33 non-null     object        \n",
      "dtypes: datetime64[ns](1), int64(6), object(12)\n",
      "memory usage: 5.2+ KB\n"
     ]
    }
   ],
   "source": [
    "df.info()"
   ]
  },
  {
   "cell_type": "code",
   "execution_count": 8,
   "metadata": {},
   "outputs": [
    {
     "name": "stdout",
     "output_type": "stream",
     "text": [
      "Illinois wins in the 2021-22 season: 23\n"
     ]
    }
   ],
   "source": [
    "print(f\"Illinois wins in the 2021-22 season: {df[df['result'] == 'Win'].shape[0]}\")"
   ]
  }
 ],
 "metadata": {
  "kernelspec": {
   "display_name": "Python 3.9.13 64-bit ('anaconda3')",
   "language": "python",
   "name": "python3"
  },
  "language_info": {
   "codemirror_mode": {
    "name": "ipython",
    "version": 3
   },
   "file_extension": ".py",
   "mimetype": "text/x-python",
   "name": "python",
   "nbconvert_exporter": "python",
   "pygments_lexer": "ipython3",
   "version": "3.9.13"
  },
  "orig_nbformat": 4,
  "vscode": {
   "interpreter": {
    "hash": "9d9b8f8f01158b4162c6eca0c9e04004bdc609bdc275ae8230f5f735bd433193"
   }
  }
 },
 "nbformat": 4,
 "nbformat_minor": 2
}
