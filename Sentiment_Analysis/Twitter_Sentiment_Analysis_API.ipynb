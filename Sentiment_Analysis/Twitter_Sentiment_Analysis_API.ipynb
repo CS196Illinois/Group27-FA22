{
  "cells": [
    {
      "cell_type": "markdown",
      "metadata": {
        "id": "2aX2c2iapy0R"
      },
      "source": [
        "Temporary Workaround for "
      ]
    },
    {
      "cell_type": "code",
      "execution_count": null,
      "metadata": {
        "colab": {
          "base_uri": "https://localhost:8080/"
        },
        "id": "hYtHGNQdT6mM",
        "outputId": "7621668a-d12d-4f11-fa0d-4fda6266602e"
      },
      "outputs": [
        {
          "name": "stdout",
          "output_type": "stream",
          "text": [
            "\u001b[K     |████████████████████████████████| 59 kB 1.8 MB/s \n",
            "\u001b[K     |████████████████████████████████| 125 kB 10.3 MB/s \n",
            "\u001b[K     |████████████████████████████████| 5.8 MB 12.0 MB/s \n",
            "\u001b[K     |████████████████████████████████| 7.6 MB 71.4 MB/s \n",
            "\u001b[K     |████████████████████████████████| 182 kB 69.9 MB/s \n",
            "\u001b[?25h"
          ]
        }
      ],
      "source": [
        "!pip install -q snscrape\n",
        "!pip install -q vaderSentiment\n",
        "!pip install -q transformers"
      ]
    },
    {
      "cell_type": "code",
      "execution_count": null,
      "metadata": {
        "id": "orxUuoVBFVCH"
      },
      "outputs": [],
      "source": [
        "import os\n",
        "import pandas as pd\n",
        "import numpy as np\n",
        "import matplotlib.pyplot as plt\n",
        "import re\n",
        "import tweepy\n",
        "from datetime import date\n",
        "import textblob\n",
        "import transformers"
      ]
    },
    {
      "cell_type": "code",
      "execution_count": null,
      "metadata": {
        "colab": {
          "base_uri": "https://localhost:8080/"
        },
        "id": "wlvshItcUHt5",
        "outputId": "1cdceb33-11ce-4fef-89b4-31003d869e78"
      },
      "outputs": [
        {
          "name": "stdout",
          "output_type": "stream",
          "text": [
            "2022-12-04\n"
          ]
        }
      ],
      "source": [
        "today = date.today()\n",
        "end_date = today\n",
        "print(end_date)\n",
        "search_term = 'IlliniMBB'\n",
        "from_date = '2022-01-01'"
      ]
    },
    {
      "cell_type": "code",
      "execution_count": null,
      "metadata": {
        "colab": {
          "base_uri": "https://localhost:8080/"
        },
        "id": "T9RelBBxUZZo",
        "outputId": "a132f9f2-ff3a-4723-bac7-8e051ce441e6"
      },
      "outputs": [
        {
          "name": "stdout",
          "output_type": "stream",
          "text": [
            "Number Of Tweets : 46565\n"
          ]
        }
      ],
      "source": [
        "os.system(f\"snscrape --since {from_date} twitter-search '{search_term} until:{end_date}' > result-tweets.txt\")\n",
        "if os.stat(\"result-tweets.txt\").st_size == 0:\n",
        "  counter = 0\n",
        "else:\n",
        "  df = pd.read_csv('result-tweets.txt', names=['link'])\n",
        "  counter = df.size\n",
        "\n",
        "print('Number Of Tweets : '+ str(counter))"
      ]
    },
    {
      "cell_type": "code",
      "execution_count": null,
      "metadata": {
        "colab": {
          "base_uri": "https://localhost:8080/"
        },
        "id": "MHVQWlL6V1H-",
        "outputId": "0674c987-b985-4249-e226-0eedf08e22eb"
      },
      "outputs": [
        {
          "name": "stdout",
          "output_type": "stream",
          "text": [
            "(0, \"'@IlliniMBB good go fuck yourselves and you and you and you and YOU https://t.co/0F6O9noM4W'\")\n",
            "(1, \"'@RizKing4L @IlliniMBB Fr the shit unreal😂 even after Morsell left he STILL beat us too. Something in the water I fear.'\")\n",
            "(2, \"'@HoosierSweater @IlliniMBB Big Ten’s good\")\n",
            "(3, \"'@CBBonFOX @colehawk23 @IlliniMBB This was right after the announcers acted like Hawkins being on a guard was a mismatch lol'\")\n",
            "(4, \"'@GreenStCafeCU @IlliniMBB They’re our daddy we knew this would happen'\")\n",
            "(5, \"'@hoosier_tie @IlliniMBB Damn\")\n",
            "(6, \"'@HoosierSweater @IlliniMBB HA'\")\n",
            "(7, \"'Can we talk about (most) but not all\")\n",
            "(8, \"'@IlliniMBB VS @TexasMBB Prediction. https://t.co/6FcGDUQPo5'\")\n",
            "(9, \"'@KyleJLeonardd @IlliniMBB @BigTenNetwork @Sn1per_T Yeah you won at home. So now you shoot off your big mouth with a dumb comment. Typical eastern punk no class.'\")\n",
            "(10, \"'Watching @IndianaMBB vs @RutgersMBB - Indiana does NOT look like a top 10 team. @IlliniMBB looks like a top 5 team and @TerrapinHoops - even without the size/depth - is next to Houston/UVA/TX/UCONN/Zona. Both MD &amp; ILL are top 7 in the country. @B1GMBBall'\")\n",
            "(11, \"'@m65swede96 @CBBonFOX @TerrapinHoops @IlliniMBB all that would be cool if jahmir young didn’t own the state of Illinois'\")\n",
            "(12, \"'@DickieV @uscfb @Utah_Football @TerrapinHoops @KevinWillard @IlliniMBB 7-1 ATS'\")\n",
            "(13, \"'@IlliniMBB Still proud of you!!!!!!! On to the next WIN!!!'\")\n",
            "(14, \"'@DickieV @Jeff_Ermann @uscfb @Utah_Football @TerrapinHoops @KevinWillard @IlliniMBB Willard has them coached up! Perfect match: talented players and an exceptional coach! Go Terps'\")\n",
            "(15, \"@ETNfantasyowner @CBBonFOX @TerrapinHoops @IlliniMBB Big 10 Championship last season, won Big 10 Tourney year b4, beat a very good UCLA team in Las Vegas this year.\\\\nAnd there ain't no easy outs in the Big 10.\\\\nI embrace the suck. 👏 🙂\")\n",
            "(16, \"'@DickieV @uscfb @Utah_Football @TerrapinHoops @KevinWillard @IlliniMBB Yes. Dickie V! We need you back doing the Terps games like the good old days!'\")\n",
            "(17, \"'@hahafucvk @HoodieMaybin @IlliniMBB Wait\")\n",
            "(18, \"'@AnthonyRausch9 @HoodieMaybin @IlliniMBB https://t.co/wfVM5uIKsR'\")\n",
            "(19, \"'@DickieV @uscfb @Utah_Football @TerrapinHoops @KevinWillard @IlliniMBB I watched the Terps 1st! \\\\n\\\\nDef the biggest🐢 fan in Sarasota'\")\n",
            "(20, \"'Our 2022 Continental Tire Main Event All-Tournament team\\\\n\\\\n✴️ @unkle44artty - @UVAMensHoops \\\\n✴️ @Sn1per_T - @IlliniMBB \\\\n✴️ @adamflagler - @BaylorMBB \\\\n✴️ @tygercampbell15 - @UCLAMBB https://t.co/hkdPlA4m18'\")\n",
            "(21, \"'@IllinoisOnBTN @colehawk23 @IlliniMBB Such a swag player the past 2 games. Keep it up!'\")\n",
            "(22, \"'@lwllwww108 @gurtbmore @IlliniMBB You can’t beat Maryland 😂 it’s okay dude. Head to head we own you. No argument to be made tbh. Just eat the L. Hopefully you can get after the Texas fans in a few days 💪🏽'\")\n",
            "(23, \"'@takhtehchianmd @IlliniMBB He is playing well'\")\n",
            "(24, \"'@RizKing4L @gurtbmore @IlliniMBB Congrats!!! And they still won the Bigeten. Did you guys? I don’t think so.'\")\n",
            "(25, \"'@purbasket1 @MelendezRamses @OmarMelendez29 @IlliniMBB Y cómo lo critican los fanaticos de illinois'\")\n",
            "(26, \"'@lwllwww108 @gurtbmore @IlliniMBB Our coach quit 5 games in. AND you guys were the #2 team in the country? AND we’re at home?🤣🤣 https://t.co/cNQibKAejJ'\")\n",
            "(27, \"'@lwllwww108 @gurtbmore @IlliniMBB A lot of confidence for just getting beat there bud'\")\n",
            "(28, \"'@IlliniMBB @jimmyjohns @Sn1per_T @MelendezRamses @MatthewMayer24 @colehawk23 @skyyclark 🧡🧡🧡🧡'\")\n",
            "(29, \"'After reading all the coverage from the @IlliniMBB loss last night. Will Harris be available Tuesday and how close is Goode?'\")\n",
            "(30, \"@DickieV @uscfb @Utah_Football @TerrapinHoops @KevinWillard @IlliniMBB Utes solid men's hoops too. 100% pick Michigan over Purdue in B1G 🏈🏈 game tonight. Same bunch that took USC over Utes. What a farce. Oh 98% took Buckeyes over Blue last 🏈🏈 game too. See myself out now.\")\n",
            "(31, \"'@DickieV @uscfb @Utah_Football @TerrapinHoops @KevinWillard @IlliniMBB The crowd was electric last night and the guys played great!  Such a fun game to be at!  Terps are back\")\n",
            "(32, \"'@IlliniMBB @CoachUnderwood @colehawk23 @skyyclark @Sn1per_T https://t.co/077hwXsRFO'\")\n",
            "(33, \"@DickieV @WBALPete @uscfb @Utah_Football @TerrapinHoops @KevinWillard @IlliniMBB I met you outside Baltimore a year after V passed; you were speaking to the McCormick Unsung Heroes award winners. You couldn't make it the previous year because of V's death, but you promised to return and KEPT THAT PROMISE! Whenever someone knocks you, I tell that story...\")\n",
            "(34, \"'@RizKing4L @gurtbmore @IlliniMBB I guess they saved themselves a loss then.'\")\n",
            "(35, \"'@gurtbmore @IlliniMBB Bruh Lol. So lame. Let’s see who wins the Bigten this year.'\")\n",
            "(36, \"'@lwllwww108 @gurtbmore @IlliniMBB Bruh we have beaten y’all there too lol wym?'\")\n",
            "(37, '\\'@DickieV @uscfb @Utah_Football @TerrapinHoops @KevinWillard @IlliniMBB I was at the game Dickie. 30 years of watching @TerrapinHoops - the intensity of the players and staff tells me they are going to keep surprising many. Only issue is no depth down low. My \"Plastic Man\" candidate for \\\\\\'23 season is @jujureese06. Juju vacuums up any balls near him.\\'')\n",
            "(38, \"'@lwllwww108 @gurtbmore @IlliniMBB We don’t go to you guys Lmao'\")\n",
            "(39, \"'@TheKingfisher18 @IlliniMBB We always find a way to beat you guys 😂😂 heartbreakers'\")\n",
            "(40, \"'@BearDownJohn @ZFarm__ @Ryandubberton @austinholman03 @IlliniMBB https://t.co/eB7CpOgqxx'\")\n",
            "(41, \"'@Jonathan_A_Hand @ChiSportsFanJoe @IlliniMBB Why that dude so pressed😂 lost to a good team on the road. Happens in college hoops'\")\n",
            "(42, \"'@RyanBla16923014 @ETNfantasyowner @CBBonFOX @TerrapinHoops @IlliniMBB Chicago is a 💩hole just like Baltimore but at least CP has some population and something to do there.'\")\n",
            "(43, \"'@IlliniMBB @CoachUnderwood @colehawk23 @skyyclark @Sn1per_T Skyy Clark WHAT HAPPENDUUHHHHH'\")\n",
            "(44, \"'@IlliniMBB https://t.co/7QdHY7itSw'\")\n",
            "(45, \"'@JackFederico @IlliniMBB Haha'\")\n",
            "(46, \"'@austinholman03 @chiefjawnz @ZFarm__ @IlliniMBB Bitter much lol'\")\n",
            "(47, \"'@TheKingfisher18 @IlliniMBB Likewise ha'\")\n",
            "(48, \"'@DrDonParker1 @IndianTrailDG58 @IlliniMBB You are too kind Don 🥰'\")\n",
            "(49, \"'@MrsCadard @IndianTrailDG58 @IlliniMBB They should hire you as a model!! 🤩'\")\n",
            "(50, \"'@DickieV @uscfb @Utah_Football @TerrapinHoops @KevinWillard @IlliniMBB Go Terps!'\")\n",
            "(51, \"There's still time to donate to the Jimmy V Classic Challenge!\\\\n\\\\n#Illini | #HTTO | #EveryDayGuys https://t.co/DHcqczMEeE\")\n",
            "(52, \"'@DickieV @uscfb @Utah_Football @TerrapinHoops @KevinWillard @IlliniMBB Utah is a very good team.'\")\n",
            "(53, \"'@DickieV @uscfb @Utah_Football @TerrapinHoops @KevinWillard @IlliniMBB That Utah qb is one tough dude after that big hit he took\")\n",
            "(54, \"'@DickieV @uscfb @Utah_Football @TerrapinHoops @KevinWillard @IlliniMBB I watched the @TerrapinHoops game. Was a good game. MD down 14 to 13\")\n",
            "(55, \"'@DickieV @uscfb @Utah_Football @TerrapinHoops @KevinWillard @IlliniMBB How you feeling about Uconn?'\")\n",
            "(56, \"'@DickieV @uscfb @Utah_Football @TerrapinHoops @KevinWillard @IlliniMBB https://t.co/5wpU7T6Plf'\")\n",
            "(57, \"'Last night if u were like me &amp; watching the meltdown of @uscfb  vs a tenacious @Utah_Football  team that was ready to play u probably missed the statement W in hoops by @TerrapinHoops &amp; @KevinWillard  as Terps beat # 16 @IlliniMBB . MARYLAND is now 8-0!'\")\n",
            "(58, \"'@EdIllini @IlliniFootball @IlliniMBB @wdws1400 Thank you for coming to #StadiumSale2022!'\")\n",
            "(59, \"'Fast moving \\\\u2066@GamedaySpirit\\\\u2069 \\\\u2066@IlliniFootball\\\\u2069 \\\\u2066@IlliniMBB\\\\u2069 \\\\u2066@wdws1400\\\\u2069 https://t.co/C2SKWVdOhl'\")\n",
            "(60, \"'.@GamedaySpirit Stadium Sale @IlliniFootball @IlliniMBB @wdws1400 https://t.co/VnLu9wU5ZT'\")\n",
            "(61, \"'@pheeltheturn @CBBonFOX @TerrapinHoops @IlliniMBB Ahhhh too bad'\")\n",
            "(62, \"'@42069ekafsdivoc @CBBonFOX @TerrapinHoops @IlliniMBB Nope'\")\n",
            "(63, \"'@srrichey @IlliniMBB Bring back the 1990-era blues\")\n",
            "(64, \"@RafaGvzman @DCSPORTSNATION1 @IlliniMBB @colehawk23 @MelendezRamses Y'all became barely relevant a few years ago, and you're pumping your chest. You need to chill my man!! We win championships and y'all don't\")\n",
            "(65, \"'@benjdarnell @MeganRochele @Corso02 @IlliniMBB @CoachUnderwood @colehawk23 @skyyclark @Sn1per_T Are you gonna be okay man? It’s a new day\")\n",
            "(66, \"'@benjdarnell @MeganRochele @DMVSPORTSFAN8 @IlliniMBB @CoachUnderwood @colehawk23 @skyyclark @Sn1per_T 100%. And the Shannon call was bang bang. \\\\n\\\\nColeman also got swatted across the arm on a shot attempt and nothing was called and that was clear as day. \\\\n\\\\nThe Melendez charge was a block and it wasn’t even close.\\\\n\\\\nAlso Dain got called for an offensive foul where there wasnt one.'\")\n",
            "(67, \"'@IlliniMBB @BigTenNetwork @Sn1per_T https://t.co/sTBnxpbrtf'\")\n",
            "(68, \"'STORY: Big #NIL news out of the @IlliniMBB program. Check out what it all means in my latest for @WritingIlliniFS. @NextName_io is gonna do great things for the student-athletes moving forward. @CoachUnderwood @TheOrangeKrush @StateFarmCenter \\\\n\\\\nhttps://t.co/CodP8pw5MU'\")\n",
            "(69, \"'@TheKingfisher18 @IlliniMBB good with that.'\")\n",
            "(70, \"'@hahafucvk @HoodieMaybin @IlliniMBB Michigan is terrible so I would sit this one out and just enjoy football while it lasts.'\")\n",
            "(71, \"'@IlliniMBB great game.'\")\n",
            "(72, \"'@MeganRochele @Corso02 @DMVSPORTSFAN8 @IlliniMBB @CoachUnderwood @colehawk23 @skyyclark @Sn1per_T Calls like the Melendez breakaway were more momentum shifting.  Those are the calls that result in 4 point swings.'\")\n",
            "(73, \"'@Corso02 @DMVSPORTSFAN8 @benjdarnell @IlliniMBB @CoachUnderwood @colehawk23 @skyyclark @Sn1per_T Fouled after the travel'\")\n",
            "(74, \"'SOO much energy for @TerrapinHoops @bigten opening win at #XfinityCenter against @IlliniMBB New @umterps coach @KevinWillard….”I thought the crowd was off the charts\")\n",
            "(75, \"No. 22 @TerrapinHoops secured a statement win on Friday night, defeating No. 16 @IlliniMBB 71-66 in the Gold Rush game.\\\\n\\\\nHere's how the game sounded on WMUC Sports with @nateschwartz_ and @AaronArnstein on the call!\\\\nhttps://t.co/k7ZJ30FlWu\")\n",
            "(76, \"'@ChrisMcNeall @IlliniMBB Lol 😂 I was high fiving everyone. We are BACKKK 🐢🤘 https://t.co/1XaCpyDgeP'\")\n",
            "(77, \"'@buttmilkboy @m65swede96 @CBBonFOX @TerrapinHoops @IlliniMBB https://t.co/RtYDoOuL8t'\")\n",
            "(78, \"'@banks_rahim @IlliniMBB Yup haha'\")\n",
            "(79, \"'@ChrisMcNeall @IlliniMBB Only shit bro you was right behind me lol'\")\n",
            "(80, \"@bruingma @CBBonFOX @TerrapinHoops @IlliniMBB Couldn't agree more. When will he abandon the motion offense 30 feet from the basket?\")\n",
            "(81, \"'@2BartCooper2 @benchsense @IlliniTim1959 @laleslie425 @CBBonFOX @TerrapinHoops @IlliniMBB Spoken like a true candy ass'\")\n",
            "(82, \"'@benjdarnell @IlliniMBB @CoachUnderwood @colehawk23 @skyyclark @Sn1per_T SOOOOO Totally agree ~ a bit whistle heavy on the Illini!  By far a biased crew!!'\")\n",
            "(83, \"'@ETNfantasyowner @m65swede96 @CBBonFOX @TerrapinHoops @IlliniMBB Maryland paid the refs.  Easy.  Ughhhhhh'\")\n",
            "(84, \"'@JoshHull @kevinsheehanDC @IlliniMBB Great call! I will pour one out to that 🍻'\")\n",
            "(85, \"'@zainbando99 @UofIllinois @IlliniMBB @ChicagoILLINI @IlliniAthletics @CoachUnderwood @Illini_Guys @IllinoisOnBTN @BarstoolILL @TheOrangeKrush @IlliniPride Good game! Illini must improve their 3-point %.'\")\n",
            "(86, \"'@DMVSPORTSFAN8 @benjdarnell @IlliniMBB @CoachUnderwood @colehawk23 @skyyclark @Sn1per_T The one where he was fouled? \\\\n\\\\nWe can say Maryland played better\")\n",
            "(87, \"'@AdamZagoria @TerrapinHoops @IlliniMBB That chrome dome bastard'\")\n",
            "(88, \"'Ironically today is the 1st annual Mark-Turgeon-Resignation-Day for those who celebrate 🥳 @kevinsheehanDC #TerpNation #Maryland #fireturgeon #KevinWillard  #Terps It ought 2 be an effing state holiday\\\\n🍺🍺🍺🍺🍺🍺🍺🍺🍺🍺\\\\n@IlliniMBB https://t.co/kAgO6oJGWz'\")\n",
            "(89, \"'@m65swede96 @CBBonFOX @TerrapinHoops @IlliniMBB too bad his alma mater sucks at basketball'\")\n",
            "(90, \"'@CBBonFOX @TerrapinHoops @IlliniMBB Maryland'\")\n",
            "(91, \"'@IlliniMBB recruit all these big shooters and everyone is to scared to shoot the ball?'\")\n",
            "(92, \"'@MrsCadard @IndianTrailDG58 @IlliniMBB Love the pin too!🙌🍊🐸'\")\n",
            "(93, \"'@megcoffey21 @IlliniMBB The students and fans built their love and passion for Terp’s basketball during the ACC years! #LetsGoooooMaryland'\")\n",
            "(94, \"'@terrapinhoops gets the upset win over @illinimbb #betweenthebaselines #maryland #illinois https://t.co/zi14kkaLAv'\")\n",
            "(95, \"'@AdamZagoria @TerrapinHoops @IlliniMBB Great to have a competent coach again!!!'\")\n",
            "(96, \"'Kevin Willard has No. 22 @TerrapinHoops at 8-0 after their win over No. 16 @IlliniMBB \\\\n\\\\nNext up: at Wisconsin on Tuesday https://t.co/ikooxkrMPn'\")\n",
            "(97, \"'@CBBonFOX @TerrapinHoops @IlliniMBB https://t.co/xUpTU0Bwat'\")\n",
            "(98, \"'@IlliniMBB Live and learn. This team is gonna be tough by march\")\n",
            "(99, \"@pheeltheturn @CBBonFOX @TerrapinHoops @IlliniMBB This ain't a dance off Holmes.\")\n"
          ]
        }
      ],
      "source": [
        "max_results = 100\n",
        "extracted_tweets = \"snscrape --format '{content!r}'\"+ f\" --max-results {max_results} --since {from_date} twitter-search '{search_term} until:{end_date}' > extracted-tweets.txt\"\n",
        "os.system(extracted_tweets)\n",
        "if os.stat(\"extracted-tweets.txt\").st_size == 0:\n",
        "  print('No Tweets found')\n",
        "else:\n",
        "  df = pd.read_csv('extracted-tweets.txt', names=['content'])\n",
        "  for row in df['content'].iteritems():\n",
        "    print(row)"
      ]
    },
    {
      "cell_type": "code",
      "execution_count": null,
      "metadata": {
        "colab": {
          "base_uri": "https://localhost:8080/",
          "height": 199,
          "referenced_widgets": [
            "fddcbbb212114bbbb8dd39f8c117bb27",
            "7e7142975f744cc4bd3ea1abc8891552",
            "7f6a1b15f2ce4db4abc00e73d488e87a",
            "a959e3ad6bdb4e589da533cdbf8b39de",
            "55826442bb7f45f5a2c335e90d125fbc",
            "74e6e4023e1e460abbdf2346ee194869",
            "5287392568c04e9dad86d50fdc76fb00",
            "ea1ec83f86e6424ebb3d000a4d64b488",
            "38621f229ee8432592f93eca152b138c",
            "20740fb986bc4dd4a29096c562c5372a",
            "ff61c143aa114e808df48a55f282da66",
            "44a7bbb187984b21a6231049d66c112b",
            "d93112eb29064371a432e49f0f32550b",
            "dd51696476604b6fb37dbc075c72a501",
            "679655a8ae6e4efe93b5b450bda9ac9f",
            "8eb30ba1354c45ccbc31cb82e6ed60aa",
            "9e3b6b662d6b416096060cf08001eb55",
            "393ff6b17ef440899f5a4c2d64995690",
            "1a66067927d14c768cfc9cab704c20e2",
            "d3c3d0f5a58e4253b8ccab9ebcbd6e23",
            "07f291e906374f0896e5827c080837f3",
            "f368e1be1b774aa4822c1d6d710b41ff",
            "69123e06e58c465d970327b8e40c2ef3",
            "72a31afa01644ef19bd08e482e87ab4c",
            "f442fd0ecd2740afbeb55779b0322215",
            "c6006201e13244dd9fa66694ef19b92a",
            "4fd9c51f8c8845b2a1accb04a066457b",
            "694bc34ed81f4c4fb0c63be44922d951",
            "ffe621ed9fc14c6c9882ba484258f5c2",
            "425700714d8c4f3a8cd3140585963dea",
            "1b3e8672a6444f44b15e7bb8738e0260",
            "2d3b5aa9df5c432b93dbe12aacdbdcfe",
            "dea4dc629e524dab8d42b36290dbf902",
            "b98de4a419c54d718f9348e7c2be039d",
            "7ecdd32b15214f8daadda6ab73609bf3",
            "91b1be26c8f14253a901bd91cc172fa2",
            "d4d93372dffe41c7a6e4dd89427e1eda",
            "17844af4bdc5482c8f076b253d9618c8",
            "45badec094034ac89797f8f8acb2bae8",
            "b9e024cd17d14cf681540f395cbfcee0",
            "833c8e50029e492d93430e9b9d6bcb01",
            "a9dc04edf3524e62a079a28851b78bb4",
            "8dd8503e62f149e69189df18c4ce6d51",
            "9d718b89c9ef4e33a26633c9170f7fdd"
          ]
        },
        "id": "Gv27OWdjV6DP",
        "outputId": "a328e1cb-f8fc-465c-8d75-2950316215a5"
      },
      "outputs": [
        {
          "name": "stderr",
          "output_type": "stream",
          "text": [
            "No model was supplied, defaulted to distilbert-base-uncased-finetuned-sst-2-english and revision af0f99b (https://huggingface.co/distilbert-base-uncased-finetuned-sst-2-english).\n",
            "Using a pipeline without specifying a model name and revision in production is not recommended.\n"
          ]
        },
        {
          "data": {
            "application/vnd.jupyter.widget-view+json": {
              "model_id": "fddcbbb212114bbbb8dd39f8c117bb27",
              "version_major": 2,
              "version_minor": 0
            },
            "text/plain": [
              "Downloading:   0%|          | 0.00/629 [00:00<?, ?B/s]"
            ]
          },
          "metadata": {},
          "output_type": "display_data"
        },
        {
          "data": {
            "application/vnd.jupyter.widget-view+json": {
              "model_id": "44a7bbb187984b21a6231049d66c112b",
              "version_major": 2,
              "version_minor": 0
            },
            "text/plain": [
              "Downloading:   0%|          | 0.00/268M [00:00<?, ?B/s]"
            ]
          },
          "metadata": {},
          "output_type": "display_data"
        },
        {
          "data": {
            "application/vnd.jupyter.widget-view+json": {
              "model_id": "69123e06e58c465d970327b8e40c2ef3",
              "version_major": 2,
              "version_minor": 0
            },
            "text/plain": [
              "Downloading:   0%|          | 0.00/48.0 [00:00<?, ?B/s]"
            ]
          },
          "metadata": {},
          "output_type": "display_data"
        },
        {
          "data": {
            "application/vnd.jupyter.widget-view+json": {
              "model_id": "b98de4a419c54d718f9348e7c2be039d",
              "version_major": 2,
              "version_minor": 0
            },
            "text/plain": [
              "Downloading:   0%|          | 0.00/232k [00:00<?, ?B/s]"
            ]
          },
          "metadata": {},
          "output_type": "display_data"
        }
      ],
      "source": [
        "from transformers import pipeline\n",
        "sentiment_pipeline = pipeline(\"sentiment-analysis\")\n",
        "data = df\n",
        "list = df['content'].astype(str).tolist()\n"
      ]
    },
    {
      "cell_type": "code",
      "execution_count": null,
      "metadata": {
        "colab": {
          "base_uri": "https://localhost:8080/"
        },
        "id": "J8bu6Kxo3soe",
        "outputId": "01bb9101-37d5-4f2d-973d-8d89e0dd0d21"
      },
      "outputs": [
        {
          "name": "stdout",
          "output_type": "stream",
          "text": [
            "Average sentiment: -0.3780542504787445\n"
          ]
        }
      ],
      "source": [
        "score_set = sentiment_pipeline(list)\n",
        "average = 0\n",
        "count = 0\n",
        "\n",
        "for x in score_set:\n",
        "  if (x['label'] == 'NEGATIVE'):\n",
        "    average = average - (x['score'])\n",
        "  else:\n",
        "    average = average + (x['score'])\n",
        "  count += 1\n",
        "\n",
        "average = average / count\n",
        "print(\"Average sentiment: \" + str(average))"
      ]
    },
    {
      "cell_type": "markdown",
      "metadata": {
        "id": "Umkqi7rTpa_1"
      },
      "source": [
        "API Tweepy"
      ]
    },
    {
      "cell_type": "code",
      "execution_count": null,
      "metadata": {
        "id": "rFYSqVvjJIkn"
      },
      "outputs": [],
      "source": [
        "api_key =  \"qoHykDTyFDIN0GdlnUHsI5dek\"\n",
        "api_key_secret = \"tt3Xe8Za0yuQTjqiXoVWWcmLqfejh41SljZf0uVlvE8JxdPzo5\"\n",
        "access_token = \"1587238601766719489-b6AZWjTRlpDi2gFe0spDBeXm8DYt3L\"\n",
        "access_token_secret =   \"89MwP7atYbn34psj2VRQh9sCfekLxLSl7pJjUHMbEBbwM\""
      ]
    },
    {
      "cell_type": "code",
      "execution_count": null,
      "metadata": {
        "id": "jpRYujloJafC"
      },
      "outputs": [],
      "source": [
        "authenticator = tweepy.OAuthHandler(api_key, api_key_secret)\n",
        "authenticator.set_access_token(access_token, access_token_secret)"
      ]
    },
    {
      "cell_type": "code",
      "execution_count": null,
      "metadata": {
        "id": "a8J48MzwJl9h"
      },
      "outputs": [],
      "source": [
        "api = tweepy.API(authenticator, wait_on_rate_limit=True)\n",
        "\n",
        "# posts = api.user_timeline(screen_name=\"BillGates\", count = 100, lang=\"en\", tweet_mode=\"extended\")\n",
        "# print(\"Show 5 most recent tweets on timeline: /n\")\n",
        "# for tweet in posts[0:5]:\n",
        "#   print(tweet.full_text + '/n')"
      ]
    },
    {
      "cell_type": "code",
      "execution_count": null,
      "metadata": {
        "id": "5EQaoZsVAPan"
      },
      "outputs": [],
      "source": [
        "team_dict = {\n",
        "    \"U Illinois\": \"@IlliniMBB\",\n",
        "    \"U Indiana\": \"@IndianaMBB\",\n",
        "    \"U Iowa\": \"@IowaHoops\",\n",
        "    \"U Maryland\": \"@TerrapinHoops\",\n",
        "    \"U Michigan\": \"@umichbball\",\n",
        "    \"U Minnesota\": \"@GopherMBB\",\n",
        "    \"U Nebraska\": \"@HuskerHoops\",\n",
        "    \"U Wisconsin\": \"@BadgerMBB\",\n",
        "    \"Michigan State\": \"@MSU_Basketball\",\n",
        "    \"Penn State\": \"@PennStateMBB\",\n",
        "    \"Ohio State\": \"@OhioStateHoops\",\n",
        "    \"Rutgers\": \"@RutgersMBB\",\n",
        "    \"Purdue\": \"@BoilerBall\",\n",
        "    \"Northwestern\": \"@NUMensBball\",\n",
        "}"
      ]
    },
    {
      "cell_type": "code",
      "execution_count": null,
      "metadata": {
        "id": "-nFwdnoqJ1iO"
      },
      "outputs": [],
      "source": [
        "team = 'Illini'"
      ]
    },
    {
      "cell_type": "code",
      "execution_count": null,
      "metadata": {
        "id": "tgpujvbIyUDx"
      },
      "outputs": [],
      "source": []
    },
    {
      "cell_type": "code",
      "execution_count": null,
      "metadata": {
        "colab": {
          "base_uri": "https://localhost:8080/",
          "height": 358
        },
        "id": "R5pSIvDQJ6lh",
        "outputId": "f08be257-9841-4bf2-d358-e89c6c6ae550"
      },
      "outputs": [
        {
          "ename": "TweepError",
          "evalue": "ignored",
          "output_type": "error",
          "traceback": [
            "\u001b[0;31m---------------------------------------------------------------------------\u001b[0m",
            "\u001b[0;31mTweepError\u001b[0m                                Traceback (most recent call last)",
            "\u001b[0;32m<ipython-input-16-4b0f2dfe8fcd>\u001b[0m in \u001b[0;36m<module>\u001b[0;34m\u001b[0m\n\u001b[1;32m      1\u001b[0m \u001b[0msearch\u001b[0m \u001b[0;34m=\u001b[0m \u001b[0;34mf'#{team} -filter:retweets'\u001b[0m\u001b[0;34m\u001b[0m\u001b[0;34m\u001b[0m\u001b[0m\n\u001b[1;32m      2\u001b[0m \u001b[0mtweet_cursor\u001b[0m \u001b[0;34m=\u001b[0m \u001b[0mtweepy\u001b[0m\u001b[0;34m.\u001b[0m\u001b[0mCursor\u001b[0m\u001b[0;34m(\u001b[0m\u001b[0mapi\u001b[0m\u001b[0;34m.\u001b[0m\u001b[0msearch\u001b[0m\u001b[0;34m,\u001b[0m \u001b[0mq\u001b[0m\u001b[0;34m=\u001b[0m\u001b[0msearch\u001b[0m\u001b[0;34m,\u001b[0m \u001b[0mlang\u001b[0m\u001b[0;34m=\u001b[0m\u001b[0;34m'en'\u001b[0m\u001b[0;34m,\u001b[0m \u001b[0mtweet_mode\u001b[0m\u001b[0;34m=\u001b[0m\u001b[0;34m'extended'\u001b[0m\u001b[0;34m)\u001b[0m\u001b[0;34m.\u001b[0m\u001b[0mitems\u001b[0m\u001b[0;34m(\u001b[0m\u001b[0;36m500\u001b[0m\u001b[0;34m)\u001b[0m\u001b[0;34m\u001b[0m\u001b[0;34m\u001b[0m\u001b[0m\n\u001b[0;32m----> 3\u001b[0;31m \u001b[0mtweets\u001b[0m \u001b[0;34m=\u001b[0m \u001b[0;34m[\u001b[0m\u001b[0mtweet\u001b[0m\u001b[0;34m.\u001b[0m\u001b[0mfull_text\u001b[0m \u001b[0;32mfor\u001b[0m \u001b[0mtweet\u001b[0m \u001b[0;32min\u001b[0m \u001b[0mtweet_cursor\u001b[0m\u001b[0;34m]\u001b[0m\u001b[0;34m\u001b[0m\u001b[0;34m\u001b[0m\u001b[0m\n\u001b[0m\u001b[1;32m      4\u001b[0m \u001b[0mtweets_df\u001b[0m \u001b[0;34m=\u001b[0m \u001b[0mpd\u001b[0m\u001b[0;34m.\u001b[0m\u001b[0mDataFrame\u001b[0m\u001b[0;34m(\u001b[0m\u001b[0mtweets\u001b[0m\u001b[0;34m,\u001b[0m \u001b[0mcolumns\u001b[0m\u001b[0;34m=\u001b[0m\u001b[0;34m[\u001b[0m\u001b[0;34m'Tweets'\u001b[0m\u001b[0;34m]\u001b[0m\u001b[0;34m)\u001b[0m\u001b[0;34m\u001b[0m\u001b[0;34m\u001b[0m\u001b[0m\n",
            "\u001b[0;32m<ipython-input-16-4b0f2dfe8fcd>\u001b[0m in \u001b[0;36m<listcomp>\u001b[0;34m(.0)\u001b[0m\n\u001b[1;32m      1\u001b[0m \u001b[0msearch\u001b[0m \u001b[0;34m=\u001b[0m \u001b[0;34mf'#{team} -filter:retweets'\u001b[0m\u001b[0;34m\u001b[0m\u001b[0;34m\u001b[0m\u001b[0m\n\u001b[1;32m      2\u001b[0m \u001b[0mtweet_cursor\u001b[0m \u001b[0;34m=\u001b[0m \u001b[0mtweepy\u001b[0m\u001b[0;34m.\u001b[0m\u001b[0mCursor\u001b[0m\u001b[0;34m(\u001b[0m\u001b[0mapi\u001b[0m\u001b[0;34m.\u001b[0m\u001b[0msearch\u001b[0m\u001b[0;34m,\u001b[0m \u001b[0mq\u001b[0m\u001b[0;34m=\u001b[0m\u001b[0msearch\u001b[0m\u001b[0;34m,\u001b[0m \u001b[0mlang\u001b[0m\u001b[0;34m=\u001b[0m\u001b[0;34m'en'\u001b[0m\u001b[0;34m,\u001b[0m \u001b[0mtweet_mode\u001b[0m\u001b[0;34m=\u001b[0m\u001b[0;34m'extended'\u001b[0m\u001b[0;34m)\u001b[0m\u001b[0;34m.\u001b[0m\u001b[0mitems\u001b[0m\u001b[0;34m(\u001b[0m\u001b[0;36m500\u001b[0m\u001b[0;34m)\u001b[0m\u001b[0;34m\u001b[0m\u001b[0;34m\u001b[0m\u001b[0m\n\u001b[0;32m----> 3\u001b[0;31m \u001b[0mtweets\u001b[0m \u001b[0;34m=\u001b[0m \u001b[0;34m[\u001b[0m\u001b[0mtweet\u001b[0m\u001b[0;34m.\u001b[0m\u001b[0mfull_text\u001b[0m \u001b[0;32mfor\u001b[0m \u001b[0mtweet\u001b[0m \u001b[0;32min\u001b[0m \u001b[0mtweet_cursor\u001b[0m\u001b[0;34m]\u001b[0m\u001b[0;34m\u001b[0m\u001b[0;34m\u001b[0m\u001b[0m\n\u001b[0m\u001b[1;32m      4\u001b[0m \u001b[0mtweets_df\u001b[0m \u001b[0;34m=\u001b[0m \u001b[0mpd\u001b[0m\u001b[0;34m.\u001b[0m\u001b[0mDataFrame\u001b[0m\u001b[0;34m(\u001b[0m\u001b[0mtweets\u001b[0m\u001b[0;34m,\u001b[0m \u001b[0mcolumns\u001b[0m\u001b[0;34m=\u001b[0m\u001b[0;34m[\u001b[0m\u001b[0;34m'Tweets'\u001b[0m\u001b[0;34m]\u001b[0m\u001b[0;34m)\u001b[0m\u001b[0;34m\u001b[0m\u001b[0;34m\u001b[0m\u001b[0m\n",
            "\u001b[0;32m/usr/local/lib/python3.8/dist-packages/tweepy/cursor.py\u001b[0m in \u001b[0;36m__next__\u001b[0;34m(self)\u001b[0m\n\u001b[1;32m     49\u001b[0m \u001b[0;34m\u001b[0m\u001b[0m\n\u001b[1;32m     50\u001b[0m     \u001b[0;32mdef\u001b[0m \u001b[0m__next__\u001b[0m\u001b[0;34m(\u001b[0m\u001b[0mself\u001b[0m\u001b[0;34m)\u001b[0m\u001b[0;34m:\u001b[0m\u001b[0;34m\u001b[0m\u001b[0;34m\u001b[0m\u001b[0m\n\u001b[0;32m---> 51\u001b[0;31m         \u001b[0;32mreturn\u001b[0m \u001b[0mself\u001b[0m\u001b[0;34m.\u001b[0m\u001b[0mnext\u001b[0m\u001b[0;34m(\u001b[0m\u001b[0;34m)\u001b[0m\u001b[0;34m\u001b[0m\u001b[0;34m\u001b[0m\u001b[0m\n\u001b[0m\u001b[1;32m     52\u001b[0m \u001b[0;34m\u001b[0m\u001b[0m\n\u001b[1;32m     53\u001b[0m     \u001b[0;32mdef\u001b[0m \u001b[0mnext\u001b[0m\u001b[0;34m(\u001b[0m\u001b[0mself\u001b[0m\u001b[0;34m)\u001b[0m\u001b[0;34m:\u001b[0m\u001b[0;34m\u001b[0m\u001b[0;34m\u001b[0m\u001b[0m\n",
            "\u001b[0;32m/usr/local/lib/python3.8/dist-packages/tweepy/cursor.py\u001b[0m in \u001b[0;36mnext\u001b[0;34m(self)\u001b[0m\n\u001b[1;32m    241\u001b[0m         \u001b[0;32mif\u001b[0m \u001b[0mself\u001b[0m\u001b[0;34m.\u001b[0m\u001b[0mcurrent_page\u001b[0m \u001b[0;32mis\u001b[0m \u001b[0;32mNone\u001b[0m \u001b[0;32mor\u001b[0m \u001b[0mself\u001b[0m\u001b[0;34m.\u001b[0m\u001b[0mpage_index\u001b[0m \u001b[0;34m==\u001b[0m \u001b[0mlen\u001b[0m\u001b[0;34m(\u001b[0m\u001b[0mself\u001b[0m\u001b[0;34m.\u001b[0m\u001b[0mcurrent_page\u001b[0m\u001b[0;34m)\u001b[0m \u001b[0;34m-\u001b[0m \u001b[0;36m1\u001b[0m\u001b[0;34m:\u001b[0m\u001b[0;34m\u001b[0m\u001b[0;34m\u001b[0m\u001b[0m\n\u001b[1;32m    242\u001b[0m             \u001b[0;31m# Reached end of current page, get the next page...\u001b[0m\u001b[0;34m\u001b[0m\u001b[0;34m\u001b[0m\u001b[0;34m\u001b[0m\u001b[0m\n\u001b[0;32m--> 243\u001b[0;31m             \u001b[0mself\u001b[0m\u001b[0;34m.\u001b[0m\u001b[0mcurrent_page\u001b[0m \u001b[0;34m=\u001b[0m \u001b[0mself\u001b[0m\u001b[0;34m.\u001b[0m\u001b[0mpage_iterator\u001b[0m\u001b[0;34m.\u001b[0m\u001b[0mnext\u001b[0m\u001b[0;34m(\u001b[0m\u001b[0;34m)\u001b[0m\u001b[0;34m\u001b[0m\u001b[0;34m\u001b[0m\u001b[0m\n\u001b[0m\u001b[1;32m    244\u001b[0m             \u001b[0;32mwhile\u001b[0m \u001b[0mlen\u001b[0m\u001b[0;34m(\u001b[0m\u001b[0mself\u001b[0m\u001b[0;34m.\u001b[0m\u001b[0mcurrent_page\u001b[0m\u001b[0;34m)\u001b[0m \u001b[0;34m==\u001b[0m \u001b[0;36m0\u001b[0m\u001b[0;34m:\u001b[0m\u001b[0;34m\u001b[0m\u001b[0;34m\u001b[0m\u001b[0m\n\u001b[1;32m    245\u001b[0m                 \u001b[0mself\u001b[0m\u001b[0;34m.\u001b[0m\u001b[0mcurrent_page\u001b[0m \u001b[0;34m=\u001b[0m \u001b[0mself\u001b[0m\u001b[0;34m.\u001b[0m\u001b[0mpage_iterator\u001b[0m\u001b[0;34m.\u001b[0m\u001b[0mnext\u001b[0m\u001b[0;34m(\u001b[0m\u001b[0;34m)\u001b[0m\u001b[0;34m\u001b[0m\u001b[0;34m\u001b[0m\u001b[0m\n",
            "\u001b[0;32m/usr/local/lib/python3.8/dist-packages/tweepy/cursor.py\u001b[0m in \u001b[0;36mnext\u001b[0;34m(self)\u001b[0m\n\u001b[1;32m    130\u001b[0m \u001b[0;34m\u001b[0m\u001b[0m\n\u001b[1;32m    131\u001b[0m         \u001b[0;32mif\u001b[0m \u001b[0mself\u001b[0m\u001b[0;34m.\u001b[0m\u001b[0mindex\u001b[0m \u001b[0;34m>=\u001b[0m \u001b[0mlen\u001b[0m\u001b[0;34m(\u001b[0m\u001b[0mself\u001b[0m\u001b[0;34m.\u001b[0m\u001b[0mresults\u001b[0m\u001b[0;34m)\u001b[0m \u001b[0;34m-\u001b[0m \u001b[0;36m1\u001b[0m\u001b[0;34m:\u001b[0m\u001b[0;34m\u001b[0m\u001b[0;34m\u001b[0m\u001b[0m\n\u001b[0;32m--> 132\u001b[0;31m             \u001b[0mdata\u001b[0m \u001b[0;34m=\u001b[0m \u001b[0mself\u001b[0m\u001b[0;34m.\u001b[0m\u001b[0mmethod\u001b[0m\u001b[0;34m(\u001b[0m\u001b[0mmax_id\u001b[0m\u001b[0;34m=\u001b[0m\u001b[0mself\u001b[0m\u001b[0;34m.\u001b[0m\u001b[0mmax_id\u001b[0m\u001b[0;34m,\u001b[0m \u001b[0mparser\u001b[0m\u001b[0;34m=\u001b[0m\u001b[0mRawParser\u001b[0m\u001b[0;34m(\u001b[0m\u001b[0;34m)\u001b[0m\u001b[0;34m,\u001b[0m \u001b[0;34m*\u001b[0m\u001b[0mself\u001b[0m\u001b[0;34m.\u001b[0m\u001b[0margs\u001b[0m\u001b[0;34m,\u001b[0m \u001b[0;34m**\u001b[0m\u001b[0mself\u001b[0m\u001b[0;34m.\u001b[0m\u001b[0mkwargs\u001b[0m\u001b[0;34m)\u001b[0m\u001b[0;34m\u001b[0m\u001b[0;34m\u001b[0m\u001b[0m\n\u001b[0m\u001b[1;32m    133\u001b[0m \u001b[0;34m\u001b[0m\u001b[0m\n\u001b[1;32m    134\u001b[0m             \u001b[0;32mif\u001b[0m \u001b[0mhasattr\u001b[0m\u001b[0;34m(\u001b[0m\u001b[0mself\u001b[0m\u001b[0;34m.\u001b[0m\u001b[0mmethod\u001b[0m\u001b[0;34m,\u001b[0m \u001b[0;34m'__self__'\u001b[0m\u001b[0;34m)\u001b[0m\u001b[0;34m:\u001b[0m\u001b[0;34m\u001b[0m\u001b[0;34m\u001b[0m\u001b[0m\n",
            "\u001b[0;32m/usr/local/lib/python3.8/dist-packages/tweepy/binder.py\u001b[0m in \u001b[0;36m_call\u001b[0;34m(*args, **kwargs)\u001b[0m\n\u001b[1;32m    251\u001b[0m                 \u001b[0;32mreturn\u001b[0m \u001b[0mmethod\u001b[0m\u001b[0;34m\u001b[0m\u001b[0;34m\u001b[0m\u001b[0m\n\u001b[1;32m    252\u001b[0m             \u001b[0;32melse\u001b[0m\u001b[0;34m:\u001b[0m\u001b[0;34m\u001b[0m\u001b[0;34m\u001b[0m\u001b[0m\n\u001b[0;32m--> 253\u001b[0;31m                 \u001b[0;32mreturn\u001b[0m \u001b[0mmethod\u001b[0m\u001b[0;34m.\u001b[0m\u001b[0mexecute\u001b[0m\u001b[0;34m(\u001b[0m\u001b[0;34m)\u001b[0m\u001b[0;34m\u001b[0m\u001b[0;34m\u001b[0m\u001b[0m\n\u001b[0m\u001b[1;32m    254\u001b[0m         \u001b[0;32mfinally\u001b[0m\u001b[0;34m:\u001b[0m\u001b[0;34m\u001b[0m\u001b[0;34m\u001b[0m\u001b[0m\n\u001b[1;32m    255\u001b[0m             \u001b[0mmethod\u001b[0m\u001b[0;34m.\u001b[0m\u001b[0msession\u001b[0m\u001b[0;34m.\u001b[0m\u001b[0mclose\u001b[0m\u001b[0;34m(\u001b[0m\u001b[0;34m)\u001b[0m\u001b[0;34m\u001b[0m\u001b[0;34m\u001b[0m\u001b[0m\n",
            "\u001b[0;32m/usr/local/lib/python3.8/dist-packages/tweepy/binder.py\u001b[0m in \u001b[0;36mexecute\u001b[0;34m(self)\u001b[0m\n\u001b[1;32m    232\u001b[0m                     \u001b[0;32mraise\u001b[0m \u001b[0mRateLimitError\u001b[0m\u001b[0;34m(\u001b[0m\u001b[0merror_msg\u001b[0m\u001b[0;34m,\u001b[0m \u001b[0mresp\u001b[0m\u001b[0;34m)\u001b[0m\u001b[0;34m\u001b[0m\u001b[0;34m\u001b[0m\u001b[0m\n\u001b[1;32m    233\u001b[0m                 \u001b[0;32melse\u001b[0m\u001b[0;34m:\u001b[0m\u001b[0;34m\u001b[0m\u001b[0;34m\u001b[0m\u001b[0m\n\u001b[0;32m--> 234\u001b[0;31m                     \u001b[0;32mraise\u001b[0m \u001b[0mTweepError\u001b[0m\u001b[0;34m(\u001b[0m\u001b[0merror_msg\u001b[0m\u001b[0;34m,\u001b[0m \u001b[0mresp\u001b[0m\u001b[0;34m,\u001b[0m \u001b[0mapi_code\u001b[0m\u001b[0;34m=\u001b[0m\u001b[0mapi_error_code\u001b[0m\u001b[0;34m)\u001b[0m\u001b[0;34m\u001b[0m\u001b[0;34m\u001b[0m\u001b[0m\n\u001b[0m\u001b[1;32m    235\u001b[0m \u001b[0;34m\u001b[0m\u001b[0m\n\u001b[1;32m    236\u001b[0m             \u001b[0;31m# Parse the response payload\u001b[0m\u001b[0;34m\u001b[0m\u001b[0;34m\u001b[0m\u001b[0;34m\u001b[0m\u001b[0m\n",
            "\u001b[0;31mTweepError\u001b[0m: Twitter error response: status code = 403"
          ]
        }
      ],
      "source": [
        "search = f'#{team} -filter:retweets'\n",
        "tweet_cursor = tweepy.Cursor(api.search, q=search, lang='en', tweet_mode='extended').items(500)\n",
        "tweets = [tweet.full_text for tweet in tweet_cursor]\n",
        "tweets_df = pd.DataFrame(tweets, columns=['Tweets'])"
      ]
    },
    {
      "cell_type": "code",
      "execution_count": null,
      "metadata": {
        "id": "SqIx8W7iP52Q"
      },
      "outputs": [],
      "source": [
        "for _, row in tweets_df.iterrows():\n",
        "  row['Tweets'] = re.sub('http\\S+', '', row['Tweets'])\n",
        "  row['Tweets'] = re.sub('#\\S+', '', row['Tweets'])\n",
        "  row['Tweets'] = re.sub('@\\S+', '', row['Tweets'])\n",
        "  row['Tweets'] = re.sub('\\\\n', '', row['Tweets'])"
      ]
    },
    {
      "cell_type": "code",
      "execution_count": null,
      "metadata": {
        "id": "-_pArzcAQLua"
      },
      "outputs": [],
      "source": [
        "tweets_df = df\n",
        "tweets_df['Polarity'] = tweets_df['Tweets'].map(lambda tweet: textblob.TextBlob(tweet).sentiment.Polarity)\n",
        "tweets_df['Result'] = tweets_df['Polarity'].map(lambda pol: '+' if pol > 0 else '-')"
      ]
    },
    {
      "cell_type": "code",
      "execution_count": null,
      "metadata": {
        "id": "kgWEfB4ZQqSy"
      },
      "outputs": [],
      "source": [
        "positive = tweets_df[tweets_df.Result == '+'].count()['Tweets']\n",
        "positive = tweets_df[tweets_df.Result == '-'].count()['Tweets']"
      ]
    },
    {
      "cell_type": "code",
      "execution_count": null,
      "metadata": {
        "id": "dfTfUQpJQ0kp"
      },
      "outputs": [],
      "source": [
        "plt.bar([0,1], [positive, negative], label=['Positive', 'Negative'], color = ['orange', 'blue'])\n",
        "plt.show()"
      ]
    }
  ],
  "metadata": {
    "colab": {
      "provenance": []
    },
    "kernelspec": {
      "display_name": "Python 3.10.6 64-bit",
      "language": "python",
      "name": "python3"
    },
    "language_info": {
      "name": "python",
      "version": "3.10.6"
    },
    "vscode": {
      "interpreter": {
        "hash": "aee8b7b246df8f9039afb4144a1f6fd8d2ca17a180786b69acc140d282b71a49"
      }
    },
    "widgets": {
      "application/vnd.jupyter.widget-state+json": {
        "07f291e906374f0896e5827c080837f3": {
          "model_module": "@jupyter-widgets/base",
          "model_module_version": "1.2.0",
          "model_name": "LayoutModel",
          "state": {
            "_model_module": "@jupyter-widgets/base",
            "_model_module_version": "1.2.0",
            "_model_name": "LayoutModel",
            "_view_count": null,
            "_view_module": "@jupyter-widgets/base",
            "_view_module_version": "1.2.0",
            "_view_name": "LayoutView",
            "align_content": null,
            "align_items": null,
            "align_self": null,
            "border": null,
            "bottom": null,
            "display": null,
            "flex": null,
            "flex_flow": null,
            "grid_area": null,
            "grid_auto_columns": null,
            "grid_auto_flow": null,
            "grid_auto_rows": null,
            "grid_column": null,
            "grid_gap": null,
            "grid_row": null,
            "grid_template_areas": null,
            "grid_template_columns": null,
            "grid_template_rows": null,
            "height": null,
            "justify_content": null,
            "justify_items": null,
            "left": null,
            "margin": null,
            "max_height": null,
            "max_width": null,
            "min_height": null,
            "min_width": null,
            "object_fit": null,
            "object_position": null,
            "order": null,
            "overflow": null,
            "overflow_x": null,
            "overflow_y": null,
            "padding": null,
            "right": null,
            "top": null,
            "visibility": null,
            "width": null
          }
        },
        "17844af4bdc5482c8f076b253d9618c8": {
          "model_module": "@jupyter-widgets/base",
          "model_module_version": "1.2.0",
          "model_name": "LayoutModel",
          "state": {
            "_model_module": "@jupyter-widgets/base",
            "_model_module_version": "1.2.0",
            "_model_name": "LayoutModel",
            "_view_count": null,
            "_view_module": "@jupyter-widgets/base",
            "_view_module_version": "1.2.0",
            "_view_name": "LayoutView",
            "align_content": null,
            "align_items": null,
            "align_self": null,
            "border": null,
            "bottom": null,
            "display": null,
            "flex": null,
            "flex_flow": null,
            "grid_area": null,
            "grid_auto_columns": null,
            "grid_auto_flow": null,
            "grid_auto_rows": null,
            "grid_column": null,
            "grid_gap": null,
            "grid_row": null,
            "grid_template_areas": null,
            "grid_template_columns": null,
            "grid_template_rows": null,
            "height": null,
            "justify_content": null,
            "justify_items": null,
            "left": null,
            "margin": null,
            "max_height": null,
            "max_width": null,
            "min_height": null,
            "min_width": null,
            "object_fit": null,
            "object_position": null,
            "order": null,
            "overflow": null,
            "overflow_x": null,
            "overflow_y": null,
            "padding": null,
            "right": null,
            "top": null,
            "visibility": null,
            "width": null
          }
        },
        "1a66067927d14c768cfc9cab704c20e2": {
          "model_module": "@jupyter-widgets/base",
          "model_module_version": "1.2.0",
          "model_name": "LayoutModel",
          "state": {
            "_model_module": "@jupyter-widgets/base",
            "_model_module_version": "1.2.0",
            "_model_name": "LayoutModel",
            "_view_count": null,
            "_view_module": "@jupyter-widgets/base",
            "_view_module_version": "1.2.0",
            "_view_name": "LayoutView",
            "align_content": null,
            "align_items": null,
            "align_self": null,
            "border": null,
            "bottom": null,
            "display": null,
            "flex": null,
            "flex_flow": null,
            "grid_area": null,
            "grid_auto_columns": null,
            "grid_auto_flow": null,
            "grid_auto_rows": null,
            "grid_column": null,
            "grid_gap": null,
            "grid_row": null,
            "grid_template_areas": null,
            "grid_template_columns": null,
            "grid_template_rows": null,
            "height": null,
            "justify_content": null,
            "justify_items": null,
            "left": null,
            "margin": null,
            "max_height": null,
            "max_width": null,
            "min_height": null,
            "min_width": null,
            "object_fit": null,
            "object_position": null,
            "order": null,
            "overflow": null,
            "overflow_x": null,
            "overflow_y": null,
            "padding": null,
            "right": null,
            "top": null,
            "visibility": null,
            "width": null
          }
        },
        "1b3e8672a6444f44b15e7bb8738e0260": {
          "model_module": "@jupyter-widgets/controls",
          "model_module_version": "1.5.0",
          "model_name": "ProgressStyleModel",
          "state": {
            "_model_module": "@jupyter-widgets/controls",
            "_model_module_version": "1.5.0",
            "_model_name": "ProgressStyleModel",
            "_view_count": null,
            "_view_module": "@jupyter-widgets/base",
            "_view_module_version": "1.2.0",
            "_view_name": "StyleView",
            "bar_color": null,
            "description_width": ""
          }
        },
        "20740fb986bc4dd4a29096c562c5372a": {
          "model_module": "@jupyter-widgets/base",
          "model_module_version": "1.2.0",
          "model_name": "LayoutModel",
          "state": {
            "_model_module": "@jupyter-widgets/base",
            "_model_module_version": "1.2.0",
            "_model_name": "LayoutModel",
            "_view_count": null,
            "_view_module": "@jupyter-widgets/base",
            "_view_module_version": "1.2.0",
            "_view_name": "LayoutView",
            "align_content": null,
            "align_items": null,
            "align_self": null,
            "border": null,
            "bottom": null,
            "display": null,
            "flex": null,
            "flex_flow": null,
            "grid_area": null,
            "grid_auto_columns": null,
            "grid_auto_flow": null,
            "grid_auto_rows": null,
            "grid_column": null,
            "grid_gap": null,
            "grid_row": null,
            "grid_template_areas": null,
            "grid_template_columns": null,
            "grid_template_rows": null,
            "height": null,
            "justify_content": null,
            "justify_items": null,
            "left": null,
            "margin": null,
            "max_height": null,
            "max_width": null,
            "min_height": null,
            "min_width": null,
            "object_fit": null,
            "object_position": null,
            "order": null,
            "overflow": null,
            "overflow_x": null,
            "overflow_y": null,
            "padding": null,
            "right": null,
            "top": null,
            "visibility": null,
            "width": null
          }
        },
        "2d3b5aa9df5c432b93dbe12aacdbdcfe": {
          "model_module": "@jupyter-widgets/base",
          "model_module_version": "1.2.0",
          "model_name": "LayoutModel",
          "state": {
            "_model_module": "@jupyter-widgets/base",
            "_model_module_version": "1.2.0",
            "_model_name": "LayoutModel",
            "_view_count": null,
            "_view_module": "@jupyter-widgets/base",
            "_view_module_version": "1.2.0",
            "_view_name": "LayoutView",
            "align_content": null,
            "align_items": null,
            "align_self": null,
            "border": null,
            "bottom": null,
            "display": null,
            "flex": null,
            "flex_flow": null,
            "grid_area": null,
            "grid_auto_columns": null,
            "grid_auto_flow": null,
            "grid_auto_rows": null,
            "grid_column": null,
            "grid_gap": null,
            "grid_row": null,
            "grid_template_areas": null,
            "grid_template_columns": null,
            "grid_template_rows": null,
            "height": null,
            "justify_content": null,
            "justify_items": null,
            "left": null,
            "margin": null,
            "max_height": null,
            "max_width": null,
            "min_height": null,
            "min_width": null,
            "object_fit": null,
            "object_position": null,
            "order": null,
            "overflow": null,
            "overflow_x": null,
            "overflow_y": null,
            "padding": null,
            "right": null,
            "top": null,
            "visibility": null,
            "width": null
          }
        },
        "38621f229ee8432592f93eca152b138c": {
          "model_module": "@jupyter-widgets/controls",
          "model_module_version": "1.5.0",
          "model_name": "ProgressStyleModel",
          "state": {
            "_model_module": "@jupyter-widgets/controls",
            "_model_module_version": "1.5.0",
            "_model_name": "ProgressStyleModel",
            "_view_count": null,
            "_view_module": "@jupyter-widgets/base",
            "_view_module_version": "1.2.0",
            "_view_name": "StyleView",
            "bar_color": null,
            "description_width": ""
          }
        },
        "393ff6b17ef440899f5a4c2d64995690": {
          "model_module": "@jupyter-widgets/controls",
          "model_module_version": "1.5.0",
          "model_name": "DescriptionStyleModel",
          "state": {
            "_model_module": "@jupyter-widgets/controls",
            "_model_module_version": "1.5.0",
            "_model_name": "DescriptionStyleModel",
            "_view_count": null,
            "_view_module": "@jupyter-widgets/base",
            "_view_module_version": "1.2.0",
            "_view_name": "StyleView",
            "description_width": ""
          }
        },
        "425700714d8c4f3a8cd3140585963dea": {
          "model_module": "@jupyter-widgets/base",
          "model_module_version": "1.2.0",
          "model_name": "LayoutModel",
          "state": {
            "_model_module": "@jupyter-widgets/base",
            "_model_module_version": "1.2.0",
            "_model_name": "LayoutModel",
            "_view_count": null,
            "_view_module": "@jupyter-widgets/base",
            "_view_module_version": "1.2.0",
            "_view_name": "LayoutView",
            "align_content": null,
            "align_items": null,
            "align_self": null,
            "border": null,
            "bottom": null,
            "display": null,
            "flex": null,
            "flex_flow": null,
            "grid_area": null,
            "grid_auto_columns": null,
            "grid_auto_flow": null,
            "grid_auto_rows": null,
            "grid_column": null,
            "grid_gap": null,
            "grid_row": null,
            "grid_template_areas": null,
            "grid_template_columns": null,
            "grid_template_rows": null,
            "height": null,
            "justify_content": null,
            "justify_items": null,
            "left": null,
            "margin": null,
            "max_height": null,
            "max_width": null,
            "min_height": null,
            "min_width": null,
            "object_fit": null,
            "object_position": null,
            "order": null,
            "overflow": null,
            "overflow_x": null,
            "overflow_y": null,
            "padding": null,
            "right": null,
            "top": null,
            "visibility": null,
            "width": null
          }
        },
        "44a7bbb187984b21a6231049d66c112b": {
          "model_module": "@jupyter-widgets/controls",
          "model_module_version": "1.5.0",
          "model_name": "HBoxModel",
          "state": {
            "_dom_classes": [],
            "_model_module": "@jupyter-widgets/controls",
            "_model_module_version": "1.5.0",
            "_model_name": "HBoxModel",
            "_view_count": null,
            "_view_module": "@jupyter-widgets/controls",
            "_view_module_version": "1.5.0",
            "_view_name": "HBoxView",
            "box_style": "",
            "children": [
              "IPY_MODEL_d93112eb29064371a432e49f0f32550b",
              "IPY_MODEL_dd51696476604b6fb37dbc075c72a501",
              "IPY_MODEL_679655a8ae6e4efe93b5b450bda9ac9f"
            ],
            "layout": "IPY_MODEL_8eb30ba1354c45ccbc31cb82e6ed60aa"
          }
        },
        "45badec094034ac89797f8f8acb2bae8": {
          "model_module": "@jupyter-widgets/base",
          "model_module_version": "1.2.0",
          "model_name": "LayoutModel",
          "state": {
            "_model_module": "@jupyter-widgets/base",
            "_model_module_version": "1.2.0",
            "_model_name": "LayoutModel",
            "_view_count": null,
            "_view_module": "@jupyter-widgets/base",
            "_view_module_version": "1.2.0",
            "_view_name": "LayoutView",
            "align_content": null,
            "align_items": null,
            "align_self": null,
            "border": null,
            "bottom": null,
            "display": null,
            "flex": null,
            "flex_flow": null,
            "grid_area": null,
            "grid_auto_columns": null,
            "grid_auto_flow": null,
            "grid_auto_rows": null,
            "grid_column": null,
            "grid_gap": null,
            "grid_row": null,
            "grid_template_areas": null,
            "grid_template_columns": null,
            "grid_template_rows": null,
            "height": null,
            "justify_content": null,
            "justify_items": null,
            "left": null,
            "margin": null,
            "max_height": null,
            "max_width": null,
            "min_height": null,
            "min_width": null,
            "object_fit": null,
            "object_position": null,
            "order": null,
            "overflow": null,
            "overflow_x": null,
            "overflow_y": null,
            "padding": null,
            "right": null,
            "top": null,
            "visibility": null,
            "width": null
          }
        },
        "4fd9c51f8c8845b2a1accb04a066457b": {
          "model_module": "@jupyter-widgets/base",
          "model_module_version": "1.2.0",
          "model_name": "LayoutModel",
          "state": {
            "_model_module": "@jupyter-widgets/base",
            "_model_module_version": "1.2.0",
            "_model_name": "LayoutModel",
            "_view_count": null,
            "_view_module": "@jupyter-widgets/base",
            "_view_module_version": "1.2.0",
            "_view_name": "LayoutView",
            "align_content": null,
            "align_items": null,
            "align_self": null,
            "border": null,
            "bottom": null,
            "display": null,
            "flex": null,
            "flex_flow": null,
            "grid_area": null,
            "grid_auto_columns": null,
            "grid_auto_flow": null,
            "grid_auto_rows": null,
            "grid_column": null,
            "grid_gap": null,
            "grid_row": null,
            "grid_template_areas": null,
            "grid_template_columns": null,
            "grid_template_rows": null,
            "height": null,
            "justify_content": null,
            "justify_items": null,
            "left": null,
            "margin": null,
            "max_height": null,
            "max_width": null,
            "min_height": null,
            "min_width": null,
            "object_fit": null,
            "object_position": null,
            "order": null,
            "overflow": null,
            "overflow_x": null,
            "overflow_y": null,
            "padding": null,
            "right": null,
            "top": null,
            "visibility": null,
            "width": null
          }
        },
        "5287392568c04e9dad86d50fdc76fb00": {
          "model_module": "@jupyter-widgets/controls",
          "model_module_version": "1.5.0",
          "model_name": "DescriptionStyleModel",
          "state": {
            "_model_module": "@jupyter-widgets/controls",
            "_model_module_version": "1.5.0",
            "_model_name": "DescriptionStyleModel",
            "_view_count": null,
            "_view_module": "@jupyter-widgets/base",
            "_view_module_version": "1.2.0",
            "_view_name": "StyleView",
            "description_width": ""
          }
        },
        "55826442bb7f45f5a2c335e90d125fbc": {
          "model_module": "@jupyter-widgets/base",
          "model_module_version": "1.2.0",
          "model_name": "LayoutModel",
          "state": {
            "_model_module": "@jupyter-widgets/base",
            "_model_module_version": "1.2.0",
            "_model_name": "LayoutModel",
            "_view_count": null,
            "_view_module": "@jupyter-widgets/base",
            "_view_module_version": "1.2.0",
            "_view_name": "LayoutView",
            "align_content": null,
            "align_items": null,
            "align_self": null,
            "border": null,
            "bottom": null,
            "display": null,
            "flex": null,
            "flex_flow": null,
            "grid_area": null,
            "grid_auto_columns": null,
            "grid_auto_flow": null,
            "grid_auto_rows": null,
            "grid_column": null,
            "grid_gap": null,
            "grid_row": null,
            "grid_template_areas": null,
            "grid_template_columns": null,
            "grid_template_rows": null,
            "height": null,
            "justify_content": null,
            "justify_items": null,
            "left": null,
            "margin": null,
            "max_height": null,
            "max_width": null,
            "min_height": null,
            "min_width": null,
            "object_fit": null,
            "object_position": null,
            "order": null,
            "overflow": null,
            "overflow_x": null,
            "overflow_y": null,
            "padding": null,
            "right": null,
            "top": null,
            "visibility": null,
            "width": null
          }
        },
        "679655a8ae6e4efe93b5b450bda9ac9f": {
          "model_module": "@jupyter-widgets/controls",
          "model_module_version": "1.5.0",
          "model_name": "HTMLModel",
          "state": {
            "_dom_classes": [],
            "_model_module": "@jupyter-widgets/controls",
            "_model_module_version": "1.5.0",
            "_model_name": "HTMLModel",
            "_view_count": null,
            "_view_module": "@jupyter-widgets/controls",
            "_view_module_version": "1.5.0",
            "_view_name": "HTMLView",
            "description": "",
            "description_tooltip": null,
            "layout": "IPY_MODEL_07f291e906374f0896e5827c080837f3",
            "placeholder": "​",
            "style": "IPY_MODEL_f368e1be1b774aa4822c1d6d710b41ff",
            "value": " 268M/268M [00:04&lt;00:00, 46.8MB/s]"
          }
        },
        "69123e06e58c465d970327b8e40c2ef3": {
          "model_module": "@jupyter-widgets/controls",
          "model_module_version": "1.5.0",
          "model_name": "HBoxModel",
          "state": {
            "_dom_classes": [],
            "_model_module": "@jupyter-widgets/controls",
            "_model_module_version": "1.5.0",
            "_model_name": "HBoxModel",
            "_view_count": null,
            "_view_module": "@jupyter-widgets/controls",
            "_view_module_version": "1.5.0",
            "_view_name": "HBoxView",
            "box_style": "",
            "children": [
              "IPY_MODEL_72a31afa01644ef19bd08e482e87ab4c",
              "IPY_MODEL_f442fd0ecd2740afbeb55779b0322215",
              "IPY_MODEL_c6006201e13244dd9fa66694ef19b92a"
            ],
            "layout": "IPY_MODEL_4fd9c51f8c8845b2a1accb04a066457b"
          }
        },
        "694bc34ed81f4c4fb0c63be44922d951": {
          "model_module": "@jupyter-widgets/base",
          "model_module_version": "1.2.0",
          "model_name": "LayoutModel",
          "state": {
            "_model_module": "@jupyter-widgets/base",
            "_model_module_version": "1.2.0",
            "_model_name": "LayoutModel",
            "_view_count": null,
            "_view_module": "@jupyter-widgets/base",
            "_view_module_version": "1.2.0",
            "_view_name": "LayoutView",
            "align_content": null,
            "align_items": null,
            "align_self": null,
            "border": null,
            "bottom": null,
            "display": null,
            "flex": null,
            "flex_flow": null,
            "grid_area": null,
            "grid_auto_columns": null,
            "grid_auto_flow": null,
            "grid_auto_rows": null,
            "grid_column": null,
            "grid_gap": null,
            "grid_row": null,
            "grid_template_areas": null,
            "grid_template_columns": null,
            "grid_template_rows": null,
            "height": null,
            "justify_content": null,
            "justify_items": null,
            "left": null,
            "margin": null,
            "max_height": null,
            "max_width": null,
            "min_height": null,
            "min_width": null,
            "object_fit": null,
            "object_position": null,
            "order": null,
            "overflow": null,
            "overflow_x": null,
            "overflow_y": null,
            "padding": null,
            "right": null,
            "top": null,
            "visibility": null,
            "width": null
          }
        },
        "72a31afa01644ef19bd08e482e87ab4c": {
          "model_module": "@jupyter-widgets/controls",
          "model_module_version": "1.5.0",
          "model_name": "HTMLModel",
          "state": {
            "_dom_classes": [],
            "_model_module": "@jupyter-widgets/controls",
            "_model_module_version": "1.5.0",
            "_model_name": "HTMLModel",
            "_view_count": null,
            "_view_module": "@jupyter-widgets/controls",
            "_view_module_version": "1.5.0",
            "_view_name": "HTMLView",
            "description": "",
            "description_tooltip": null,
            "layout": "IPY_MODEL_694bc34ed81f4c4fb0c63be44922d951",
            "placeholder": "​",
            "style": "IPY_MODEL_ffe621ed9fc14c6c9882ba484258f5c2",
            "value": "Downloading: 100%"
          }
        },
        "74e6e4023e1e460abbdf2346ee194869": {
          "model_module": "@jupyter-widgets/base",
          "model_module_version": "1.2.0",
          "model_name": "LayoutModel",
          "state": {
            "_model_module": "@jupyter-widgets/base",
            "_model_module_version": "1.2.0",
            "_model_name": "LayoutModel",
            "_view_count": null,
            "_view_module": "@jupyter-widgets/base",
            "_view_module_version": "1.2.0",
            "_view_name": "LayoutView",
            "align_content": null,
            "align_items": null,
            "align_self": null,
            "border": null,
            "bottom": null,
            "display": null,
            "flex": null,
            "flex_flow": null,
            "grid_area": null,
            "grid_auto_columns": null,
            "grid_auto_flow": null,
            "grid_auto_rows": null,
            "grid_column": null,
            "grid_gap": null,
            "grid_row": null,
            "grid_template_areas": null,
            "grid_template_columns": null,
            "grid_template_rows": null,
            "height": null,
            "justify_content": null,
            "justify_items": null,
            "left": null,
            "margin": null,
            "max_height": null,
            "max_width": null,
            "min_height": null,
            "min_width": null,
            "object_fit": null,
            "object_position": null,
            "order": null,
            "overflow": null,
            "overflow_x": null,
            "overflow_y": null,
            "padding": null,
            "right": null,
            "top": null,
            "visibility": null,
            "width": null
          }
        },
        "7e7142975f744cc4bd3ea1abc8891552": {
          "model_module": "@jupyter-widgets/controls",
          "model_module_version": "1.5.0",
          "model_name": "HTMLModel",
          "state": {
            "_dom_classes": [],
            "_model_module": "@jupyter-widgets/controls",
            "_model_module_version": "1.5.0",
            "_model_name": "HTMLModel",
            "_view_count": null,
            "_view_module": "@jupyter-widgets/controls",
            "_view_module_version": "1.5.0",
            "_view_name": "HTMLView",
            "description": "",
            "description_tooltip": null,
            "layout": "IPY_MODEL_74e6e4023e1e460abbdf2346ee194869",
            "placeholder": "​",
            "style": "IPY_MODEL_5287392568c04e9dad86d50fdc76fb00",
            "value": "Downloading: 100%"
          }
        },
        "7ecdd32b15214f8daadda6ab73609bf3": {
          "model_module": "@jupyter-widgets/controls",
          "model_module_version": "1.5.0",
          "model_name": "HTMLModel",
          "state": {
            "_dom_classes": [],
            "_model_module": "@jupyter-widgets/controls",
            "_model_module_version": "1.5.0",
            "_model_name": "HTMLModel",
            "_view_count": null,
            "_view_module": "@jupyter-widgets/controls",
            "_view_module_version": "1.5.0",
            "_view_name": "HTMLView",
            "description": "",
            "description_tooltip": null,
            "layout": "IPY_MODEL_45badec094034ac89797f8f8acb2bae8",
            "placeholder": "​",
            "style": "IPY_MODEL_b9e024cd17d14cf681540f395cbfcee0",
            "value": "Downloading: 100%"
          }
        },
        "7f6a1b15f2ce4db4abc00e73d488e87a": {
          "model_module": "@jupyter-widgets/controls",
          "model_module_version": "1.5.0",
          "model_name": "FloatProgressModel",
          "state": {
            "_dom_classes": [],
            "_model_module": "@jupyter-widgets/controls",
            "_model_module_version": "1.5.0",
            "_model_name": "FloatProgressModel",
            "_view_count": null,
            "_view_module": "@jupyter-widgets/controls",
            "_view_module_version": "1.5.0",
            "_view_name": "ProgressView",
            "bar_style": "success",
            "description": "",
            "description_tooltip": null,
            "layout": "IPY_MODEL_ea1ec83f86e6424ebb3d000a4d64b488",
            "max": 629,
            "min": 0,
            "orientation": "horizontal",
            "style": "IPY_MODEL_38621f229ee8432592f93eca152b138c",
            "value": 629
          }
        },
        "833c8e50029e492d93430e9b9d6bcb01": {
          "model_module": "@jupyter-widgets/base",
          "model_module_version": "1.2.0",
          "model_name": "LayoutModel",
          "state": {
            "_model_module": "@jupyter-widgets/base",
            "_model_module_version": "1.2.0",
            "_model_name": "LayoutModel",
            "_view_count": null,
            "_view_module": "@jupyter-widgets/base",
            "_view_module_version": "1.2.0",
            "_view_name": "LayoutView",
            "align_content": null,
            "align_items": null,
            "align_self": null,
            "border": null,
            "bottom": null,
            "display": null,
            "flex": null,
            "flex_flow": null,
            "grid_area": null,
            "grid_auto_columns": null,
            "grid_auto_flow": null,
            "grid_auto_rows": null,
            "grid_column": null,
            "grid_gap": null,
            "grid_row": null,
            "grid_template_areas": null,
            "grid_template_columns": null,
            "grid_template_rows": null,
            "height": null,
            "justify_content": null,
            "justify_items": null,
            "left": null,
            "margin": null,
            "max_height": null,
            "max_width": null,
            "min_height": null,
            "min_width": null,
            "object_fit": null,
            "object_position": null,
            "order": null,
            "overflow": null,
            "overflow_x": null,
            "overflow_y": null,
            "padding": null,
            "right": null,
            "top": null,
            "visibility": null,
            "width": null
          }
        },
        "8dd8503e62f149e69189df18c4ce6d51": {
          "model_module": "@jupyter-widgets/base",
          "model_module_version": "1.2.0",
          "model_name": "LayoutModel",
          "state": {
            "_model_module": "@jupyter-widgets/base",
            "_model_module_version": "1.2.0",
            "_model_name": "LayoutModel",
            "_view_count": null,
            "_view_module": "@jupyter-widgets/base",
            "_view_module_version": "1.2.0",
            "_view_name": "LayoutView",
            "align_content": null,
            "align_items": null,
            "align_self": null,
            "border": null,
            "bottom": null,
            "display": null,
            "flex": null,
            "flex_flow": null,
            "grid_area": null,
            "grid_auto_columns": null,
            "grid_auto_flow": null,
            "grid_auto_rows": null,
            "grid_column": null,
            "grid_gap": null,
            "grid_row": null,
            "grid_template_areas": null,
            "grid_template_columns": null,
            "grid_template_rows": null,
            "height": null,
            "justify_content": null,
            "justify_items": null,
            "left": null,
            "margin": null,
            "max_height": null,
            "max_width": null,
            "min_height": null,
            "min_width": null,
            "object_fit": null,
            "object_position": null,
            "order": null,
            "overflow": null,
            "overflow_x": null,
            "overflow_y": null,
            "padding": null,
            "right": null,
            "top": null,
            "visibility": null,
            "width": null
          }
        },
        "8eb30ba1354c45ccbc31cb82e6ed60aa": {
          "model_module": "@jupyter-widgets/base",
          "model_module_version": "1.2.0",
          "model_name": "LayoutModel",
          "state": {
            "_model_module": "@jupyter-widgets/base",
            "_model_module_version": "1.2.0",
            "_model_name": "LayoutModel",
            "_view_count": null,
            "_view_module": "@jupyter-widgets/base",
            "_view_module_version": "1.2.0",
            "_view_name": "LayoutView",
            "align_content": null,
            "align_items": null,
            "align_self": null,
            "border": null,
            "bottom": null,
            "display": null,
            "flex": null,
            "flex_flow": null,
            "grid_area": null,
            "grid_auto_columns": null,
            "grid_auto_flow": null,
            "grid_auto_rows": null,
            "grid_column": null,
            "grid_gap": null,
            "grid_row": null,
            "grid_template_areas": null,
            "grid_template_columns": null,
            "grid_template_rows": null,
            "height": null,
            "justify_content": null,
            "justify_items": null,
            "left": null,
            "margin": null,
            "max_height": null,
            "max_width": null,
            "min_height": null,
            "min_width": null,
            "object_fit": null,
            "object_position": null,
            "order": null,
            "overflow": null,
            "overflow_x": null,
            "overflow_y": null,
            "padding": null,
            "right": null,
            "top": null,
            "visibility": null,
            "width": null
          }
        },
        "91b1be26c8f14253a901bd91cc172fa2": {
          "model_module": "@jupyter-widgets/controls",
          "model_module_version": "1.5.0",
          "model_name": "FloatProgressModel",
          "state": {
            "_dom_classes": [],
            "_model_module": "@jupyter-widgets/controls",
            "_model_module_version": "1.5.0",
            "_model_name": "FloatProgressModel",
            "_view_count": null,
            "_view_module": "@jupyter-widgets/controls",
            "_view_module_version": "1.5.0",
            "_view_name": "ProgressView",
            "bar_style": "success",
            "description": "",
            "description_tooltip": null,
            "layout": "IPY_MODEL_833c8e50029e492d93430e9b9d6bcb01",
            "max": 231508,
            "min": 0,
            "orientation": "horizontal",
            "style": "IPY_MODEL_a9dc04edf3524e62a079a28851b78bb4",
            "value": 231508
          }
        },
        "9d718b89c9ef4e33a26633c9170f7fdd": {
          "model_module": "@jupyter-widgets/controls",
          "model_module_version": "1.5.0",
          "model_name": "DescriptionStyleModel",
          "state": {
            "_model_module": "@jupyter-widgets/controls",
            "_model_module_version": "1.5.0",
            "_model_name": "DescriptionStyleModel",
            "_view_count": null,
            "_view_module": "@jupyter-widgets/base",
            "_view_module_version": "1.2.0",
            "_view_name": "StyleView",
            "description_width": ""
          }
        },
        "9e3b6b662d6b416096060cf08001eb55": {
          "model_module": "@jupyter-widgets/base",
          "model_module_version": "1.2.0",
          "model_name": "LayoutModel",
          "state": {
            "_model_module": "@jupyter-widgets/base",
            "_model_module_version": "1.2.0",
            "_model_name": "LayoutModel",
            "_view_count": null,
            "_view_module": "@jupyter-widgets/base",
            "_view_module_version": "1.2.0",
            "_view_name": "LayoutView",
            "align_content": null,
            "align_items": null,
            "align_self": null,
            "border": null,
            "bottom": null,
            "display": null,
            "flex": null,
            "flex_flow": null,
            "grid_area": null,
            "grid_auto_columns": null,
            "grid_auto_flow": null,
            "grid_auto_rows": null,
            "grid_column": null,
            "grid_gap": null,
            "grid_row": null,
            "grid_template_areas": null,
            "grid_template_columns": null,
            "grid_template_rows": null,
            "height": null,
            "justify_content": null,
            "justify_items": null,
            "left": null,
            "margin": null,
            "max_height": null,
            "max_width": null,
            "min_height": null,
            "min_width": null,
            "object_fit": null,
            "object_position": null,
            "order": null,
            "overflow": null,
            "overflow_x": null,
            "overflow_y": null,
            "padding": null,
            "right": null,
            "top": null,
            "visibility": null,
            "width": null
          }
        },
        "a959e3ad6bdb4e589da533cdbf8b39de": {
          "model_module": "@jupyter-widgets/controls",
          "model_module_version": "1.5.0",
          "model_name": "HTMLModel",
          "state": {
            "_dom_classes": [],
            "_model_module": "@jupyter-widgets/controls",
            "_model_module_version": "1.5.0",
            "_model_name": "HTMLModel",
            "_view_count": null,
            "_view_module": "@jupyter-widgets/controls",
            "_view_module_version": "1.5.0",
            "_view_name": "HTMLView",
            "description": "",
            "description_tooltip": null,
            "layout": "IPY_MODEL_20740fb986bc4dd4a29096c562c5372a",
            "placeholder": "​",
            "style": "IPY_MODEL_ff61c143aa114e808df48a55f282da66",
            "value": " 629/629 [00:00&lt;00:00, 14.9kB/s]"
          }
        },
        "a9dc04edf3524e62a079a28851b78bb4": {
          "model_module": "@jupyter-widgets/controls",
          "model_module_version": "1.5.0",
          "model_name": "ProgressStyleModel",
          "state": {
            "_model_module": "@jupyter-widgets/controls",
            "_model_module_version": "1.5.0",
            "_model_name": "ProgressStyleModel",
            "_view_count": null,
            "_view_module": "@jupyter-widgets/base",
            "_view_module_version": "1.2.0",
            "_view_name": "StyleView",
            "bar_color": null,
            "description_width": ""
          }
        },
        "b98de4a419c54d718f9348e7c2be039d": {
          "model_module": "@jupyter-widgets/controls",
          "model_module_version": "1.5.0",
          "model_name": "HBoxModel",
          "state": {
            "_dom_classes": [],
            "_model_module": "@jupyter-widgets/controls",
            "_model_module_version": "1.5.0",
            "_model_name": "HBoxModel",
            "_view_count": null,
            "_view_module": "@jupyter-widgets/controls",
            "_view_module_version": "1.5.0",
            "_view_name": "HBoxView",
            "box_style": "",
            "children": [
              "IPY_MODEL_7ecdd32b15214f8daadda6ab73609bf3",
              "IPY_MODEL_91b1be26c8f14253a901bd91cc172fa2",
              "IPY_MODEL_d4d93372dffe41c7a6e4dd89427e1eda"
            ],
            "layout": "IPY_MODEL_17844af4bdc5482c8f076b253d9618c8"
          }
        },
        "b9e024cd17d14cf681540f395cbfcee0": {
          "model_module": "@jupyter-widgets/controls",
          "model_module_version": "1.5.0",
          "model_name": "DescriptionStyleModel",
          "state": {
            "_model_module": "@jupyter-widgets/controls",
            "_model_module_version": "1.5.0",
            "_model_name": "DescriptionStyleModel",
            "_view_count": null,
            "_view_module": "@jupyter-widgets/base",
            "_view_module_version": "1.2.0",
            "_view_name": "StyleView",
            "description_width": ""
          }
        },
        "c6006201e13244dd9fa66694ef19b92a": {
          "model_module": "@jupyter-widgets/controls",
          "model_module_version": "1.5.0",
          "model_name": "HTMLModel",
          "state": {
            "_dom_classes": [],
            "_model_module": "@jupyter-widgets/controls",
            "_model_module_version": "1.5.0",
            "_model_name": "HTMLModel",
            "_view_count": null,
            "_view_module": "@jupyter-widgets/controls",
            "_view_module_version": "1.5.0",
            "_view_name": "HTMLView",
            "description": "",
            "description_tooltip": null,
            "layout": "IPY_MODEL_2d3b5aa9df5c432b93dbe12aacdbdcfe",
            "placeholder": "​",
            "style": "IPY_MODEL_dea4dc629e524dab8d42b36290dbf902",
            "value": " 48.0/48.0 [00:00&lt;00:00, 1.14kB/s]"
          }
        },
        "d3c3d0f5a58e4253b8ccab9ebcbd6e23": {
          "model_module": "@jupyter-widgets/controls",
          "model_module_version": "1.5.0",
          "model_name": "ProgressStyleModel",
          "state": {
            "_model_module": "@jupyter-widgets/controls",
            "_model_module_version": "1.5.0",
            "_model_name": "ProgressStyleModel",
            "_view_count": null,
            "_view_module": "@jupyter-widgets/base",
            "_view_module_version": "1.2.0",
            "_view_name": "StyleView",
            "bar_color": null,
            "description_width": ""
          }
        },
        "d4d93372dffe41c7a6e4dd89427e1eda": {
          "model_module": "@jupyter-widgets/controls",
          "model_module_version": "1.5.0",
          "model_name": "HTMLModel",
          "state": {
            "_dom_classes": [],
            "_model_module": "@jupyter-widgets/controls",
            "_model_module_version": "1.5.0",
            "_model_name": "HTMLModel",
            "_view_count": null,
            "_view_module": "@jupyter-widgets/controls",
            "_view_module_version": "1.5.0",
            "_view_name": "HTMLView",
            "description": "",
            "description_tooltip": null,
            "layout": "IPY_MODEL_8dd8503e62f149e69189df18c4ce6d51",
            "placeholder": "​",
            "style": "IPY_MODEL_9d718b89c9ef4e33a26633c9170f7fdd",
            "value": " 232k/232k [00:00&lt;00:00, 505kB/s]"
          }
        },
        "d93112eb29064371a432e49f0f32550b": {
          "model_module": "@jupyter-widgets/controls",
          "model_module_version": "1.5.0",
          "model_name": "HTMLModel",
          "state": {
            "_dom_classes": [],
            "_model_module": "@jupyter-widgets/controls",
            "_model_module_version": "1.5.0",
            "_model_name": "HTMLModel",
            "_view_count": null,
            "_view_module": "@jupyter-widgets/controls",
            "_view_module_version": "1.5.0",
            "_view_name": "HTMLView",
            "description": "",
            "description_tooltip": null,
            "layout": "IPY_MODEL_9e3b6b662d6b416096060cf08001eb55",
            "placeholder": "​",
            "style": "IPY_MODEL_393ff6b17ef440899f5a4c2d64995690",
            "value": "Downloading: 100%"
          }
        },
        "dd51696476604b6fb37dbc075c72a501": {
          "model_module": "@jupyter-widgets/controls",
          "model_module_version": "1.5.0",
          "model_name": "FloatProgressModel",
          "state": {
            "_dom_classes": [],
            "_model_module": "@jupyter-widgets/controls",
            "_model_module_version": "1.5.0",
            "_model_name": "FloatProgressModel",
            "_view_count": null,
            "_view_module": "@jupyter-widgets/controls",
            "_view_module_version": "1.5.0",
            "_view_name": "ProgressView",
            "bar_style": "success",
            "description": "",
            "description_tooltip": null,
            "layout": "IPY_MODEL_1a66067927d14c768cfc9cab704c20e2",
            "max": 267844284,
            "min": 0,
            "orientation": "horizontal",
            "style": "IPY_MODEL_d3c3d0f5a58e4253b8ccab9ebcbd6e23",
            "value": 267844284
          }
        },
        "dea4dc629e524dab8d42b36290dbf902": {
          "model_module": "@jupyter-widgets/controls",
          "model_module_version": "1.5.0",
          "model_name": "DescriptionStyleModel",
          "state": {
            "_model_module": "@jupyter-widgets/controls",
            "_model_module_version": "1.5.0",
            "_model_name": "DescriptionStyleModel",
            "_view_count": null,
            "_view_module": "@jupyter-widgets/base",
            "_view_module_version": "1.2.0",
            "_view_name": "StyleView",
            "description_width": ""
          }
        },
        "ea1ec83f86e6424ebb3d000a4d64b488": {
          "model_module": "@jupyter-widgets/base",
          "model_module_version": "1.2.0",
          "model_name": "LayoutModel",
          "state": {
            "_model_module": "@jupyter-widgets/base",
            "_model_module_version": "1.2.0",
            "_model_name": "LayoutModel",
            "_view_count": null,
            "_view_module": "@jupyter-widgets/base",
            "_view_module_version": "1.2.0",
            "_view_name": "LayoutView",
            "align_content": null,
            "align_items": null,
            "align_self": null,
            "border": null,
            "bottom": null,
            "display": null,
            "flex": null,
            "flex_flow": null,
            "grid_area": null,
            "grid_auto_columns": null,
            "grid_auto_flow": null,
            "grid_auto_rows": null,
            "grid_column": null,
            "grid_gap": null,
            "grid_row": null,
            "grid_template_areas": null,
            "grid_template_columns": null,
            "grid_template_rows": null,
            "height": null,
            "justify_content": null,
            "justify_items": null,
            "left": null,
            "margin": null,
            "max_height": null,
            "max_width": null,
            "min_height": null,
            "min_width": null,
            "object_fit": null,
            "object_position": null,
            "order": null,
            "overflow": null,
            "overflow_x": null,
            "overflow_y": null,
            "padding": null,
            "right": null,
            "top": null,
            "visibility": null,
            "width": null
          }
        },
        "f368e1be1b774aa4822c1d6d710b41ff": {
          "model_module": "@jupyter-widgets/controls",
          "model_module_version": "1.5.0",
          "model_name": "DescriptionStyleModel",
          "state": {
            "_model_module": "@jupyter-widgets/controls",
            "_model_module_version": "1.5.0",
            "_model_name": "DescriptionStyleModel",
            "_view_count": null,
            "_view_module": "@jupyter-widgets/base",
            "_view_module_version": "1.2.0",
            "_view_name": "StyleView",
            "description_width": ""
          }
        },
        "f442fd0ecd2740afbeb55779b0322215": {
          "model_module": "@jupyter-widgets/controls",
          "model_module_version": "1.5.0",
          "model_name": "FloatProgressModel",
          "state": {
            "_dom_classes": [],
            "_model_module": "@jupyter-widgets/controls",
            "_model_module_version": "1.5.0",
            "_model_name": "FloatProgressModel",
            "_view_count": null,
            "_view_module": "@jupyter-widgets/controls",
            "_view_module_version": "1.5.0",
            "_view_name": "ProgressView",
            "bar_style": "success",
            "description": "",
            "description_tooltip": null,
            "layout": "IPY_MODEL_425700714d8c4f3a8cd3140585963dea",
            "max": 48,
            "min": 0,
            "orientation": "horizontal",
            "style": "IPY_MODEL_1b3e8672a6444f44b15e7bb8738e0260",
            "value": 48
          }
        },
        "fddcbbb212114bbbb8dd39f8c117bb27": {
          "model_module": "@jupyter-widgets/controls",
          "model_module_version": "1.5.0",
          "model_name": "HBoxModel",
          "state": {
            "_dom_classes": [],
            "_model_module": "@jupyter-widgets/controls",
            "_model_module_version": "1.5.0",
            "_model_name": "HBoxModel",
            "_view_count": null,
            "_view_module": "@jupyter-widgets/controls",
            "_view_module_version": "1.5.0",
            "_view_name": "HBoxView",
            "box_style": "",
            "children": [
              "IPY_MODEL_7e7142975f744cc4bd3ea1abc8891552",
              "IPY_MODEL_7f6a1b15f2ce4db4abc00e73d488e87a",
              "IPY_MODEL_a959e3ad6bdb4e589da533cdbf8b39de"
            ],
            "layout": "IPY_MODEL_55826442bb7f45f5a2c335e90d125fbc"
          }
        },
        "ff61c143aa114e808df48a55f282da66": {
          "model_module": "@jupyter-widgets/controls",
          "model_module_version": "1.5.0",
          "model_name": "DescriptionStyleModel",
          "state": {
            "_model_module": "@jupyter-widgets/controls",
            "_model_module_version": "1.5.0",
            "_model_name": "DescriptionStyleModel",
            "_view_count": null,
            "_view_module": "@jupyter-widgets/base",
            "_view_module_version": "1.2.0",
            "_view_name": "StyleView",
            "description_width": ""
          }
        },
        "ffe621ed9fc14c6c9882ba484258f5c2": {
          "model_module": "@jupyter-widgets/controls",
          "model_module_version": "1.5.0",
          "model_name": "DescriptionStyleModel",
          "state": {
            "_model_module": "@jupyter-widgets/controls",
            "_model_module_version": "1.5.0",
            "_model_name": "DescriptionStyleModel",
            "_view_count": null,
            "_view_module": "@jupyter-widgets/base",
            "_view_module_version": "1.2.0",
            "_view_name": "StyleView",
            "description_width": ""
          }
        }
      }
    }
  },
  "nbformat": 4,
  "nbformat_minor": 0
}
